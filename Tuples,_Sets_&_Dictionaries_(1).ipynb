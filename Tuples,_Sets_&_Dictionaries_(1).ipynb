{
  "nbformat": 4,
  "nbformat_minor": 0,
  "metadata": {
    "kernelspec": {
      "display_name": "Python 3",
      "language": "python",
      "name": "python3"
    },
    "language_info": {
      "codemirror_mode": {
        "name": "ipython",
        "version": 3
      },
      "file_extension": ".py",
      "mimetype": "text/x-python",
      "name": "python",
      "nbconvert_exporter": "python",
      "pygments_lexer": "ipython3",
      "version": "3.7.4"
    },
    "colab": {
      "provenance": [],
      "collapsed_sections": [
        "v_Dz0Rf8x2wZ",
        "6NaL3DU1x2w1",
        "INOUJ-IJx2w1",
        "6MHUetrLx2w6",
        "o_B-5yhsx2w-",
        "FY0pToLax2xO",
        "yMYuf2Hvx2xV",
        "YMD--2K9x2xe",
        "McnlvCvFx2x4",
        "Y579P1fwx2yN",
        "Ehae_5psx2yT",
        "J78K33lKx2yh",
        "-imPGLIHx2ym",
        "nJm-OfZDx2yq",
        "syQXm4jBx2yx",
        "J44Z9VfMx2y9",
        "uL7e7NDox2y9",
        "tUaGyAtdx2y_",
        "_nSqsOiax2zB",
        "WsRmOWzVx2zG",
        "KdEUV4J3x2zT",
        "Rnlnm59rx2zi",
        "IC5NCQkmx2zl",
        "M2AfPxHSx2zp"
      ],
      "include_colab_link": true
    }
  },
  "cells": [
    {
      "cell_type": "markdown",
      "metadata": {
        "id": "view-in-github",
        "colab_type": "text"
      },
      "source": [
        "<a href=\"https://colab.research.google.com/github/Vaishali-2812/Python-Programming/blob/Python_Learning/Tuples%2C_Sets_%26_Dictionaries_(1).ipynb\" target=\"_parent\"><img src=\"https://colab.research.google.com/assets/colab-badge.svg\" alt=\"Open In Colab\"/></a>"
      ]
    },
    {
      "cell_type": "markdown",
      "metadata": {
        "id": "XyN6An5ux2v8"
      },
      "source": [
        "# Tuples\n",
        "\n",
        "* In Python tuples are very similar to lists, however, unlike lists they are *immutable* meaning they can not be changed.\n",
        "\n",
        "\n",
        "* You would use tuples to present things that shouldn't be changed, such as days of the week, or dates on a calendar.\n",
        "\n",
        "\n",
        "* You'll have an intuition of how to use tuples based on what you've learned about lists. We can treat them very similarly with the <u>major distinction being that tuples are immutable</u>.\n",
        "\n",
        "\n",
        "## Constructing Tuples\n",
        "\n",
        "* The construction of a tuples use <code>()</code> with elements separated by commas.\n",
        "\n",
        "* tuples are ordered in nature"
      ]
    },
    {
      "cell_type": "code",
      "metadata": {
        "id": "v6uqrGdAx2v-"
      },
      "source": [
        "# Create a tuple\n",
        "my_tuple = (1,'a',3)"
      ],
      "execution_count": null,
      "outputs": []
    },
    {
      "cell_type": "code",
      "metadata": {
        "id": "AJWmfPGsx2wC",
        "colab": {
          "base_uri": "https://localhost:8080/"
        },
        "outputId": "a955ce78-ea1b-4d58-f7f0-ad9753c05662"
      },
      "source": [
        "print(my_tuple)"
      ],
      "execution_count": null,
      "outputs": [
        {
          "output_type": "stream",
          "name": "stdout",
          "text": [
            "(1, 'a', 3)\n"
          ]
        }
      ]
    },
    {
      "cell_type": "code",
      "metadata": {
        "colab": {
          "base_uri": "https://localhost:8080/"
        },
        "id": "fxgESNwMThmv",
        "outputId": "c4674e53-01dd-4877-c49f-8ea4a41a8c83"
      },
      "source": [
        "type(my_tuple)"
      ],
      "execution_count": null,
      "outputs": [
        {
          "output_type": "execute_result",
          "data": {
            "text/plain": [
              "tuple"
            ]
          },
          "metadata": {},
          "execution_count": 4
        }
      ]
    },
    {
      "cell_type": "code",
      "metadata": {
        "id": "6Q1TOAyNx2wG",
        "colab": {
          "base_uri": "https://localhost:8080/"
        },
        "outputId": "9b256b81-5d5a-4a92-d090-a654ed946fa6"
      },
      "source": [
        "# Can also mix object types\n",
        "another_tuple = ('one',2, 4.53, 'asbc')\n",
        "\n",
        "# Show\n",
        "another_tuple"
      ],
      "execution_count": null,
      "outputs": [
        {
          "output_type": "execute_result",
          "data": {
            "text/plain": [
              "('one', 2, 4.53, 'asbc')"
            ]
          },
          "metadata": {},
          "execution_count": 6
        }
      ]
    },
    {
      "cell_type": "code",
      "metadata": {
        "id": "rdMQ9x4lwN3f"
      },
      "source": [
        "my_list = [1]"
      ],
      "execution_count": null,
      "outputs": []
    },
    {
      "cell_type": "code",
      "metadata": {
        "id": "N_mlfU7FwOnX",
        "colab": {
          "base_uri": "https://localhost:8080/"
        },
        "outputId": "3965d6ae-48b3-44ae-944a-7bd6fc9eb596"
      },
      "source": [
        "type(my_list)"
      ],
      "execution_count": null,
      "outputs": [
        {
          "output_type": "execute_result",
          "data": {
            "text/plain": [
              "list"
            ]
          },
          "metadata": {},
          "execution_count": 8
        }
      ]
    },
    {
      "cell_type": "code",
      "source": [
        "x = ('1')\n",
        "type(x)"
      ],
      "metadata": {
        "colab": {
          "base_uri": "https://localhost:8080/"
        },
        "id": "YdflCbDVQX9M",
        "outputId": "c983e1ce-b503-4f8c-81b9-cbd57c69beb9"
      },
      "execution_count": null,
      "outputs": [
        {
          "output_type": "execute_result",
          "data": {
            "text/plain": [
              "str"
            ]
          },
          "metadata": {},
          "execution_count": 15
        }
      ]
    },
    {
      "cell_type": "code",
      "source": [
        "t1 = ('apple','mango','cherry')\n",
        "print(t1[0])\n",
        "print(t1[1])"
      ],
      "metadata": {
        "colab": {
          "base_uri": "https://localhost:8080/"
        },
        "id": "eoQncvFpQ-lE",
        "outputId": "6fec53aa-559a-4178-faea-de791a8ce4e0"
      },
      "execution_count": null,
      "outputs": [
        {
          "output_type": "stream",
          "name": "stdout",
          "text": [
            "apple\n",
            "mango\n"
          ]
        }
      ]
    },
    {
      "cell_type": "code",
      "source": [
        "t2 = ('data','science','IT')\n",
        "t3 = ('IT', 'data', 'science')\n",
        "print(t3[0])"
      ],
      "metadata": {
        "colab": {
          "base_uri": "https://localhost:8080/"
        },
        "id": "vJsMRSInROSB",
        "outputId": "fe7c2a2b-9a5f-4603-91a8-5b22260d3d5c"
      },
      "execution_count": null,
      "outputs": [
        {
          "output_type": "stream",
          "name": "stdout",
          "text": [
            "IT\n"
          ]
        }
      ]
    },
    {
      "cell_type": "code",
      "source": [
        "t3[0] = 'A'"
      ],
      "metadata": {
        "colab": {
          "base_uri": "https://localhost:8080/",
          "height": 144
        },
        "id": "y80cMlDOSAFi",
        "outputId": "a984d0fd-1851-462a-dde9-99cd5b62b983"
      },
      "execution_count": null,
      "outputs": [
        {
          "output_type": "error",
          "ename": "TypeError",
          "evalue": "'tuple' object does not support item assignment",
          "traceback": [
            "\u001b[0;31m---------------------------------------------------------------------------\u001b[0m",
            "\u001b[0;31mTypeError\u001b[0m                                 Traceback (most recent call last)",
            "\u001b[0;32m<ipython-input-20-42972754a299>\u001b[0m in \u001b[0;36m<cell line: 0>\u001b[0;34m()\u001b[0m\n\u001b[0;32m----> 1\u001b[0;31m \u001b[0mt3\u001b[0m\u001b[0;34m[\u001b[0m\u001b[0;36m0\u001b[0m\u001b[0;34m]\u001b[0m \u001b[0;34m=\u001b[0m \u001b[0;34m'A'\u001b[0m\u001b[0;34m\u001b[0m\u001b[0;34m\u001b[0m\u001b[0m\n\u001b[0m",
            "\u001b[0;31mTypeError\u001b[0m: 'tuple' object does not support item assignment"
          ]
        }
      ]
    },
    {
      "cell_type": "code",
      "metadata": {
        "id": "Qg1qp0jGwPRZ"
      },
      "source": [
        "my_tuple = (1,)"
      ],
      "execution_count": null,
      "outputs": []
    },
    {
      "cell_type": "code",
      "metadata": {
        "id": "dFs4gMVowaRh",
        "colab": {
          "base_uri": "https://localhost:8080/"
        },
        "outputId": "77f007c3-bfb1-4860-8ce0-1dba2e191e07"
      },
      "source": [
        "type(my_tuple)"
      ],
      "execution_count": null,
      "outputs": [
        {
          "output_type": "execute_result",
          "data": {
            "text/plain": [
              "tuple"
            ]
          },
          "metadata": {},
          "execution_count": 22
        }
      ]
    },
    {
      "cell_type": "code",
      "metadata": {
        "id": "dpbiMeBzUkA5"
      },
      "source": [
        "my_tuple = 1,2,3"
      ],
      "execution_count": null,
      "outputs": []
    },
    {
      "cell_type": "code",
      "metadata": {
        "id": "mhzDE0a5wzsN",
        "colab": {
          "base_uri": "https://localhost:8080/"
        },
        "outputId": "880bc673-b245-4ef9-a55b-1965a7171003"
      },
      "source": [
        "type(my_tuple)"
      ],
      "execution_count": null,
      "outputs": [
        {
          "output_type": "execute_result",
          "data": {
            "text/plain": [
              "tuple"
            ]
          },
          "metadata": {},
          "execution_count": 24
        }
      ]
    },
    {
      "cell_type": "code",
      "metadata": {
        "id": "3XasyDgzwaft"
      },
      "source": [
        "my_tuple = (1,2,3,4)"
      ],
      "execution_count": null,
      "outputs": []
    },
    {
      "cell_type": "code",
      "metadata": {
        "id": "huPIwRVVx2wK",
        "colab": {
          "base_uri": "https://localhost:8080/"
        },
        "outputId": "27fa655e-0119-4594-f0fe-27b2c5706008"
      },
      "source": [
        "len(my_tuple)"
      ],
      "execution_count": null,
      "outputs": [
        {
          "output_type": "execute_result",
          "data": {
            "text/plain": [
              "4"
            ]
          },
          "metadata": {},
          "execution_count": 26
        }
      ]
    },
    {
      "cell_type": "markdown",
      "metadata": {
        "id": "QutmafNzx2wN"
      },
      "source": [
        "## Tuple Indexing\n",
        "\n",
        "* Indexing work just like in lists.\n",
        "\n",
        "\n",
        "* A tuple index refers to the location of an element in a tuple.\n",
        "\n",
        "\n",
        "* Remember the indexing begins from 0 in Python.\n",
        "\n",
        "\n",
        "* The first element is assigned an index 0, the second element is assigned an index of 1 and so on and so forth."
      ]
    },
    {
      "cell_type": "code",
      "metadata": {
        "colab": {
          "base_uri": "https://localhost:8080/"
        },
        "id": "ZpAn22VZV5o7",
        "outputId": "5c4234c8-44e4-434e-a217-cf47c3cc5a3d"
      },
      "source": [
        "print(another_tuple)"
      ],
      "execution_count": null,
      "outputs": [
        {
          "output_type": "stream",
          "name": "stdout",
          "text": [
            "('one', 2, 4.53, 'asbc')\n"
          ]
        }
      ]
    },
    {
      "cell_type": "code",
      "metadata": {
        "id": "wcxawypZx2wN",
        "colab": {
          "base_uri": "https://localhost:8080/",
          "height": 35
        },
        "outputId": "09d9e40f-bc94-4b30-82e3-c8865c254725"
      },
      "source": [
        "# Grab the element at index 0, which is the FIRST element\n",
        "another_tuple[0]"
      ],
      "execution_count": null,
      "outputs": [
        {
          "output_type": "execute_result",
          "data": {
            "text/plain": [
              "'one'"
            ],
            "application/vnd.google.colaboratory.intrinsic+json": {
              "type": "string"
            }
          },
          "metadata": {},
          "execution_count": 31
        }
      ]
    },
    {
      "cell_type": "code",
      "metadata": {
        "id": "cGmGukFtx2wR",
        "colab": {
          "base_uri": "https://localhost:8080/",
          "height": 35
        },
        "outputId": "28de9798-d450-452a-aafb-9970ad01dff3"
      },
      "source": [
        "# Grab the element at index 3, which is the FOURTH element\n",
        "another_tuple[3]"
      ],
      "execution_count": null,
      "outputs": [
        {
          "output_type": "execute_result",
          "data": {
            "text/plain": [
              "'asbc'"
            ],
            "application/vnd.google.colaboratory.intrinsic+json": {
              "type": "string"
            }
          },
          "metadata": {},
          "execution_count": 32
        }
      ]
    },
    {
      "cell_type": "code",
      "metadata": {
        "id": "juNr6LZnx2wU",
        "colab": {
          "base_uri": "https://localhost:8080/",
          "height": 35
        },
        "outputId": "9c3cb797-61c9-472f-9d9f-a42308a42456"
      },
      "source": [
        "# Grab the element at the index -1, which is the LAST element\n",
        "another_tuple[-1]"
      ],
      "execution_count": null,
      "outputs": [
        {
          "output_type": "execute_result",
          "data": {
            "text/plain": [
              "'asbc'"
            ],
            "application/vnd.google.colaboratory.intrinsic+json": {
              "type": "string"
            }
          },
          "metadata": {},
          "execution_count": 33
        }
      ]
    },
    {
      "cell_type": "code",
      "metadata": {
        "id": "bZiLXFa3x2wX",
        "colab": {
          "base_uri": "https://localhost:8080/"
        },
        "outputId": "9ea4f41f-a825-438e-93c4-e8b2f864742e"
      },
      "source": [
        "# Grab the element at the index -3, which is the THIRD LAST element\n",
        "another_tuple[-3]"
      ],
      "execution_count": null,
      "outputs": [
        {
          "output_type": "execute_result",
          "data": {
            "text/plain": [
              "2"
            ]
          },
          "metadata": {
            "tags": []
          },
          "execution_count": 29
        }
      ]
    },
    {
      "cell_type": "markdown",
      "metadata": {
        "id": "v_Dz0Rf8x2wZ"
      },
      "source": [
        "## Tuple Slicing\n",
        "\n",
        "* We can use a <code>:</code> to perform *slicing* which grabs everything up to a designated point.\n",
        "\n",
        "\n",
        "* The starting index is specified on the left of the <code>:</code> and the ending index is specified on the right of the <code>:</code>.\n",
        "\n",
        "\n",
        "* Remember the element located at the right index is not included."
      ]
    },
    {
      "cell_type": "code",
      "metadata": {
        "id": "gpNaAjgLx2wZ",
        "colab": {
          "base_uri": "https://localhost:8080/"
        },
        "outputId": "cca31358-46cd-48e4-a6e8-e7fe5b45fad6"
      },
      "source": [
        "# Print our list\n",
        "print(another_tuple)"
      ],
      "execution_count": null,
      "outputs": [
        {
          "output_type": "stream",
          "name": "stdout",
          "text": [
            "('one', 2, 4.53, 'asbc')\n"
          ]
        }
      ]
    },
    {
      "cell_type": "code",
      "metadata": {
        "id": "KOVYp2O-x2wc",
        "colab": {
          "base_uri": "https://localhost:8080/"
        },
        "outputId": "840c0ae3-35a6-4429-8c3f-3163d6d50bf9"
      },
      "source": [
        "# Grab the elements starting from index 1 and everything past it\n",
        "another_tuple[1:3]"
      ],
      "execution_count": null,
      "outputs": [
        {
          "output_type": "execute_result",
          "data": {
            "text/plain": [
              "(2, 4.53)"
            ]
          },
          "metadata": {
            "tags": []
          },
          "execution_count": 31
        }
      ]
    },
    {
      "cell_type": "markdown",
      "metadata": {
        "id": "tRf9M55tx2wf"
      },
      "source": [
        "* If you do not specify the ending index, then all elements are extracted which comes after the starting index including the element at that starting index. The operation knows only to stop when it has run through the entire tuple."
      ]
    },
    {
      "cell_type": "code",
      "metadata": {
        "id": "qP9KxBbwx2wf",
        "colab": {
          "base_uri": "https://localhost:8080/"
        },
        "outputId": "f00971a6-55c9-4a3f-97ad-f8b48210948a"
      },
      "source": [
        "# Grab everything starting from index 2\n",
        "another_tuple[2:]"
      ],
      "execution_count": null,
      "outputs": [
        {
          "output_type": "execute_result",
          "data": {
            "text/plain": [
              "(4.53, 'asbc')"
            ]
          },
          "metadata": {},
          "execution_count": 35
        }
      ]
    },
    {
      "cell_type": "markdown",
      "metadata": {
        "id": "PgKv1f2qx2wj"
      },
      "source": [
        "* If you do not specify the starting index, then all elements are extracted which comes befores the ending index excluding the element at the specified ending index. The operation knows only to stop when it has extracted all elements before the  element at the ending index."
      ]
    },
    {
      "cell_type": "code",
      "metadata": {
        "id": "u_kPO20kx2wj",
        "colab": {
          "base_uri": "https://localhost:8080/"
        },
        "outputId": "cdf39849-7ebb-46ac-8ce7-23f0307083c6"
      },
      "source": [
        "# Grab everything before the index 4\n",
        "another_tuple[:6]"
      ],
      "execution_count": null,
      "outputs": [
        {
          "output_type": "execute_result",
          "data": {
            "text/plain": [
              "('one', 2, 4.53, 'asbc')"
            ]
          },
          "metadata": {
            "tags": []
          },
          "execution_count": 34
        }
      ]
    },
    {
      "cell_type": "markdown",
      "metadata": {
        "id": "1qkOSf_Vx2wn"
      },
      "source": [
        "* If you do not specify the starting and the ending index, it will extract all elements of the tuple."
      ]
    },
    {
      "cell_type": "code",
      "metadata": {
        "id": "2dIvFwW9x2wn",
        "colab": {
          "base_uri": "https://localhost:8080/"
        },
        "outputId": "a048b161-a653-42a4-c39a-6f6ea5e8a24a"
      },
      "source": [
        "# Grab everything\n",
        "another_tuple"
      ],
      "execution_count": null,
      "outputs": [
        {
          "output_type": "execute_result",
          "data": {
            "text/plain": [
              "('one', 2, 4.53, 'asbc')"
            ]
          },
          "metadata": {},
          "execution_count": 36
        }
      ]
    },
    {
      "cell_type": "markdown",
      "metadata": {
        "id": "SdKU_cPFx2wp"
      },
      "source": [
        "* We can also extract the last four elements. Remember we can use the index -4 to extract the FOURTH LAST element"
      ]
    },
    {
      "cell_type": "code",
      "metadata": {
        "id": "gvcyMuHkx2wq",
        "colab": {
          "base_uri": "https://localhost:8080/"
        },
        "outputId": "5c53ec4f-e24b-4629-df28-f301f05f2551"
      },
      "source": [
        "# Grab the LAST FOUR elements of the list\n",
        "another_tuple[-4:]"
      ],
      "execution_count": null,
      "outputs": [
        {
          "output_type": "execute_result",
          "data": {
            "text/plain": [
              "('one', 2, 4.53, 'asbc')"
            ]
          },
          "metadata": {},
          "execution_count": 37
        }
      ]
    },
    {
      "cell_type": "markdown",
      "metadata": {
        "id": "9lCrYVHmx2ws"
      },
      "source": [
        "* It should also be noted that tuple indexing will return an error if there is no element at that index."
      ]
    },
    {
      "cell_type": "code",
      "metadata": {
        "id": "qbHiONdnx2wt",
        "colab": {
          "base_uri": "https://localhost:8080/",
          "height": 144
        },
        "outputId": "59e309b9-4e47-4484-9fc0-2c398a8f359a"
      },
      "source": [
        "another_tuple[5]"
      ],
      "execution_count": null,
      "outputs": [
        {
          "output_type": "error",
          "ename": "IndexError",
          "evalue": "tuple index out of range",
          "traceback": [
            "\u001b[0;31m---------------------------------------------------------------------------\u001b[0m",
            "\u001b[0;31mIndexError\u001b[0m                                Traceback (most recent call last)",
            "\u001b[0;32m<ipython-input-38-3d51a942c11d>\u001b[0m in \u001b[0;36m<cell line: 0>\u001b[0;34m()\u001b[0m\n\u001b[0;32m----> 1\u001b[0;31m \u001b[0manother_tuple\u001b[0m\u001b[0;34m[\u001b[0m\u001b[0;36m5\u001b[0m\u001b[0;34m]\u001b[0m\u001b[0;34m\u001b[0m\u001b[0;34m\u001b[0m\u001b[0m\n\u001b[0m",
            "\u001b[0;31mIndexError\u001b[0m: tuple index out of range"
          ]
        }
      ]
    },
    {
      "cell_type": "code",
      "metadata": {
        "id": "CzJEQohvx2wy",
        "colab": {
          "base_uri": "https://localhost:8080/"
        },
        "outputId": "7794acb7-0a46-4cb8-8441-17002fe90bec"
      },
      "source": [
        "# Check len just like a list\n",
        "len(another_tuple)"
      ],
      "execution_count": null,
      "outputs": [
        {
          "output_type": "execute_result",
          "data": {
            "text/plain": [
              "4"
            ]
          },
          "metadata": {},
          "execution_count": 39
        }
      ]
    },
    {
      "cell_type": "code",
      "metadata": {
        "id": "voUVF0NfyuM9"
      },
      "source": [
        "random_tuple = (1,5,6,2)"
      ],
      "execution_count": null,
      "outputs": []
    },
    {
      "cell_type": "code",
      "metadata": {
        "id": "EbGyqDzUyyX6",
        "colab": {
          "base_uri": "https://localhost:8080/"
        },
        "outputId": "b8a0585e-2d52-48bb-9842-998fa1ab0745"
      },
      "source": [
        "sorted(random_tuple)"
      ],
      "execution_count": null,
      "outputs": [
        {
          "output_type": "execute_result",
          "data": {
            "text/plain": [
              "[1, 2, 5, 6]"
            ]
          },
          "metadata": {},
          "execution_count": 41
        }
      ]
    },
    {
      "cell_type": "markdown",
      "metadata": {
        "id": "6NaL3DU1x2w1"
      },
      "source": [
        "## Tuple Methods\n",
        "\n",
        "* Tuples have built-in methods, but not as many as lists do."
      ]
    },
    {
      "cell_type": "markdown",
      "metadata": {
        "id": "INOUJ-IJx2w1"
      },
      "source": [
        "### <code>index()</code>\n",
        "\n",
        "\n",
        "* The <code>index()</code> method returns the index of a specified element."
      ]
    },
    {
      "cell_type": "code",
      "metadata": {
        "id": "PxssLKRkx2w2"
      },
      "source": [
        "my_tuple =(1,2,3,4,5,6,1,1,2)"
      ],
      "execution_count": null,
      "outputs": []
    },
    {
      "cell_type": "code",
      "source": [
        "my_tuple.index(4)"
      ],
      "metadata": {
        "colab": {
          "base_uri": "https://localhost:8080/"
        },
        "id": "hi6QBrQhTVnt",
        "outputId": "c2694089-58b3-41b6-c797-1f998bb0ea5a"
      },
      "execution_count": null,
      "outputs": [
        {
          "output_type": "execute_result",
          "data": {
            "text/plain": [
              "3"
            ]
          },
          "metadata": {},
          "execution_count": 47
        }
      ]
    },
    {
      "cell_type": "code",
      "metadata": {
        "id": "5YOxgp1Xx2w4",
        "colab": {
          "base_uri": "https://localhost:8080/"
        },
        "outputId": "bd13f001-acf9-4155-d0bd-c98cac742ca7"
      },
      "source": [
        "# Use .index to enter a value and return the index\n",
        "my_tuple.index(2)"
      ],
      "execution_count": null,
      "outputs": [
        {
          "output_type": "execute_result",
          "data": {
            "text/plain": [
              "1"
            ]
          },
          "metadata": {},
          "execution_count": 50
        }
      ]
    },
    {
      "cell_type": "markdown",
      "metadata": {
        "id": "6MHUetrLx2w6"
      },
      "source": [
        "### <code>count()</code>\n",
        "\n",
        "\n",
        "* The <code>count()</code> method returns the total occurrence of a specified element in a tuple"
      ]
    },
    {
      "cell_type": "code",
      "source": [],
      "metadata": {
        "id": "cRS0dO-ET7Bq"
      },
      "execution_count": null,
      "outputs": []
    },
    {
      "cell_type": "code",
      "metadata": {
        "id": "InNQ8DqUx2w6",
        "colab": {
          "base_uri": "https://localhost:8080/"
        },
        "outputId": "f7cc220f-acb8-474f-d95e-6d7006175bb3"
      },
      "source": [
        "# Use .count to count the number of times a value appears\n",
        "my_tuple.count(2)"
      ],
      "execution_count": null,
      "outputs": [
        {
          "output_type": "execute_result",
          "data": {
            "text/plain": [
              "2"
            ]
          },
          "metadata": {},
          "execution_count": 51
        }
      ]
    },
    {
      "cell_type": "code",
      "metadata": {
        "id": "cINAVl65x2w8",
        "colab": {
          "base_uri": "https://localhost:8080/"
        },
        "outputId": "611823ab-3b90-45c8-c41a-530beb987482"
      },
      "source": [
        "my_tuple.count(1)"
      ],
      "execution_count": null,
      "outputs": [
        {
          "output_type": "execute_result",
          "data": {
            "text/plain": [
              "3"
            ]
          },
          "metadata": {},
          "execution_count": 52
        }
      ]
    },
    {
      "cell_type": "code",
      "metadata": {
        "id": "FJwxB5x3ZRQw",
        "colab": {
          "base_uri": "https://localhost:8080/",
          "height": 108
        },
        "outputId": "e187f320-7c30-4c1a-c915-dcb2a02b5b49"
      },
      "source": [
        "my_tuple."
      ],
      "execution_count": null,
      "outputs": [
        {
          "output_type": "error",
          "ename": "SyntaxError",
          "evalue": "invalid syntax (<ipython-input-53-2992ad00ec67>, line 1)",
          "traceback": [
            "\u001b[0;36m  File \u001b[0;32m\"<ipython-input-53-2992ad00ec67>\"\u001b[0;36m, line \u001b[0;32m1\u001b[0m\n\u001b[0;31m    my_tuple.\u001b[0m\n\u001b[0m             ^\u001b[0m\n\u001b[0;31mSyntaxError\u001b[0m\u001b[0;31m:\u001b[0m invalid syntax\n"
          ]
        }
      ]
    },
    {
      "cell_type": "code",
      "metadata": {
        "id": "77eLJW6VZVbA"
      },
      "source": [
        "my_list = [1,2,3,4]"
      ],
      "execution_count": null,
      "outputs": []
    },
    {
      "cell_type": "code",
      "metadata": {
        "id": "7az6tjANZXXA",
        "colab": {
          "base_uri": "https://localhost:8080/",
          "height": 108
        },
        "outputId": "a08fb041-0118-42bc-d8b8-a7e0e55f1794"
      },
      "source": [
        "my_list."
      ],
      "execution_count": null,
      "outputs": [
        {
          "output_type": "error",
          "ename": "SyntaxError",
          "evalue": "invalid syntax (<ipython-input-55-9b5cba9dc869>, line 1)",
          "traceback": [
            "\u001b[0;36m  File \u001b[0;32m\"<ipython-input-55-9b5cba9dc869>\"\u001b[0;36m, line \u001b[0;32m1\u001b[0m\n\u001b[0;31m    my_list.\u001b[0m\n\u001b[0m            ^\u001b[0m\n\u001b[0;31mSyntaxError\u001b[0m\u001b[0;31m:\u001b[0m invalid syntax\n"
          ]
        }
      ]
    },
    {
      "cell_type": "markdown",
      "metadata": {
        "id": "o_B-5yhsx2w-"
      },
      "source": [
        "## Immutability\n",
        "\n",
        "* It can't be stressed enough that tuples are immutable."
      ]
    },
    {
      "cell_type": "code",
      "metadata": {
        "colab": {
          "base_uri": "https://localhost:8080/"
        },
        "id": "eVHBqLlkZ79R",
        "outputId": "f9c31991-dda5-4f94-e3ce-d701ba048f9e"
      },
      "source": [
        "print(my_tuple)"
      ],
      "execution_count": null,
      "outputs": [
        {
          "output_type": "stream",
          "name": "stdout",
          "text": [
            "(1, 2, 3, 4, 5, 6, 1, 1, 2)\n"
          ]
        }
      ]
    },
    {
      "cell_type": "code",
      "metadata": {
        "id": "VO93y72Gx2w_",
        "colab": {
          "base_uri": "https://localhost:8080/"
        },
        "outputId": "a7f53867-cd81-4c40-b60e-d7109a471bd1"
      },
      "source": [
        "my_tuple[0]"
      ],
      "execution_count": null,
      "outputs": [
        {
          "output_type": "execute_result",
          "data": {
            "text/plain": [
              "1"
            ]
          },
          "metadata": {},
          "execution_count": 57
        }
      ]
    },
    {
      "cell_type": "code",
      "source": [
        "id(my_tuple)"
      ],
      "metadata": {
        "colab": {
          "base_uri": "https://localhost:8080/"
        },
        "id": "tWMuP1RsUE_m",
        "outputId": "f0f544d5-2453-4b07-e7a5-111bb2a12425"
      },
      "execution_count": null,
      "outputs": [
        {
          "output_type": "execute_result",
          "data": {
            "text/plain": [
              "137369651086720"
            ]
          },
          "metadata": {},
          "execution_count": 59
        }
      ]
    },
    {
      "cell_type": "code",
      "source": [
        "id(my_tuple[0])"
      ],
      "metadata": {
        "colab": {
          "base_uri": "https://localhost:8080/"
        },
        "id": "xhyvSGbeUL8f",
        "outputId": "931fc56e-c21c-429c-8ced-37d248c635d1"
      },
      "execution_count": null,
      "outputs": [
        {
          "output_type": "execute_result",
          "data": {
            "text/plain": [
              "10750856"
            ]
          },
          "metadata": {},
          "execution_count": 60
        }
      ]
    },
    {
      "cell_type": "code",
      "metadata": {
        "id": "w5IKgVqkx2xB",
        "colab": {
          "base_uri": "https://localhost:8080/",
          "height": 166
        },
        "outputId": "b04877e4-70ba-4632-f636-9dbc157c5c2c"
      },
      "source": [
        "my_tuple[0] = 'change'"
      ],
      "execution_count": null,
      "outputs": [
        {
          "output_type": "error",
          "ename": "TypeError",
          "evalue": "ignored",
          "traceback": [
            "\u001b[0;31m---------------------------------------------------------------------------\u001b[0m",
            "\u001b[0;31mTypeError\u001b[0m                                 Traceback (most recent call last)",
            "\u001b[0;32m<ipython-input-48-1113c19e61ee>\u001b[0m in \u001b[0;36m<module>\u001b[0;34m()\u001b[0m\n\u001b[0;32m----> 1\u001b[0;31m \u001b[0mmy_tuple\u001b[0m\u001b[0;34m[\u001b[0m\u001b[0;36m0\u001b[0m\u001b[0;34m]\u001b[0m \u001b[0;34m=\u001b[0m \u001b[0;34m'change'\u001b[0m\u001b[0;34m\u001b[0m\u001b[0;34m\u001b[0m\u001b[0m\n\u001b[0m",
            "\u001b[0;31mTypeError\u001b[0m: 'tuple' object does not support item assignment"
          ]
        }
      ]
    },
    {
      "cell_type": "markdown",
      "metadata": {
        "id": "AY5i1-jrx2xD"
      },
      "source": [
        "* Because of this immutability, tuples can't grow. Once a tuple is made we can not add to it."
      ]
    },
    {
      "cell_type": "markdown",
      "metadata": {
        "id": "Wu7kIjSNx2xE"
      },
      "source": [
        "* Let us consider a list and lets see if we can do this operation on them"
      ]
    },
    {
      "cell_type": "code",
      "metadata": {
        "id": "iv-fMwN-x2xE"
      },
      "source": [
        "# Create a list\n",
        "my_list = [5,7,9,3,2]"
      ],
      "execution_count": null,
      "outputs": []
    },
    {
      "cell_type": "code",
      "metadata": {
        "id": "7tzllaFJx2xG"
      },
      "source": [
        "# Replace the FIRST element with the value 1\n",
        "my_list[0] = 1"
      ],
      "execution_count": null,
      "outputs": []
    },
    {
      "cell_type": "code",
      "metadata": {
        "id": "Srx-bzhDx2xJ",
        "colab": {
          "base_uri": "https://localhost:8080/"
        },
        "outputId": "b81c332e-f850-423d-af92-92967954bbc8"
      },
      "source": [
        "# Our modified list\n",
        "my_list"
      ],
      "execution_count": null,
      "outputs": [
        {
          "output_type": "execute_result",
          "data": {
            "text/plain": [
              "[1, 7, 9, 3, 2]"
            ]
          },
          "metadata": {},
          "execution_count": 63
        }
      ]
    },
    {
      "cell_type": "markdown",
      "metadata": {
        "id": "4JSa0bw9x2xL"
      },
      "source": [
        "* Tuple does not support methods such as <code>append()</code>, <code>extend()</code>, <code>remove()</code>, <code>pop()</code>"
      ]
    },
    {
      "cell_type": "code",
      "metadata": {
        "id": "zY0mWGohx2xM",
        "colab": {
          "base_uri": "https://localhost:8080/",
          "height": 144
        },
        "outputId": "7a9011e2-ac5d-4399-c3c6-5a36b01c044d"
      },
      "source": [
        "my_tuple.append('Great!')"
      ],
      "execution_count": null,
      "outputs": [
        {
          "output_type": "error",
          "ename": "AttributeError",
          "evalue": "'tuple' object has no attribute 'append'",
          "traceback": [
            "\u001b[0;31m---------------------------------------------------------------------------\u001b[0m",
            "\u001b[0;31mAttributeError\u001b[0m                            Traceback (most recent call last)",
            "\u001b[0;32m<ipython-input-64-762f4e61335a>\u001b[0m in \u001b[0;36m<cell line: 0>\u001b[0;34m()\u001b[0m\n\u001b[0;32m----> 1\u001b[0;31m \u001b[0mmy_tuple\u001b[0m\u001b[0;34m.\u001b[0m\u001b[0mappend\u001b[0m\u001b[0;34m(\u001b[0m\u001b[0;34m'Great!'\u001b[0m\u001b[0;34m)\u001b[0m\u001b[0;34m\u001b[0m\u001b[0;34m\u001b[0m\u001b[0m\n\u001b[0m",
            "\u001b[0;31mAttributeError\u001b[0m: 'tuple' object has no attribute 'append'"
          ]
        }
      ]
    },
    {
      "cell_type": "markdown",
      "metadata": {
        "id": "FY0pToLax2xO"
      },
      "source": [
        "### <code>zip()</code>\n",
        "\n",
        "\n",
        "* <code>zip()</code> function takes multiple lists as arguments and zips them together\n",
        "\n",
        "\n",
        "* This function returns a list of n-paired tuples where n is the number of lists being zipped"
      ]
    },
    {
      "cell_type": "code",
      "metadata": {
        "id": "nZqkre4Ex2xP"
      },
      "source": [
        "city_list = ['Delhi','Patna','Cuttack','Guwahati']\n",
        "river_list = ['Yamuna','Ganga','Mahanadi','Brahmaputra']"
      ],
      "execution_count": null,
      "outputs": []
    },
    {
      "cell_type": "code",
      "metadata": {
        "colab": {
          "base_uri": "https://localhost:8080/"
        },
        "id": "557Z0mC-cXRE",
        "outputId": "e1634a50-05d9-4151-936a-39a7d1d68836"
      },
      "source": [
        "zip(city_list, river_list)"
      ],
      "execution_count": null,
      "outputs": [
        {
          "output_type": "execute_result",
          "data": {
            "text/plain": [
              "<zip at 0x7cefddcf4880>"
            ]
          },
          "metadata": {},
          "execution_count": 66
        }
      ]
    },
    {
      "cell_type": "code",
      "metadata": {
        "id": "Z4nluMN5x2xR"
      },
      "source": [
        "city_and_their_rivers = list(zip(city_list,river_list))"
      ],
      "execution_count": null,
      "outputs": []
    },
    {
      "cell_type": "code",
      "metadata": {
        "id": "y2NaSS0tx2xT",
        "colab": {
          "base_uri": "https://localhost:8080/"
        },
        "outputId": "a7235fb8-956c-4bec-ed41-3d8e7f57ed8e"
      },
      "source": [
        "city_and_their_rivers"
      ],
      "execution_count": null,
      "outputs": [
        {
          "output_type": "execute_result",
          "data": {
            "text/plain": [
              "[('Delhi', 'Yamuna'),\n",
              " ('Patna', 'Ganga'),\n",
              " ('Cuttack', 'Mahanadi'),\n",
              " ('Guwahati', 'Brahmaputra')]"
            ]
          },
          "metadata": {},
          "execution_count": 72
        }
      ]
    },
    {
      "cell_type": "code",
      "metadata": {
        "id": "wx1ha97Hdqy7"
      },
      "source": [
        "city_list = ['Delhi','Patna','Cuttack','Guwahati']\n",
        "river_list = ['Yamuna','Ganga','Mahanadi','Brahamputra','Thames']"
      ],
      "execution_count": null,
      "outputs": []
    },
    {
      "cell_type": "code",
      "metadata": {
        "colab": {
          "base_uri": "https://localhost:8080/"
        },
        "id": "4VEA76OadwAs",
        "outputId": "989591db-e4e8-43d9-9bce-dddcea1d5708"
      },
      "source": [
        "list(zip(city_list,river_list))"
      ],
      "execution_count": null,
      "outputs": [
        {
          "output_type": "execute_result",
          "data": {
            "text/plain": [
              "[('Delhi', 'Yamuna'),\n",
              " ('Patna', 'Ganga'),\n",
              " ('Cuttack', 'Mahanadi'),\n",
              " ('Guwahati', 'Brahamputra')]"
            ]
          },
          "metadata": {},
          "execution_count": 74
        }
      ]
    },
    {
      "cell_type": "markdown",
      "metadata": {
        "id": "yMYuf2Hvx2xV"
      },
      "source": [
        "## When to use Tuples\n",
        "\n",
        "* You may be wondering, \"Why bother using tuples when they have fewer available methods?\" To be honest, tuples are not used as often as lists in programming, but are used when immutability is necessary. If in your program you are passing around an object and need to make sure it does not get changed, then a tuple becomes your solution. It provides a convenient source of data integrity.\n",
        "\n",
        "\n",
        "* You will find them often in functions when you are returning some values\n",
        "\n",
        "\n",
        "* You should now be able to create and use tuples in your programming as well as have an understanding of their immutability."
      ]
    },
    {
      "cell_type": "markdown",
      "metadata": {
        "id": "Fy6-SFXHx2xW"
      },
      "source": [
        "# Sets\n",
        "\n",
        "* Sets are an unordered collection of *unique* elements. We can construct them by using the <code>set()</code> function.\n",
        "\n",
        "\n",
        "* Sets cannot have duplicates.\n",
        "\n",
        "\n",
        "* Sets are mutable just like lists.\n",
        "\n",
        "\n",
        "* You can create a non-empty set with curly braces by specifying elements separated by a comma."
      ]
    },
    {
      "cell_type": "code",
      "source": [],
      "metadata": {
        "id": "L9fIgLSXWBsJ"
      },
      "execution_count": null,
      "outputs": []
    },
    {
      "cell_type": "code",
      "metadata": {
        "id": "utCm3Vlmx2xW"
      },
      "source": [
        "# Create an empty set\n",
        "empty_set = set()"
      ],
      "execution_count": null,
      "outputs": []
    },
    {
      "cell_type": "code",
      "metadata": {
        "id": "Yt9nkoOcx2xY",
        "colab": {
          "base_uri": "https://localhost:8080/"
        },
        "outputId": "7cafa0e4-17bb-4ada-c8d7-4bd7f1a9c3f9"
      },
      "source": [
        "type(empty_set)"
      ],
      "execution_count": null,
      "outputs": [
        {
          "output_type": "execute_result",
          "data": {
            "text/plain": [
              "set"
            ]
          },
          "metadata": {},
          "execution_count": 2
        }
      ]
    },
    {
      "cell_type": "code",
      "source": [
        "{}"
      ],
      "metadata": {
        "id": "GkTJj2ViWE0K",
        "colab": {
          "base_uri": "https://localhost:8080/"
        },
        "outputId": "1fe9fd8b-af41-4f8f-8616-3bdbbce82fcb"
      },
      "execution_count": null,
      "outputs": [
        {
          "output_type": "execute_result",
          "data": {
            "text/plain": [
              "{}"
            ]
          },
          "metadata": {},
          "execution_count": 3
        }
      ]
    },
    {
      "cell_type": "code",
      "metadata": {
        "id": "9mWIu_PFx2xZ"
      },
      "source": [
        "# Create a non-empty set within curly braces\n",
        "non_empty_set = {1,6,4,'abc'}"
      ],
      "execution_count": null,
      "outputs": []
    },
    {
      "cell_type": "code",
      "metadata": {
        "id": "MDI_a8slx2xb",
        "colab": {
          "base_uri": "https://localhost:8080/"
        },
        "outputId": "183cb95e-db47-44a0-edce-97d22a097ea6"
      },
      "source": [
        "type(non_empty_set)"
      ],
      "execution_count": null,
      "outputs": [
        {
          "output_type": "execute_result",
          "data": {
            "text/plain": [
              "set"
            ]
          },
          "metadata": {},
          "execution_count": 5
        }
      ]
    },
    {
      "cell_type": "markdown",
      "metadata": {
        "id": "YMD--2K9x2xe"
      },
      "source": [
        "## A Time for Caution\n",
        "\n",
        "* An empty set cannot be represented as <code>{}</code>, which is reserved for an <u>empty dictionary</u> which we will get to know in a short while"
      ]
    },
    {
      "cell_type": "code",
      "metadata": {
        "id": "CohTP3Qfx2xe"
      },
      "source": [
        "my_object = {}"
      ],
      "execution_count": null,
      "outputs": []
    },
    {
      "cell_type": "code",
      "metadata": {
        "id": "hWTaSIAMx2xg",
        "colab": {
          "base_uri": "https://localhost:8080/"
        },
        "outputId": "4f06b6e8-a008-40f1-b09d-1e7acaf5edfe"
      },
      "source": [
        "type(my_object)"
      ],
      "execution_count": null,
      "outputs": [
        {
          "output_type": "execute_result",
          "data": {
            "text/plain": [
              "dict"
            ]
          },
          "metadata": {},
          "execution_count": 86
        }
      ]
    },
    {
      "cell_type": "code",
      "metadata": {
        "id": "kMaqioALx2xj"
      },
      "source": [
        "my_set = set()"
      ],
      "execution_count": null,
      "outputs": []
    },
    {
      "cell_type": "code",
      "metadata": {
        "id": "Bu1iyqLrx2xl",
        "colab": {
          "base_uri": "https://localhost:8080/"
        },
        "outputId": "58fc5f77-2178-46d9-b1f0-bd1191773e1b"
      },
      "source": [
        "type(my_set)"
      ],
      "execution_count": null,
      "outputs": [
        {
          "output_type": "execute_result",
          "data": {
            "text/plain": [
              "set"
            ]
          },
          "metadata": {},
          "execution_count": 88
        }
      ]
    },
    {
      "cell_type": "markdown",
      "metadata": {
        "id": "ctWYu0cUx2xn"
      },
      "source": [
        "*  We can cast a list with multiple repeat elements to a set to get the unique elements."
      ]
    },
    {
      "cell_type": "code",
      "metadata": {
        "id": "sUh8Zv8Rx2xo"
      },
      "source": [
        "# Create a list with repeats\n",
        "my_list = [1,1,2,2,3,4,5,6,1,1]"
      ],
      "execution_count": null,
      "outputs": []
    },
    {
      "cell_type": "code",
      "metadata": {
        "id": "Kdr-pcGRx2xr"
      },
      "source": [
        "# Cast as set to get unique values\n",
        "unique_values = set(my_list)"
      ],
      "execution_count": null,
      "outputs": []
    },
    {
      "cell_type": "code",
      "metadata": {
        "id": "2nXbPmqRx2xt",
        "colab": {
          "base_uri": "https://localhost:8080/"
        },
        "outputId": "3c4eed59-129e-4399-d557-59126dd6d9af"
      },
      "source": [
        "unique_values"
      ],
      "execution_count": null,
      "outputs": [
        {
          "output_type": "execute_result",
          "data": {
            "text/plain": [
              "{1, 2, 3, 4, 5, 6}"
            ]
          },
          "metadata": {},
          "execution_count": 92
        }
      ]
    },
    {
      "cell_type": "code",
      "metadata": {
        "id": "XBZqcSLyx2xv"
      },
      "source": [
        "# A set cannot have mutable items\n",
        "my_set = {1, 2, (3, 4)}"
      ],
      "execution_count": null,
      "outputs": []
    },
    {
      "cell_type": "code",
      "source": [
        "my_set"
      ],
      "metadata": {
        "colab": {
          "base_uri": "https://localhost:8080/"
        },
        "id": "U3beGxLAWndx",
        "outputId": "bbbb29f3-b850-444c-fbe8-e664949be0b6"
      },
      "execution_count": null,
      "outputs": [
        {
          "output_type": "execute_result",
          "data": {
            "text/plain": [
              "{(3, 4), 1, 2}"
            ]
          },
          "metadata": {},
          "execution_count": 100
        }
      ]
    },
    {
      "cell_type": "markdown",
      "metadata": {
        "id": "7GuQNu1ix2xx"
      },
      "source": [
        "* We cannot create a set whose any of the elements is a list"
      ]
    },
    {
      "cell_type": "code",
      "metadata": {
        "id": "lt_RVt86x2xy"
      },
      "source": [
        "# But we can have tuples as set elements, they are immutable\n",
        "my_set = {1, 2, (2,3)}"
      ],
      "execution_count": null,
      "outputs": []
    },
    {
      "cell_type": "code",
      "metadata": {
        "id": "1dj_FMzkx2x1",
        "colab": {
          "base_uri": "https://localhost:8080/"
        },
        "outputId": "d84e5be3-918b-4fd1-a2a9-eee37c97ce80"
      },
      "source": [
        "my_set"
      ],
      "execution_count": null,
      "outputs": [
        {
          "output_type": "execute_result",
          "data": {
            "text/plain": [
              "{(2, 3), 1, 2}"
            ]
          },
          "metadata": {},
          "execution_count": 102
        }
      ]
    },
    {
      "cell_type": "code",
      "source": [
        "l1 = [1,2,3,[1,2,3]]\n",
        "l1"
      ],
      "metadata": {
        "colab": {
          "base_uri": "https://localhost:8080/"
        },
        "id": "MEz4lLqYXFdD",
        "outputId": "dc1c1fd3-fd0b-41a1-e5bd-8a39daf55428"
      },
      "execution_count": null,
      "outputs": [
        {
          "output_type": "execute_result",
          "data": {
            "text/plain": [
              "[1, 2, 3, [1, 2, 3]]"
            ]
          },
          "metadata": {},
          "execution_count": 105
        }
      ]
    },
    {
      "cell_type": "code",
      "source": [
        "s1 = (1,2,3,(1,2,3))\n",
        "s1"
      ],
      "metadata": {
        "colab": {
          "base_uri": "https://localhost:8080/"
        },
        "id": "0AujxnyuXI3T",
        "outputId": "9969b2af-dc6f-4686-ac7e-ed8c9c93e0e7"
      },
      "execution_count": null,
      "outputs": [
        {
          "output_type": "execute_result",
          "data": {
            "text/plain": [
              "(1, 2, 3, (1, 2, 3))"
            ]
          },
          "metadata": {},
          "execution_count": 107
        }
      ]
    },
    {
      "cell_type": "code",
      "metadata": {
        "id": "WrYzn-Pg72u7"
      },
      "source": [
        "my_set = {1,2, (3,5)}"
      ],
      "execution_count": null,
      "outputs": []
    },
    {
      "cell_type": "code",
      "metadata": {
        "id": "6Av1DFXg76ii"
      },
      "source": [
        "my_set"
      ],
      "execution_count": null,
      "outputs": []
    },
    {
      "cell_type": "markdown",
      "metadata": {
        "id": "McnlvCvFx2x4"
      },
      "source": [
        "### <code>add()</code>\n",
        "\n",
        "\n",
        "*  <code>add()</code> method adds an element to a set\n",
        "\n",
        "\n",
        "* This method takes the element to be added as an argument"
      ]
    },
    {
      "cell_type": "code",
      "metadata": {
        "id": "gKrGTWaQx2x4"
      },
      "source": [
        "# We add to sets with the add() method\n",
        "my_set = set()\n",
        "my_set.add('a')"
      ],
      "execution_count": null,
      "outputs": []
    },
    {
      "cell_type": "code",
      "metadata": {
        "id": "COEtoXrZx2x5",
        "colab": {
          "base_uri": "https://localhost:8080/"
        },
        "outputId": "30d5cba7-fef9-488b-b8e0-3603a506a5f5"
      },
      "source": [
        "#Show\n",
        "my_set"
      ],
      "execution_count": null,
      "outputs": [
        {
          "output_type": "execute_result",
          "data": {
            "text/plain": [
              "{1, 2, 'a'}"
            ]
          },
          "metadata": {},
          "execution_count": 119
        }
      ]
    },
    {
      "cell_type": "code",
      "metadata": {
        "id": "YTh2v7mSx2x8"
      },
      "source": [
        "# Add a different element\n",
        "my_set.add(2)"
      ],
      "execution_count": null,
      "outputs": []
    },
    {
      "cell_type": "code",
      "metadata": {
        "id": "AsGC5v5Hx2x-",
        "colab": {
          "base_uri": "https://localhost:8080/"
        },
        "outputId": "4296b5cb-f1eb-4c64-a569-c3be42955c48"
      },
      "source": [
        "#Show\n",
        "print(my_set)"
      ],
      "execution_count": null,
      "outputs": [
        {
          "output_type": "stream",
          "name": "stdout",
          "text": [
            "{'a', 2, 1}\n"
          ]
        }
      ]
    },
    {
      "cell_type": "code",
      "metadata": {
        "id": "t37-ERnhx2yA"
      },
      "source": [
        "# Lets add another element 1\n",
        "x.add(1)"
      ],
      "execution_count": null,
      "outputs": []
    },
    {
      "cell_type": "code",
      "metadata": {
        "id": "aM6UGArnx2yC"
      },
      "source": [
        "#Show"
      ],
      "execution_count": null,
      "outputs": []
    },
    {
      "cell_type": "code",
      "source": [
        "x = {1,2,3}\n"
      ],
      "metadata": {
        "id": "boAfZecLYMUd"
      },
      "execution_count": null,
      "outputs": []
    },
    {
      "cell_type": "code",
      "source": [
        "x.add(6)"
      ],
      "metadata": {
        "id": "Okz4enBjYObP"
      },
      "execution_count": null,
      "outputs": []
    },
    {
      "cell_type": "code",
      "metadata": {
        "id": "qN4guFeox2yH",
        "colab": {
          "base_uri": "https://localhost:8080/"
        },
        "outputId": "38cf903f-95d4-4139-8e29-767670673aa4"
      },
      "source": [
        "# Try to add the same element 1 again\n",
        "x"
      ],
      "execution_count": null,
      "outputs": [
        {
          "output_type": "execute_result",
          "data": {
            "text/plain": [
              "{1, 2, 3, 4, 6}"
            ]
          },
          "metadata": {},
          "execution_count": 133
        }
      ]
    },
    {
      "cell_type": "code",
      "metadata": {
        "id": "AGlDN8Iyx2yK",
        "outputId": "6fc34d83-960e-466f-8d99-b2bfa3620489"
      },
      "source": [
        "x"
      ],
      "execution_count": null,
      "outputs": [
        {
          "output_type": "execute_result",
          "data": {
            "text/plain": [
              "{1, 2, 'a'}"
            ]
          },
          "metadata": {
            "tags": []
          },
          "execution_count": 40
        }
      ]
    },
    {
      "cell_type": "markdown",
      "metadata": {
        "id": "i2PhWKETx2yN"
      },
      "source": [
        "* Notice how it won't place another 1 there. That's because a set is only concerned with unique elements!"
      ]
    },
    {
      "cell_type": "markdown",
      "metadata": {
        "id": "Y579P1fwx2yN"
      },
      "source": [
        "### <code>update()</code>\n",
        "\n",
        "* <code>update()</code> method helps to add multiple elements to a set"
      ]
    },
    {
      "cell_type": "code",
      "metadata": {
        "id": "-G2U0D2cx2yO"
      },
      "source": [
        "my_set = {5,7,9,3}"
      ],
      "execution_count": null,
      "outputs": []
    },
    {
      "cell_type": "code",
      "metadata": {
        "id": "jNAbIqwUx2yR",
        "colab": {
          "base_uri": "https://localhost:8080/"
        },
        "outputId": "d29f9ba7-e0cb-4f5f-b553-c4a3c8333982"
      },
      "source": [
        "# add multiple elements\n",
        "my_set.update([2, 3, 4])\n",
        "print(my_set)"
      ],
      "execution_count": null,
      "outputs": [
        {
          "output_type": "stream",
          "name": "stdout",
          "text": [
            "{2, 3, 4, 5, 7, 9}\n"
          ]
        }
      ]
    },
    {
      "cell_type": "code",
      "source": [
        "l1 = [1,2,3]\n",
        "l1.append([4,5,6])"
      ],
      "metadata": {
        "id": "p1AnzcWYZCoR"
      },
      "execution_count": null,
      "outputs": []
    },
    {
      "cell_type": "code",
      "source": [
        "l1"
      ],
      "metadata": {
        "colab": {
          "base_uri": "https://localhost:8080/"
        },
        "id": "Y39xRC7YZGgj",
        "outputId": "6e4e36e9-a8b9-44f9-977f-c2f873fa0de1"
      },
      "execution_count": null,
      "outputs": [
        {
          "output_type": "execute_result",
          "data": {
            "text/plain": [
              "[1, 2, 3, [4, 5, 6]]"
            ]
          },
          "metadata": {},
          "execution_count": 138
        }
      ]
    },
    {
      "cell_type": "code",
      "source": [
        "s = {3,4}\n",
        "s"
      ],
      "metadata": {
        "colab": {
          "base_uri": "https://localhost:8080/"
        },
        "id": "eXdX_PUhYsaX",
        "outputId": "040702b5-7b57-408d-f869-0f6dc8b34221"
      },
      "execution_count": null,
      "outputs": [
        {
          "output_type": "execute_result",
          "data": {
            "text/plain": [
              "{3, 4}"
            ]
          },
          "metadata": {},
          "execution_count": 135
        }
      ]
    },
    {
      "cell_type": "code",
      "source": [
        "s.update([1,2])\n",
        "print(s)"
      ],
      "metadata": {
        "colab": {
          "base_uri": "https://localhost:8080/"
        },
        "id": "0VtUsGcmY3dQ",
        "outputId": "6edda880-9393-4911-a0e8-6baf11be528a"
      },
      "execution_count": null,
      "outputs": [
        {
          "output_type": "stream",
          "name": "stdout",
          "text": [
            "{1, 2, 3, 4}\n"
          ]
        }
      ]
    },
    {
      "cell_type": "code",
      "source": [],
      "metadata": {
        "id": "XgTCGRVaY3bO"
      },
      "execution_count": null,
      "outputs": []
    },
    {
      "cell_type": "markdown",
      "metadata": {
        "id": "Ehae_5psx2yT"
      },
      "source": [
        "### <code>remove()</code>\n",
        "\n",
        "* Use <code>remove()</code> to remove an item/element from the set.\n",
        "\n",
        "\n",
        "* By default <code>remove()</code> removes the specified element from the set.\n",
        "\n",
        "\n",
        "* <code>remove()</code> takes the element as an argument."
      ]
    },
    {
      "cell_type": "code",
      "metadata": {
        "id": "yRW6CHCix2yU"
      },
      "source": [
        "non_empty_set = {1,5,6,73,2}"
      ],
      "execution_count": null,
      "outputs": []
    },
    {
      "cell_type": "code",
      "metadata": {
        "id": "UlzYv0oqx2yb"
      },
      "source": [
        "non_empty_set.remove(5)"
      ],
      "execution_count": null,
      "outputs": []
    },
    {
      "cell_type": "code",
      "metadata": {
        "id": "2ZdpesQJx2yd",
        "colab": {
          "base_uri": "https://localhost:8080/"
        },
        "outputId": "c0f6b807-76c8-45de-d398-8b605bb6ec99"
      },
      "source": [
        "non_empty_set"
      ],
      "execution_count": null,
      "outputs": [
        {
          "output_type": "execute_result",
          "data": {
            "text/plain": [
              "{1, 2, 6, 73}"
            ]
          },
          "metadata": {},
          "execution_count": 144
        }
      ]
    },
    {
      "cell_type": "code",
      "metadata": {
        "id": "JfaKZ5uex2ye",
        "colab": {
          "base_uri": "https://localhost:8080/",
          "height": 144
        },
        "outputId": "a8d387f5-5e77-4487-bbaa-cb5453201eba"
      },
      "source": [
        "non_empty_set.remove(45)"
      ],
      "execution_count": null,
      "outputs": [
        {
          "output_type": "error",
          "ename": "KeyError",
          "evalue": "45",
          "traceback": [
            "\u001b[0;31m---------------------------------------------------------------------------\u001b[0m",
            "\u001b[0;31mKeyError\u001b[0m                                  Traceback (most recent call last)",
            "\u001b[0;32m<ipython-input-145-a4e6701c6396>\u001b[0m in \u001b[0;36m<cell line: 0>\u001b[0;34m()\u001b[0m\n\u001b[0;32m----> 1\u001b[0;31m \u001b[0mnon_empty_set\u001b[0m\u001b[0;34m.\u001b[0m\u001b[0mremove\u001b[0m\u001b[0;34m(\u001b[0m\u001b[0;36m45\u001b[0m\u001b[0;34m)\u001b[0m\u001b[0;34m\u001b[0m\u001b[0;34m\u001b[0m\u001b[0m\n\u001b[0m",
            "\u001b[0;31mKeyError\u001b[0m: 45"
          ]
        }
      ]
    },
    {
      "cell_type": "markdown",
      "metadata": {
        "id": "4WyPacOmx2yg"
      },
      "source": [
        "* <code>remove()</code> throws an error when we try to remove an element which is not present in the set"
      ]
    },
    {
      "cell_type": "markdown",
      "metadata": {
        "id": "J78K33lKx2yh"
      },
      "source": [
        "### <code>union()</code>\n",
        "\n",
        "\n",
        "* <code>union()</code> method returns the union of two sets\n",
        "\n",
        "\n",
        "* Also denoted by the operator <code>|</code>"
      ]
    },
    {
      "cell_type": "code",
      "metadata": {
        "id": "5PsHlxXvx2yh"
      },
      "source": [
        "# Initialize sets A and B\n",
        "A = {1, 2, 3, 4, 5}\n",
        "B = {4, 5, 6, 7, 8}"
      ],
      "execution_count": null,
      "outputs": []
    },
    {
      "cell_type": "code",
      "source": [
        "l1 = [1,2,3]\n",
        "l2 = [3,4,5]"
      ],
      "metadata": {
        "id": "5jF2dmjPZrD0"
      },
      "execution_count": null,
      "outputs": []
    },
    {
      "cell_type": "code",
      "source": [
        "l1.append(l2)"
      ],
      "metadata": {
        "id": "VE8C0QkoZt9o"
      },
      "execution_count": null,
      "outputs": []
    },
    {
      "cell_type": "code",
      "source": [
        "l1"
      ],
      "metadata": {
        "colab": {
          "base_uri": "https://localhost:8080/"
        },
        "id": "rJsab7xaZwX6",
        "outputId": "c3b3c02a-5526-4e20-d8ef-3be93358fb97"
      },
      "execution_count": null,
      "outputs": [
        {
          "output_type": "execute_result",
          "data": {
            "text/plain": [
              "[1, 2, 3, [3, 4, 5]]"
            ]
          },
          "metadata": {},
          "execution_count": 154
        }
      ]
    },
    {
      "cell_type": "code",
      "source": [
        "l2.append(l1)"
      ],
      "metadata": {
        "id": "Y7YWc3HHZwWG"
      },
      "execution_count": null,
      "outputs": []
    },
    {
      "cell_type": "code",
      "source": [
        "l2"
      ],
      "metadata": {
        "colab": {
          "base_uri": "https://localhost:8080/"
        },
        "id": "3an984gOZwTW",
        "outputId": "9c0bfeb4-34b1-4e91-ee31-cb3db0300431"
      },
      "execution_count": null,
      "outputs": [
        {
          "output_type": "execute_result",
          "data": {
            "text/plain": [
              "[3, 4, 5, [1, 2, 3, [...]]]"
            ]
          },
          "metadata": {},
          "execution_count": 156
        }
      ]
    },
    {
      "cell_type": "code",
      "metadata": {
        "id": "xb3dKUDdx2yi",
        "colab": {
          "base_uri": "https://localhost:8080/"
        },
        "outputId": "48639af6-cab1-4b97-f12a-d54a5894de5e"
      },
      "source": [
        "B.union(A)"
      ],
      "execution_count": null,
      "outputs": [
        {
          "output_type": "execute_result",
          "data": {
            "text/plain": [
              "{1, 2, 3, 4, 5, 6, 7, 8}"
            ]
          },
          "metadata": {},
          "execution_count": 151
        }
      ]
    },
    {
      "cell_type": "code",
      "metadata": {
        "colab": {
          "base_uri": "https://localhost:8080/"
        },
        "id": "LEnTk73BlUvM",
        "outputId": "f66e0324-ec76-49a3-fd3f-d4a773f93fbb"
      },
      "source": [
        "A"
      ],
      "execution_count": null,
      "outputs": [
        {
          "output_type": "execute_result",
          "data": {
            "text/plain": [
              "{1, 2, 3, 4, 5}"
            ]
          },
          "metadata": {},
          "execution_count": 157
        }
      ]
    },
    {
      "cell_type": "code",
      "metadata": {
        "id": "5eiCPbm3x2yk",
        "colab": {
          "base_uri": "https://localhost:8080/"
        },
        "outputId": "551f3c87-620f-4fed-e78c-b9da75e48bba"
      },
      "source": [
        "# Also denoted by the operator |\n",
        "A | B"
      ],
      "execution_count": null,
      "outputs": [
        {
          "output_type": "execute_result",
          "data": {
            "text/plain": [
              "{1, 2, 3, 4, 5, 6, 7, 8}"
            ]
          },
          "metadata": {},
          "execution_count": 158
        }
      ]
    },
    {
      "cell_type": "markdown",
      "metadata": {
        "id": "-imPGLIHx2ym"
      },
      "source": [
        "### <code>intersection()</code>\n",
        "\n",
        "\n",
        "* <code>intersection()</code> method returns the intersection of two sets\n",
        "\n",
        "\n",
        "* Also denoted by the operator <code>&</code>"
      ]
    },
    {
      "cell_type": "code",
      "metadata": {
        "id": "CEiWFkplx2ym"
      },
      "source": [
        "A = {1, 2, 3, 4, 5}\n",
        "B = {4, 5, 6, 7, 8}"
      ],
      "execution_count": null,
      "outputs": []
    },
    {
      "cell_type": "code",
      "metadata": {
        "id": "1ycxjihUx2yn",
        "colab": {
          "base_uri": "https://localhost:8080/"
        },
        "outputId": "b78830d4-bb66-4658-8b12-2bc024c8958a"
      },
      "source": [
        "A.intersection(B)"
      ],
      "execution_count": null,
      "outputs": [
        {
          "output_type": "execute_result",
          "data": {
            "text/plain": [
              "{4, 5}"
            ]
          },
          "metadata": {},
          "execution_count": 160
        }
      ]
    },
    {
      "cell_type": "code",
      "metadata": {
        "id": "GalM9H1ax2yp",
        "colab": {
          "base_uri": "https://localhost:8080/"
        },
        "outputId": "a86c1d5a-a14c-4e0b-9111-2565f90cae19"
      },
      "source": [
        "# Also denoted by the operator &\n",
        "A & B"
      ],
      "execution_count": null,
      "outputs": [
        {
          "output_type": "execute_result",
          "data": {
            "text/plain": [
              "{4, 5}"
            ]
          },
          "metadata": {},
          "execution_count": 161
        }
      ]
    },
    {
      "cell_type": "markdown",
      "metadata": {
        "id": "nJm-OfZDx2yq"
      },
      "source": [
        "### <code>difference()</code>\n",
        "\n",
        "\n",
        "* <code>difference()</code> method returns the difference of two sets\n",
        "\n",
        "\n",
        "* Difference of the set <code>B</code> from set <code>A</code> i.e, <code>(A - B)</code> is a set of elements that are only in <code>A</code> but not in <code>B</code>\n",
        "\n",
        "\n",
        "* Also denoted by the operator <code>-</code>"
      ]
    },
    {
      "cell_type": "code",
      "metadata": {
        "id": "bggwzeTCx2yq"
      },
      "source": [
        "A = {1, 2, 3, 4, 5}\n",
        "B = {4, 5, 6, 7, 8}"
      ],
      "execution_count": null,
      "outputs": []
    },
    {
      "cell_type": "code",
      "metadata": {
        "id": "wj1pQh3Ex2ys",
        "colab": {
          "base_uri": "https://localhost:8080/"
        },
        "outputId": "5c4e5cd3-cb21-4822-f967-9e689754f4f7"
      },
      "source": [
        "A.difference(B)"
      ],
      "execution_count": null,
      "outputs": [
        {
          "output_type": "execute_result",
          "data": {
            "text/plain": [
              "{1, 2, 3}"
            ]
          },
          "metadata": {},
          "execution_count": 163
        }
      ]
    },
    {
      "cell_type": "code",
      "metadata": {
        "id": "0DgHo42ax2yv",
        "colab": {
          "base_uri": "https://localhost:8080/"
        },
        "outputId": "bf81b0bc-5c4e-4733-8cc1-7947a0186830"
      },
      "source": [
        "# Also denoted by the operator -\n",
        "A - B"
      ],
      "execution_count": null,
      "outputs": [
        {
          "output_type": "execute_result",
          "data": {
            "text/plain": [
              "{1, 2, 3}"
            ]
          },
          "metadata": {},
          "execution_count": 164
        }
      ]
    },
    {
      "cell_type": "code",
      "metadata": {
        "id": "6252HLbjx2yw",
        "colab": {
          "base_uri": "https://localhost:8080/"
        },
        "outputId": "31532d53-d8a1-408b-d9c5-69952d71d6d5"
      },
      "source": [
        "B.difference(A)"
      ],
      "execution_count": null,
      "outputs": [
        {
          "output_type": "execute_result",
          "data": {
            "text/plain": [
              "{6, 7, 8}"
            ]
          },
          "metadata": {},
          "execution_count": 165
        }
      ]
    },
    {
      "cell_type": "code",
      "metadata": {
        "id": "UXeArQih9-KX",
        "colab": {
          "base_uri": "https://localhost:8080/"
        },
        "outputId": "a9d2689c-a95d-4079-8936-e49d6d1d1e63"
      },
      "source": [
        "B - A"
      ],
      "execution_count": null,
      "outputs": [
        {
          "output_type": "execute_result",
          "data": {
            "text/plain": [
              "{6, 7, 8}"
            ]
          },
          "metadata": {},
          "execution_count": 166
        }
      ]
    },
    {
      "cell_type": "markdown",
      "metadata": {
        "id": "syQXm4jBx2yx"
      },
      "source": [
        "### <code>symmetric_difference()</code>\n",
        "\n",
        "\n",
        "* <code>symmetric_difference()</code> method returns the set of elements in A and B but not in both (excluding the intersection)\n",
        "\n",
        "\n",
        "* Also denoted by the operator <code>^</code>"
      ]
    },
    {
      "cell_type": "code",
      "metadata": {
        "id": "EVPLdfe6x2yx"
      },
      "source": [
        "A = {1, 2, 3, 4, 5}\n",
        "B = {4, 5, 6, 7, 8}"
      ],
      "execution_count": null,
      "outputs": []
    },
    {
      "cell_type": "code",
      "metadata": {
        "id": "FLdL9n9nx2yz",
        "colab": {
          "base_uri": "https://localhost:8080/"
        },
        "outputId": "32fba8c6-1af0-4f82-bfa2-d7bdad89a9a7"
      },
      "source": [
        "A.symmetric_difference(B)"
      ],
      "execution_count": null,
      "outputs": [
        {
          "output_type": "execute_result",
          "data": {
            "text/plain": [
              "{1, 2, 3, 6, 7, 8}"
            ]
          },
          "metadata": {},
          "execution_count": 168
        }
      ]
    },
    {
      "cell_type": "code",
      "metadata": {
        "id": "yetEV2k1x2y1",
        "colab": {
          "base_uri": "https://localhost:8080/"
        },
        "outputId": "4f080863-87ee-4e4c-fd3e-d8fa59b3b73e"
      },
      "source": [
        "A^B"
      ],
      "execution_count": null,
      "outputs": [
        {
          "output_type": "execute_result",
          "data": {
            "text/plain": [
              "{1, 2, 3, 6, 7, 8}"
            ]
          },
          "metadata": {},
          "execution_count": 169
        }
      ]
    },
    {
      "cell_type": "markdown",
      "metadata": {
        "id": "wLDBvDUix2y3"
      },
      "source": [
        "# Dictionaries\n",
        "\n",
        "* We've been learning about *sequences* in Python but now we're going to switch gears and learn about *mappings* in Python.\n",
        "\n",
        "\n",
        "* If you're familiar with other languages you can think of these Dictionaries as hash tables.\n",
        "\n",
        "\n",
        "* So what are mappings? Mappings are a collection of objects that are stored by a *key*, unlike a sequence that stored objects by their relative position. This is an important distinction, since mappings won't retain order since they have objects defined by a key.\n",
        "\n",
        "\n",
        "* A Python dictionary consists of a key and then an associated value. That value can be almost any Python object. So a dictionary object always has elements as key-value pairs\n",
        "\n",
        "\n",
        "## Constructing a Dictionary\n",
        "\n",
        "\n",
        "* A dictionary object is constructed using curly braces <code>{key1:value1,key2:value2,key3:value3}</code>"
      ]
    },
    {
      "cell_type": "code",
      "source": [
        "my_dict = {'name':'sau','id':1}"
      ],
      "metadata": {
        "id": "MAMLzhU8bXip"
      },
      "execution_count": null,
      "outputs": []
    },
    {
      "cell_type": "code",
      "source": [],
      "metadata": {
        "id": "ZSXPxq9SbgNU"
      },
      "execution_count": null,
      "outputs": []
    },
    {
      "cell_type": "code",
      "source": [
        "type(my_dict)"
      ],
      "metadata": {
        "colab": {
          "base_uri": "https://localhost:8080/"
        },
        "id": "AgYTvAOzbdWD",
        "outputId": "8e6783ce-465b-40ae-c57e-b0a5bf22dc5b"
      },
      "execution_count": null,
      "outputs": [
        {
          "output_type": "execute_result",
          "data": {
            "text/plain": [
              "dict"
            ]
          },
          "metadata": {},
          "execution_count": 178
        }
      ]
    },
    {
      "cell_type": "code",
      "metadata": {
        "id": "IPVt8pQ1x2y4"
      },
      "source": [
        "# Make a dictionary with {} and : to signify a key and a value\n",
        "marvel_dict = {'Name':'Thor','Place':'Asgard','Weapon' : 'Hammer', 1:2, 3 : 'power', 'alibies' : ['Ironman','Captain America'], 'abc' : {1:2, 4:5}}"
      ],
      "execution_count": null,
      "outputs": []
    },
    {
      "cell_type": "code",
      "source": [
        "marvel_dict"
      ],
      "metadata": {
        "colab": {
          "base_uri": "https://localhost:8080/"
        },
        "id": "vg_fC_swb9IN",
        "outputId": "1753a168-6a9c-40e4-b067-3cf3794c419d"
      },
      "execution_count": null,
      "outputs": [
        {
          "output_type": "execute_result",
          "data": {
            "text/plain": [
              "{'Name': 'Thor',\n",
              " 'Place': 'Asgard',\n",
              " 'Weapon': 'Hammer',\n",
              " 1: 2,\n",
              " 3: 'power',\n",
              " 'alibies': ['Ironman', 'Captain America'],\n",
              " 'abc': {1: 2, 4: 5}}"
            ]
          },
          "metadata": {},
          "execution_count": 8
        }
      ]
    },
    {
      "cell_type": "code",
      "source": [
        "marvel_dict['alibies']"
      ],
      "metadata": {
        "colab": {
          "base_uri": "https://localhost:8080/"
        },
        "id": "Pkw9PpuAcEX_",
        "outputId": "7189a0ab-cf60-4559-e1ba-5a43fb643b07"
      },
      "execution_count": null,
      "outputs": [
        {
          "output_type": "execute_result",
          "data": {
            "text/plain": [
              "['Ironman', 'Captain America']"
            ]
          },
          "metadata": {},
          "execution_count": 9
        }
      ]
    },
    {
      "cell_type": "code",
      "metadata": {
        "id": "zUigu-Eox2y5",
        "colab": {
          "base_uri": "https://localhost:8080/",
          "height": 35
        },
        "outputId": "81ec6abb-2662-46ac-95ca-eb2ba1a24bbe"
      },
      "source": [
        "# Call values by their key\n",
        "marvel_dict['Place']"
      ],
      "execution_count": null,
      "outputs": [
        {
          "output_type": "execute_result",
          "data": {
            "text/plain": [
              "'Asgard'"
            ],
            "application/vnd.google.colaboratory.intrinsic+json": {
              "type": "string"
            }
          },
          "metadata": {},
          "execution_count": 11
        }
      ]
    },
    {
      "cell_type": "code",
      "metadata": {
        "colab": {
          "base_uri": "https://localhost:8080/"
        },
        "id": "bQT7_8HqpdmX",
        "outputId": "2ca23936-e882-4ff1-e50d-7743af388193"
      },
      "source": [
        "type(marvel_dict)"
      ],
      "execution_count": null,
      "outputs": [
        {
          "output_type": "execute_result",
          "data": {
            "text/plain": [
              "dict"
            ]
          },
          "metadata": {},
          "execution_count": 12
        }
      ]
    },
    {
      "cell_type": "code",
      "metadata": {
        "id": "JakXpRcqx2y7",
        "colab": {
          "base_uri": "https://localhost:8080/",
          "height": 35
        },
        "outputId": "461e3423-7e53-4c0f-de11-813e199f043a"
      },
      "source": [
        "marvel_dict['Name']"
      ],
      "execution_count": null,
      "outputs": [
        {
          "output_type": "execute_result",
          "data": {
            "text/plain": [
              "'Thor'"
            ],
            "application/vnd.google.colaboratory.intrinsic+json": {
              "type": "string"
            }
          },
          "metadata": {},
          "execution_count": 13
        }
      ]
    },
    {
      "cell_type": "code",
      "metadata": {
        "colab": {
          "base_uri": "https://localhost:8080/",
          "height": 144
        },
        "id": "3VuNvGrQsC1o",
        "outputId": "556e3d81-3e03-4a75-a50c-2b72b2bd66b3"
      },
      "source": [
        "marvel_dict['Asgard']"
      ],
      "execution_count": null,
      "outputs": [
        {
          "output_type": "error",
          "ename": "KeyError",
          "evalue": "'Asgard'",
          "traceback": [
            "\u001b[0;31m---------------------------------------------------------------------------\u001b[0m",
            "\u001b[0;31mKeyError\u001b[0m                                  Traceback (most recent call last)",
            "\u001b[0;32m<ipython-input-14-fb58ae19cc12>\u001b[0m in \u001b[0;36m<cell line: 0>\u001b[0;34m()\u001b[0m\n\u001b[0;32m----> 1\u001b[0;31m \u001b[0mmarvel_dict\u001b[0m\u001b[0;34m[\u001b[0m\u001b[0;34m'Asgard'\u001b[0m\u001b[0;34m]\u001b[0m\u001b[0;34m\u001b[0m\u001b[0;34m\u001b[0m\u001b[0m\n\u001b[0m",
            "\u001b[0;31mKeyError\u001b[0m: 'Asgard'"
          ]
        }
      ]
    },
    {
      "cell_type": "code",
      "metadata": {
        "id": "NZwP-63z_k3c",
        "colab": {
          "base_uri": "https://localhost:8080/",
          "height": 35
        },
        "outputId": "6b5db3a1-3860-4772-b6ec-a6e8716d595d"
      },
      "source": [
        "marvel_dict['Weapon']"
      ],
      "execution_count": null,
      "outputs": [
        {
          "output_type": "execute_result",
          "data": {
            "text/plain": [
              "'Hammer'"
            ],
            "application/vnd.google.colaboratory.intrinsic+json": {
              "type": "string"
            }
          },
          "metadata": {},
          "execution_count": 194
        }
      ]
    },
    {
      "cell_type": "code",
      "metadata": {
        "id": "lRWRAg0U_0tM",
        "colab": {
          "base_uri": "https://localhost:8080/"
        },
        "outputId": "b069e841-43a1-4d59-d0ec-447f34d58cdd"
      },
      "source": [
        "marvel_dict['alibies']"
      ],
      "execution_count": null,
      "outputs": [
        {
          "output_type": "execute_result",
          "data": {
            "text/plain": [
              "['Ironman', 'Captain America']"
            ]
          },
          "metadata": {},
          "execution_count": 195
        }
      ]
    },
    {
      "cell_type": "code",
      "metadata": {
        "id": "e7fpRgtMAaSZ",
        "colab": {
          "base_uri": "https://localhost:8080/"
        },
        "outputId": "2194e583-806f-46be-f4a1-a41911cdc557"
      },
      "source": [
        "type(marvel_dict['abc'])"
      ],
      "execution_count": null,
      "outputs": [
        {
          "output_type": "execute_result",
          "data": {
            "text/plain": [
              "dict"
            ]
          },
          "metadata": {},
          "execution_count": 196
        }
      ]
    },
    {
      "cell_type": "markdown",
      "metadata": {
        "id": "J44Z9VfMx2y9"
      },
      "source": [
        "## Dictionary Methods"
      ]
    },
    {
      "cell_type": "markdown",
      "metadata": {
        "id": "uL7e7NDox2y9"
      },
      "source": [
        "### <code>keys()</code>\n",
        "\n",
        "\n",
        "* <code>keys()</code> method returns the list of keys in the dictionary object"
      ]
    },
    {
      "cell_type": "code",
      "metadata": {
        "colab": {
          "base_uri": "https://localhost:8080/"
        },
        "id": "d-MXIbRwqcS1",
        "outputId": "f9b48368-5bee-4647-92bc-04c0fa5b112e"
      },
      "source": [
        "marvel_dict.keys()"
      ],
      "execution_count": null,
      "outputs": [
        {
          "output_type": "execute_result",
          "data": {
            "text/plain": [
              "dict_keys(['Name', 'Place', 'Weapon', 1, 3, 'alibies', 'abc'])"
            ]
          },
          "metadata": {},
          "execution_count": 16
        }
      ]
    },
    {
      "cell_type": "code",
      "metadata": {
        "id": "mRev-noZx2y9"
      },
      "source": [
        "list_of_keys = list(marvel_dict.keys())"
      ],
      "execution_count": null,
      "outputs": []
    },
    {
      "cell_type": "code",
      "source": [
        "list_of_keys"
      ],
      "metadata": {
        "colab": {
          "base_uri": "https://localhost:8080/"
        },
        "id": "JMhMseUpdAlz",
        "outputId": "aa067562-5bb2-4d7a-b2b3-45f6f2ea2b0b"
      },
      "execution_count": null,
      "outputs": [
        {
          "output_type": "execute_result",
          "data": {
            "text/plain": [
              "['Name', 'Place', 'Weapon', 1, 3, 'alibies', 'abc']"
            ]
          },
          "metadata": {},
          "execution_count": 18
        }
      ]
    },
    {
      "cell_type": "markdown",
      "metadata": {
        "id": "tUaGyAtdx2y_"
      },
      "source": [
        "### <code>values()</code>\n",
        "\n",
        "* <code>values()</code> method returns the list of values in the dictionary object"
      ]
    },
    {
      "cell_type": "code",
      "metadata": {
        "id": "phxxN3b2BI21",
        "colab": {
          "base_uri": "https://localhost:8080/"
        },
        "outputId": "58d4d513-196c-4d97-949b-6fb14a2eea64"
      },
      "source": [
        "\n",
        "print(marvel_dict)"
      ],
      "execution_count": null,
      "outputs": [
        {
          "output_type": "stream",
          "text": [
            "{'Name': 'Thor', 'Place': 'Asgard', 'Weapon': 'Hammer', 1: 2, 3: 'power', 'alibies': ['Ironman', 'Captain America'], 'abc': {1: 2, 4: 5}}\n"
          ],
          "name": "stdout"
        }
      ]
    },
    {
      "cell_type": "code",
      "source": [
        "# json data"
      ],
      "metadata": {
        "id": "kwGHJ99_dQ-B"
      },
      "execution_count": null,
      "outputs": []
    },
    {
      "cell_type": "code",
      "metadata": {
        "id": "18imvm1tx2zA",
        "colab": {
          "base_uri": "https://localhost:8080/"
        },
        "outputId": "5a44dd8b-c070-4684-da8f-622a7ebbc4a3"
      },
      "source": [
        "list(marvel_dict.values())"
      ],
      "execution_count": null,
      "outputs": [
        {
          "output_type": "execute_result",
          "data": {
            "text/plain": [
              "['Thor',\n",
              " 'Asgard',\n",
              " 'Hammer',\n",
              " 2,\n",
              " 'power',\n",
              " ['Ironman', 'Captain America'],\n",
              " {1: 2, 4: 5}]"
            ]
          },
          "metadata": {},
          "execution_count": 203
        }
      ]
    },
    {
      "cell_type": "markdown",
      "metadata": {
        "id": "_nSqsOiax2zB"
      },
      "source": [
        "### <code>items()</code>\n",
        "\n",
        "\n",
        "* <code>items()</code> method returns the list of the keys and values"
      ]
    },
    {
      "cell_type": "code",
      "metadata": {
        "id": "JHqnsUctx2zB",
        "colab": {
          "base_uri": "https://localhost:8080/"
        },
        "outputId": "91326f69-8f7b-4df9-e753-d9ef55142929"
      },
      "source": [
        "# Get the keys and their corresponding values\n",
        "list(marvel_dict.items())"
      ],
      "execution_count": null,
      "outputs": [
        {
          "output_type": "execute_result",
          "data": {
            "text/plain": [
              "[('Name', 'Thor'),\n",
              " ('Place', 'Asgard'),\n",
              " ('Weapon', 'Hammer'),\n",
              " (1, 2),\n",
              " (3, 'power'),\n",
              " ('alibies', ['Ironman', 'Captain America']),\n",
              " ('abc', {1: 2, 4: 5})]"
            ]
          },
          "metadata": {},
          "execution_count": 204
        }
      ]
    },
    {
      "cell_type": "markdown",
      "metadata": {
        "id": "rOJcYnxYx2zE"
      },
      "source": [
        "* We can also use the <code>get()</code> method to extract a particular value of key-value pair.\n"
      ]
    },
    {
      "cell_type": "code",
      "metadata": {
        "id": "VH3-a6Ykx2zE",
        "colab": {
          "base_uri": "https://localhost:8080/",
          "height": 35
        },
        "outputId": "b7df779e-98e6-418c-fd65-60261d121187"
      },
      "source": [
        "marvel_dict.get('Place')"
      ],
      "execution_count": null,
      "outputs": [
        {
          "output_type": "execute_result",
          "data": {
            "text/plain": [
              "'Asgard'"
            ],
            "application/vnd.google.colaboratory.intrinsic+json": {
              "type": "string"
            }
          },
          "metadata": {},
          "execution_count": 205
        }
      ]
    },
    {
      "cell_type": "markdown",
      "metadata": {
        "id": "WsRmOWzVx2zG"
      },
      "source": [
        "### <code>get()</code>\n",
        "\n",
        "* <code>get()</code> method takes the key as an argument and returns None if the key is not found in the dictionary.\n",
        "\n",
        "\n",
        "* We can also set the value to return if a key is not found. This will be passed as the second argument in <code>get()</code>"
      ]
    },
    {
      "cell_type": "code",
      "metadata": {
        "id": "hHnXdwNNx2zG",
        "colab": {
          "base_uri": "https://localhost:8080/",
          "height": 35
        },
        "outputId": "c8a176a0-08e3-4d3d-d99c-4bc80c920575"
      },
      "source": [
        "marvel_dict.get('Place')"
      ],
      "execution_count": null,
      "outputs": [
        {
          "output_type": "execute_result",
          "data": {
            "text/plain": [
              "'Asgard'"
            ],
            "application/vnd.google.colaboratory.intrinsic+json": {
              "type": "string"
            }
          },
          "metadata": {},
          "execution_count": 206
        }
      ]
    },
    {
      "cell_type": "code",
      "metadata": {
        "id": "rAS9es6osPNX"
      },
      "source": [
        "marvel_dict.get('Random')"
      ],
      "execution_count": null,
      "outputs": []
    },
    {
      "cell_type": "code",
      "metadata": {
        "id": "ociIf394sPLE"
      },
      "source": [],
      "execution_count": null,
      "outputs": []
    },
    {
      "cell_type": "code",
      "metadata": {
        "id": "-wqYpb0Ox2zI",
        "colab": {
          "base_uri": "https://localhost:8080/",
          "height": 35
        },
        "outputId": "8ef92cf2-60d8-44bd-98b0-7adb8c025761"
      },
      "source": [
        "marvel_dict.get('Random','Not Found')"
      ],
      "execution_count": null,
      "outputs": [
        {
          "output_type": "execute_result",
          "data": {
            "text/plain": [
              "'Not Found'"
            ],
            "application/vnd.google.colaboratory.intrinsic+json": {
              "type": "string"
            }
          },
          "metadata": {},
          "execution_count": 208
        }
      ]
    },
    {
      "cell_type": "code",
      "metadata": {
        "id": "365bYlMJx2zJ",
        "colab": {
          "base_uri": "https://localhost:8080/",
          "height": 144
        },
        "outputId": "756973d0-7091-4489-aa6c-313a4dc2c03f"
      },
      "source": [
        "marvel_dict['friend']"
      ],
      "execution_count": null,
      "outputs": [
        {
          "output_type": "error",
          "ename": "KeyError",
          "evalue": "'friend'",
          "traceback": [
            "\u001b[0;31m---------------------------------------------------------------------------\u001b[0m",
            "\u001b[0;31mKeyError\u001b[0m                                  Traceback (most recent call last)",
            "\u001b[0;32m<ipython-input-209-6d5748fd78c2>\u001b[0m in \u001b[0;36m<cell line: 0>\u001b[0;34m()\u001b[0m\n\u001b[0;32m----> 1\u001b[0;31m \u001b[0mmarvel_dict\u001b[0m\u001b[0;34m[\u001b[0m\u001b[0;34m'friend'\u001b[0m\u001b[0;34m]\u001b[0m\u001b[0;34m\u001b[0m\u001b[0;34m\u001b[0m\u001b[0m\n\u001b[0m",
            "\u001b[0;31mKeyError\u001b[0m: 'friend'"
          ]
        }
      ]
    },
    {
      "cell_type": "markdown",
      "metadata": {
        "id": "zcMn2Wd-x2zL"
      },
      "source": [
        "Its important to note that dictionaries are very flexible in the data types they can hold. For example:"
      ]
    },
    {
      "cell_type": "code",
      "metadata": {
        "id": "jtF14Xqxx2zL"
      },
      "source": [
        "employee_dict = {'Name':'Sanket','Skills':['Python','Machine Learning',['Deep Learning',\"DS\",\"AI\"]],'Band':6.0,'Promotion Year':[2016,2018,2020]}"
      ],
      "execution_count": null,
      "outputs": []
    },
    {
      "cell_type": "code",
      "metadata": {
        "id": "TBmOrJKlCx4A",
        "colab": {
          "base_uri": "https://localhost:8080/"
        },
        "outputId": "66f8ba85-be74-402b-fa40-48d81b5cad6a"
      },
      "source": [
        "len(employee_dict.keys())"
      ],
      "execution_count": null,
      "outputs": [
        {
          "output_type": "execute_result",
          "data": {
            "text/plain": [
              "4"
            ]
          },
          "metadata": {},
          "execution_count": 33
        }
      ]
    },
    {
      "cell_type": "code",
      "source": [
        "[\"A\",'B','C'][0]"
      ],
      "metadata": {
        "colab": {
          "base_uri": "https://localhost:8080/",
          "height": 35
        },
        "id": "rR-hI-F3HNr9",
        "outputId": "5a90957b-fce2-4c82-c068-bbbb7ed8477f"
      },
      "execution_count": null,
      "outputs": [
        {
          "output_type": "execute_result",
          "data": {
            "text/plain": [
              "'A'"
            ],
            "application/vnd.google.colaboratory.intrinsic+json": {
              "type": "string"
            }
          },
          "metadata": {},
          "execution_count": 34
        }
      ]
    },
    {
      "cell_type": "code",
      "source": [
        "for i :\n",
        "  tablw[x][z][]"
      ],
      "metadata": {
        "id": "8cmVsAd_I6Fb"
      },
      "execution_count": null,
      "outputs": []
    },
    {
      "cell_type": "code",
      "source": [
        "employee_dict"
      ],
      "metadata": {
        "colab": {
          "base_uri": "https://localhost:8080/"
        },
        "id": "wkGoAJd5HByk",
        "outputId": "4471163e-4454-442a-ef74-3c69789bac16"
      },
      "execution_count": null,
      "outputs": [
        {
          "output_type": "execute_result",
          "data": {
            "text/plain": [
              "{'Name': 'Sanket',\n",
              " 'Skills': ['Python', 'Machine Learning', ['Deep Learning', 'DS', 'AI']],\n",
              " 'Band': 6.0,\n",
              " 'Promotion Year': [2016, 2018, 2020]}"
            ]
          },
          "metadata": {},
          "execution_count": 35
        }
      ]
    },
    {
      "cell_type": "code",
      "source": [
        "third_skill_of_any_em = employee_dict[\"Skills\"][2][2]\n",
        "third_skill_of_any_em"
      ],
      "metadata": {
        "colab": {
          "base_uri": "https://localhost:8080/",
          "height": 35
        },
        "id": "gv_B5-ECIajN",
        "outputId": "7319ae02-92a9-4c3f-e409-d8560b379153"
      },
      "execution_count": null,
      "outputs": [
        {
          "output_type": "execute_result",
          "data": {
            "text/plain": [
              "'AI'"
            ],
            "application/vnd.google.colaboratory.intrinsic+json": {
              "type": "string"
            }
          },
          "metadata": {},
          "execution_count": 42
        }
      ]
    },
    {
      "cell_type": "code",
      "source": [
        "third_skill_of_any_em = employee_dict[\"Skills\"][2][1] #\n",
        "third_skill_of_any_em = employee_dict[\"Skills\"][2,1] #\n",
        "\n",
        "\n",
        "third_skill_of_any_em"
      ],
      "metadata": {
        "colab": {
          "base_uri": "https://localhost:8080/"
        },
        "id": "hIKLbvFdev8s",
        "outputId": "023fba97-ae9c-4804-e3ad-488c13ba1ede"
      },
      "execution_count": null,
      "outputs": [
        {
          "output_type": "execute_result",
          "data": {
            "text/plain": [
              "['Deep Learning', 'DS', 'AI']"
            ]
          },
          "metadata": {},
          "execution_count": 36
        }
      ]
    },
    {
      "cell_type": "code",
      "source": [
        "employee_dict = {'Name':['Sanket', \"sam\", \"jad\"],'Skills':[['Python', [\"ds\", \"core\",\"ML\"]],'Machine Learning',[['Deep Learning',\"core gen AI\"],\"DS\",\"AI\"]],'Band':6.0,'Promotion Year':[2016,2018,2020]}"
      ],
      "metadata": {
        "id": "hDgS3SSOev6O"
      },
      "execution_count": null,
      "outputs": []
    },
    {
      "cell_type": "code",
      "source": [],
      "metadata": {
        "id": "GrWNaDSBev12"
      },
      "execution_count": null,
      "outputs": []
    },
    {
      "cell_type": "code",
      "metadata": {
        "id": "_RpBYW0Qx2zM",
        "outputId": "1c975284-8ce6-432c-97f6-7ef66d61ca7a",
        "colab": {
          "base_uri": "https://localhost:8080/"
        }
      },
      "source": [
        "# Let's call items from the dictionary\n",
        "employee_dict['Skills']"
      ],
      "execution_count": null,
      "outputs": [
        {
          "output_type": "execute_result",
          "data": {
            "text/plain": [
              "[['Python', ['ds', 'core', 'ML']],\n",
              " 'Machine Learning',\n",
              " [['Deep Learning', 'core gen AI'], 'DS', 'AI']]"
            ]
          },
          "metadata": {},
          "execution_count": 74
        }
      ]
    },
    {
      "cell_type": "code",
      "metadata": {
        "id": "u1mgrdHnx2zN",
        "outputId": "fd1127c7-ac44-4e52-d4f7-4c10edb75757",
        "colab": {
          "base_uri": "https://localhost:8080/"
        }
      },
      "source": [
        "# Can call an index on that value\n",
        "employee_dict['Skills'][0]"
      ],
      "execution_count": null,
      "outputs": [
        {
          "output_type": "execute_result",
          "data": {
            "text/plain": [
              "['Python', ['ds', 'core', 'ML']]"
            ]
          },
          "metadata": {},
          "execution_count": 75
        }
      ]
    },
    {
      "cell_type": "code",
      "metadata": {
        "id": "YT7M9CoMx2zP",
        "colab": {
          "base_uri": "https://localhost:8080/",
          "height": 162
        },
        "outputId": "7ebb8c6f-14d7-4350-c945-00218b5f5462"
      },
      "source": [
        "# Can then even call methods on that value\n",
        "employee_dict['Skills'][0].upper()"
      ],
      "execution_count": null,
      "outputs": [
        {
          "output_type": "error",
          "ename": "AttributeError",
          "evalue": "'list' object has no attribute 'upper'",
          "traceback": [
            "\u001b[0;31m---------------------------------------------------------------------------\u001b[0m",
            "\u001b[0;31mAttributeError\u001b[0m                            Traceback (most recent call last)",
            "\u001b[0;32m<ipython-input-76-0526b587970a>\u001b[0m in \u001b[0;36m<cell line: 0>\u001b[0;34m()\u001b[0m\n\u001b[1;32m      1\u001b[0m \u001b[0;31m# Can then even call methods on that value\u001b[0m\u001b[0;34m\u001b[0m\u001b[0;34m\u001b[0m\u001b[0m\n\u001b[0;32m----> 2\u001b[0;31m \u001b[0memployee_dict\u001b[0m\u001b[0;34m[\u001b[0m\u001b[0;34m'Skills'\u001b[0m\u001b[0;34m]\u001b[0m\u001b[0;34m[\u001b[0m\u001b[0;36m0\u001b[0m\u001b[0;34m]\u001b[0m\u001b[0;34m.\u001b[0m\u001b[0mupper\u001b[0m\u001b[0;34m(\u001b[0m\u001b[0;34m)\u001b[0m\u001b[0;34m\u001b[0m\u001b[0;34m\u001b[0m\u001b[0m\n\u001b[0m",
            "\u001b[0;31mAttributeError\u001b[0m: 'list' object has no attribute 'upper'"
          ]
        }
      ]
    },
    {
      "cell_type": "code",
      "source": [
        "employee_dict"
      ],
      "metadata": {
        "id": "zmMrWpnxJ6iQ"
      },
      "execution_count": null,
      "outputs": []
    },
    {
      "cell_type": "code",
      "metadata": {
        "id": "dcEo2ZqSx2zQ"
      },
      "source": [
        "# Add a new key\n",
        "\n",
        "employee_dict['Designation'] ='Senior Data Scientist'"
      ],
      "execution_count": null,
      "outputs": []
    },
    {
      "cell_type": "code",
      "source": [
        "employee_dict"
      ],
      "metadata": {
        "colab": {
          "base_uri": "https://localhost:8080/"
        },
        "id": "qbXpHlaALPnL",
        "outputId": "1c99fd3b-c4aa-4e9a-ca72-9ad17d67ac10"
      },
      "execution_count": null,
      "outputs": [
        {
          "output_type": "execute_result",
          "data": {
            "text/plain": [
              "{'Name': ['Sanket', 'sam', 'jad'],\n",
              " 'Skills': [['Python', ['ds', 'core', 'ML']],\n",
              "  'Machine Learning',\n",
              "  [['Deep Learning', 'core gen AI'], 'DS', 'AI']],\n",
              " 'Band': 6.0,\n",
              " 'Promotion Year': [2016, 2018, 2020],\n",
              " 'Designation': 'Senior Data Scientist'}"
            ]
          },
          "metadata": {},
          "execution_count": 78
        }
      ]
    },
    {
      "cell_type": "code",
      "metadata": {
        "id": "I_VxhEd_x2zR",
        "colab": {
          "base_uri": "https://localhost:8080/",
          "height": 35
        },
        "outputId": "6f065234-2c59-4901-c082-81f88e9dedf6"
      },
      "source": [
        "skills = employee_dict[\"Skills\"][0][1][1]\n",
        "skills"
      ],
      "execution_count": null,
      "outputs": [
        {
          "output_type": "execute_result",
          "data": {
            "text/plain": [
              "'core'"
            ],
            "application/vnd.google.colaboratory.intrinsic+json": {
              "type": "string"
            }
          },
          "metadata": {},
          "execution_count": 79
        }
      ]
    },
    {
      "cell_type": "markdown",
      "metadata": {
        "id": "KdEUV4J3x2zT"
      },
      "source": [
        "### <code>update()</code>\n",
        "\n",
        "* You can add an element which is a key-value pair using the <code>update()</code> method\n",
        "\n",
        "* This method takes a dictionary as an argument"
      ]
    },
    {
      "cell_type": "code",
      "metadata": {
        "id": "FEGkoCDBx2zT",
        "colab": {
          "base_uri": "https://localhost:8080/",
          "height": 141
        },
        "outputId": "34ab6634-28f7-4768-bd01-e50d47128102"
      },
      "source": [
        "employee_dict.update({'Salary':'4000000'})"
      ],
      "execution_count": 8,
      "outputs": [
        {
          "output_type": "error",
          "ename": "NameError",
          "evalue": "name 'employee_dict' is not defined",
          "traceback": [
            "\u001b[0;31m---------------------------------------------------------------------------\u001b[0m",
            "\u001b[0;31mNameError\u001b[0m                                 Traceback (most recent call last)",
            "\u001b[0;32m<ipython-input-8-2dac5ca3d894>\u001b[0m in \u001b[0;36m<cell line: 0>\u001b[0;34m()\u001b[0m\n\u001b[0;32m----> 1\u001b[0;31m \u001b[0memployee_dict\u001b[0m\u001b[0;34m.\u001b[0m\u001b[0mupdate\u001b[0m\u001b[0;34m(\u001b[0m\u001b[0;34m{\u001b[0m\u001b[0;34m'Salary'\u001b[0m\u001b[0;34m:\u001b[0m\u001b[0;34m'4000000'\u001b[0m\u001b[0;34m}\u001b[0m\u001b[0;34m)\u001b[0m\u001b[0;34m\u001b[0m\u001b[0;34m\u001b[0m\u001b[0m\n\u001b[0m",
            "\u001b[0;31mNameError\u001b[0m: name 'employee_dict' is not defined"
          ]
        }
      ]
    },
    {
      "cell_type": "code",
      "metadata": {
        "id": "MzCAighVx2zW"
      },
      "source": [
        "employee_dict"
      ],
      "execution_count": null,
      "outputs": []
    },
    {
      "cell_type": "markdown",
      "metadata": {
        "id": "vUSkFO6mx2zY"
      },
      "source": [
        "* We can also use the <code>update()</code> method to update the existing values for a key"
      ]
    },
    {
      "cell_type": "code",
      "metadata": {
        "id": "l1DZu6X9x2zY"
      },
      "source": [
        "employee_dict['Skills'][2][0][1] = \"Core ML Engineer\""
      ],
      "execution_count": null,
      "outputs": []
    },
    {
      "cell_type": "code",
      "source": [],
      "metadata": {
        "id": "SwqN5A5EMecs"
      },
      "execution_count": null,
      "outputs": []
    },
    {
      "cell_type": "code",
      "metadata": {
        "id": "XEqfvHmxx2zb"
      },
      "source": [
        "employee_dict"
      ],
      "execution_count": null,
      "outputs": []
    },
    {
      "cell_type": "markdown",
      "metadata": {
        "id": "xxQn8kbMx2zc"
      },
      "source": [
        "* We can affect the values of a key as well without the <code>update()</code> method"
      ]
    },
    {
      "cell_type": "code",
      "metadata": {
        "id": "-mEWWbYKx2zc"
      },
      "source": [
        "employee_dict['Name']"
      ],
      "execution_count": null,
      "outputs": []
    },
    {
      "cell_type": "code",
      "source": [],
      "metadata": {
        "id": "QgpwKRc3gIom"
      },
      "execution_count": null,
      "outputs": []
    },
    {
      "cell_type": "code",
      "metadata": {
        "id": "qichUeBNx2zf"
      },
      "source": [
        "# Subtract 123 from the value\n",
        "employee_dict['Name'] = employee_dict['Name'] + ' ' + 'Raj'"
      ],
      "execution_count": null,
      "outputs": []
    },
    {
      "cell_type": "code",
      "metadata": {
        "id": "z9grCvhxx2zg"
      },
      "source": [
        "#Check\n",
        "employee_dict"
      ],
      "execution_count": null,
      "outputs": []
    },
    {
      "cell_type": "markdown",
      "metadata": {
        "id": "Rnlnm59rx2zi"
      },
      "source": [
        "### <code>dict()</code>\n",
        "\n",
        "\n",
        "* We can also create dictionary objects from sequence of items which are pairs. This is done using the <code>dict()</code>method\n",
        "\n",
        "\n",
        "*  <code>dict()</code> function takes the list of paired elements as argument"
      ]
    },
    {
      "cell_type": "code",
      "metadata": {
        "id": "JSOCmifNV_ht"
      },
      "source": [
        "country_list = ['India','Australia','United States','England']\n",
        "city_list = ['New Delhi', 'Canberra' , 'Washington DC','London']"
      ],
      "execution_count": null,
      "outputs": []
    },
    {
      "cell_type": "code",
      "source": [
        "def map_countries_and_city(country_list,city_list):\n",
        "  results= {}\n",
        "\n",
        "  for i in range(len(country_list)):\n",
        "    results[country_list[i]]  =  city_list[i]\n",
        "  return results"
      ],
      "metadata": {
        "id": "4g7m8-RGNtcK"
      },
      "execution_count": null,
      "outputs": []
    },
    {
      "cell_type": "code",
      "source": [
        "output = map_countries_and_city(country_list,city_list)\n",
        "output"
      ],
      "metadata": {
        "colab": {
          "base_uri": "https://localhost:8080/"
        },
        "id": "-9kVVxRfOZpc",
        "outputId": "4c376cae-8947-497c-bc01-b61c953f6897"
      },
      "execution_count": null,
      "outputs": [
        {
          "output_type": "execute_result",
          "data": {
            "text/plain": [
              "{'India': 'New Delhi',\n",
              " 'Australia': 'Canberra',\n",
              " 'United States': 'Washington DC',\n",
              " 'England': 'London'}"
            ]
          },
          "metadata": {},
          "execution_count": 97
        }
      ]
    },
    {
      "cell_type": "code",
      "metadata": {
        "id": "mviLZSi0WSuK"
      },
      "source": [
        "country_city_list =list(zip(country_list,city_list))"
      ],
      "execution_count": null,
      "outputs": []
    },
    {
      "cell_type": "code",
      "metadata": {
        "colab": {
          "base_uri": "https://localhost:8080/"
        },
        "id": "o_whSlhOWZgG",
        "outputId": "9284dda2-e3fd-4fc2-e7ec-a01069666b18"
      },
      "source": [
        "country_city_list"
      ],
      "execution_count": null,
      "outputs": [
        {
          "output_type": "execute_result",
          "data": {
            "text/plain": [
              "[('India', 'New Delhi'),\n",
              " ('Australia', 'Canberra'),\n",
              " ('United States', 'Washington DC'),\n",
              " ('England', 'London')]"
            ]
          },
          "metadata": {},
          "execution_count": 101
        }
      ]
    },
    {
      "cell_type": "code",
      "metadata": {
        "colab": {
          "base_uri": "https://localhost:8080/"
        },
        "id": "vUdlGah7Wcu8",
        "outputId": "d971c2cc-40b1-484c-df39-4e434cc9ef24"
      },
      "source": [
        "dict(country_city_list)"
      ],
      "execution_count": null,
      "outputs": [
        {
          "output_type": "execute_result",
          "data": {
            "text/plain": [
              "{'India': 'New Delhi',\n",
              " 'Australia': 'Canberra',\n",
              " 'United States': 'Washington DC',\n",
              " 'England': 'London'}"
            ]
          },
          "metadata": {},
          "execution_count": 102
        }
      ]
    },
    {
      "cell_type": "code",
      "metadata": {
        "id": "vq5EXr2ex2zi"
      },
      "source": [
        "# Let us create a list of paired tuples\n",
        "country_city_tuples = [('India','New Delhi'),('Australia','Canberra'),('United States','Washington DC'),('England','London')]"
      ],
      "execution_count": null,
      "outputs": []
    },
    {
      "cell_type": "code",
      "metadata": {
        "id": "-6ObV-KFx2zj"
      },
      "source": [
        "country_city_dict = set(country_city_tuples)"
      ],
      "execution_count": null,
      "outputs": []
    },
    {
      "cell_type": "code",
      "metadata": {
        "id": "CQRGpNXJx2zk",
        "colab": {
          "base_uri": "https://localhost:8080/"
        },
        "outputId": "88fd39e1-9393-4b5c-9b9d-0904621ded44"
      },
      "source": [
        "country_city_dict"
      ],
      "execution_count": null,
      "outputs": [
        {
          "output_type": "execute_result",
          "data": {
            "text/plain": [
              "{('Australia', 'Canberra'),\n",
              " ('England', 'London'),\n",
              " ('India', 'New Delhi'),\n",
              " ('United States', 'Washington DC')}"
            ]
          },
          "metadata": {},
          "execution_count": 111
        }
      ]
    },
    {
      "cell_type": "markdown",
      "metadata": {
        "id": "IC5NCQkmx2zl"
      },
      "source": [
        "### <code>pop()</code>\n",
        "\n",
        "\n",
        "* <code>pop()</code> method removes and returns an element from a dictionary having the given key.\n",
        "\n",
        "* This method takes two arguments/parameters (i) key - key which is to be searched for removal, (ii) default - value which is to be returned when the key is not in the dictionary"
      ]
    },
    {
      "cell_type": "code",
      "metadata": {
        "colab": {
          "base_uri": "https://localhost:8080/",
          "height": 144
        },
        "id": "bGVEztzUuoNk",
        "outputId": "5a9c9764-d3dc-408c-b15c-7ceceb6b5b97"
      },
      "source": [
        "country_city_dict.pop('England')"
      ],
      "execution_count": null,
      "outputs": [
        {
          "output_type": "error",
          "ename": "TypeError",
          "evalue": "set.pop() takes no arguments (1 given)",
          "traceback": [
            "\u001b[0;31m---------------------------------------------------------------------------\u001b[0m",
            "\u001b[0;31mTypeError\u001b[0m                                 Traceback (most recent call last)",
            "\u001b[0;32m<ipython-input-112-512824be530f>\u001b[0m in \u001b[0;36m<cell line: 0>\u001b[0;34m()\u001b[0m\n\u001b[0;32m----> 1\u001b[0;31m \u001b[0mcountry_city_dict\u001b[0m\u001b[0;34m.\u001b[0m\u001b[0mpop\u001b[0m\u001b[0;34m(\u001b[0m\u001b[0;34m'England'\u001b[0m\u001b[0;34m)\u001b[0m\u001b[0;34m\u001b[0m\u001b[0;34m\u001b[0m\u001b[0m\n\u001b[0m",
            "\u001b[0;31mTypeError\u001b[0m: set.pop() takes no arguments (1 given)"
          ]
        }
      ]
    },
    {
      "cell_type": "code",
      "metadata": {
        "id": "IPNFmS9lusRR"
      },
      "source": [
        "country_city_dict"
      ],
      "execution_count": null,
      "outputs": []
    },
    {
      "cell_type": "code",
      "metadata": {
        "id": "r6NkuEnlx2zl"
      },
      "source": [
        "element_to_pop = country_city_dict.pop('England')"
      ],
      "execution_count": null,
      "outputs": []
    },
    {
      "cell_type": "code",
      "metadata": {
        "id": "9qxKp-iBx2zn",
        "colab": {
          "base_uri": "https://localhost:8080/",
          "height": 35
        },
        "outputId": "ba56f62f-d84e-49e7-eb2d-0582283bc52b"
      },
      "source": [
        "element_to_pop"
      ],
      "execution_count": null,
      "outputs": [
        {
          "output_type": "execute_result",
          "data": {
            "application/vnd.google.colaboratory.intrinsic+json": {
              "type": "string"
            },
            "text/plain": [
              "'London'"
            ]
          },
          "metadata": {
            "tags": []
          },
          "execution_count": 156
        }
      ]
    },
    {
      "cell_type": "code",
      "metadata": {
        "id": "_1kPkAHwx2zo",
        "colab": {
          "base_uri": "https://localhost:8080/",
          "height": 67
        },
        "outputId": "2b95010e-d82b-49d6-99df-3270460a19c6"
      },
      "source": [
        "country_city_dict"
      ],
      "execution_count": null,
      "outputs": [
        {
          "output_type": "execute_result",
          "data": {
            "text/plain": [
              "{'Australia': 'Canberra',\n",
              " 'India': 'New Delhi',\n",
              " 'United States': 'Washington DC'}"
            ]
          },
          "metadata": {
            "tags": []
          },
          "execution_count": 157
        }
      ]
    },
    {
      "cell_type": "markdown",
      "metadata": {
        "id": "M2AfPxHSx2zp"
      },
      "source": [
        "### We can use the <code>zip()</code> and <code>dict()</code> methods to create a dictionary object from two lists"
      ]
    },
    {
      "cell_type": "code",
      "metadata": {
        "id": "2x3V4Ew2x2zp"
      },
      "source": [
        "name = [\"Manjeet\", \"Nikhil\", \"Shambhavi\"]\n",
        "marks = [40, 50, 60]"
      ],
      "execution_count": null,
      "outputs": []
    },
    {
      "cell_type": "code",
      "metadata": {
        "id": "ARSqMR2Yx2zq"
      },
      "source": [
        "mapped = zip(name, marks)"
      ],
      "execution_count": null,
      "outputs": []
    },
    {
      "cell_type": "code",
      "metadata": {
        "id": "j_qa801mx2zs"
      },
      "source": [
        "mapped"
      ],
      "execution_count": null,
      "outputs": []
    },
    {
      "cell_type": "code",
      "metadata": {
        "id": "KOegPhIOx2zu",
        "outputId": "e50bf1ff-44c8-40b0-cdac-5edaeeea833a"
      },
      "source": [
        "print(dict(mapped))"
      ],
      "execution_count": null,
      "outputs": [
        {
          "output_type": "stream",
          "text": [
            "{'Manjeet': 40, 'Nikhil': 50, 'Shambhavi': 60}\n"
          ],
          "name": "stdout"
        }
      ]
    },
    {
      "cell_type": "code",
      "metadata": {
        "id": "vVYMZn_Cx2zv"
      },
      "source": [
        "name = [\"Manjeet\", \"Nikhil\", \"Shambhavi\"]\n",
        "marks = [40, 50, 60,80]"
      ],
      "execution_count": null,
      "outputs": []
    },
    {
      "cell_type": "code",
      "metadata": {
        "id": "cJpurERkx2zw"
      },
      "source": [
        "mapped = zip(name, marks)"
      ],
      "execution_count": null,
      "outputs": []
    },
    {
      "cell_type": "code",
      "metadata": {
        "id": "huwhblKwx2zz",
        "outputId": "d1d39441-6ae1-490c-c6a9-46cb9f556524"
      },
      "source": [
        "print(dict(mapped))"
      ],
      "execution_count": null,
      "outputs": [
        {
          "output_type": "stream",
          "text": [
            "{'Manjeet': 40, 'Nikhil': 50, 'Shambhavi': 60}\n"
          ],
          "name": "stdout"
        }
      ]
    },
    {
      "cell_type": "markdown",
      "source": [
        "##Problem 1: Resume info extractor"
      ],
      "metadata": {
        "id": "NpaD5vhGRjVX"
      }
    },
    {
      "cell_type": "code",
      "source": [
        "resume ={\n",
        "    \"name\" : \"Raj Sharma\",\n",
        "    \"skills\" : [\"python\", \"ML\", \"Power BI\"],\n",
        "    \"Email\" : \"raj@gmail.com\"\n",
        "}\n",
        "\n",
        "#task :\n",
        "# 1. print all the keys\n",
        "list_of_keys = list(resume.keys())\n",
        "\n",
        "print(list_of_keys)\n",
        "\n",
        "# 2. check if NLP in skills or not !\n",
        "if \"NLP\" in resume[\"skills\"]:\n",
        "  print(\"Yes\")\n",
        "else:\n",
        "  print(\"No\")\n",
        "\n",
        "#without if else statement\n",
        "\n",
        "element_to_check = \"NLP\"\n",
        "\n",
        "print(element_to_check in resume)\n",
        "\n",
        "# 3. Add a key experience !\n",
        "\n",
        "resume['Experience'] = '2 Years'\n",
        "\n",
        "print(resume)\n"
      ],
      "metadata": {
        "id": "GCbKD9F2Ri53",
        "colab": {
          "base_uri": "https://localhost:8080/"
        },
        "outputId": "b93e4ad0-cdb5-49a9-90c7-6ee1bf0ab5b1"
      },
      "execution_count": 9,
      "outputs": [
        {
          "output_type": "stream",
          "name": "stdout",
          "text": [
            "['name', 'skills', 'Email']\n",
            "No\n",
            "False\n",
            "{'name': 'Raj Sharma', 'skills': ['python', 'ML', 'Power BI'], 'Email': 'raj@gmail.com', 'Experience': '2 Years'}\n"
          ]
        }
      ]
    },
    {
      "cell_type": "markdown",
      "source": [
        "#2. Chatbot Response Mapper"
      ],
      "metadata": {
        "id": "NqkS2FQhSP7R"
      }
    },
    {
      "cell_type": "code",
      "source": [
        "responses = {\n",
        "    \"greeting\": \"Hello! How can I help you?\",\n",
        "    \"bye\": \"Goodbye! Have a nice day!\",\n",
        "    \"default\": \"Sorry, I didn't understand that.\"\n",
        "}\n",
        "\n",
        "# Given an input type = \"greeting\"\n",
        "input_type = \"greeting\"\n",
        "\n",
        "# Print the correct response using get()\n",
        "response = responses.get(input_type)\n",
        "print(response)"
      ],
      "metadata": {
        "id": "slQK2hXKSOMk",
        "colab": {
          "base_uri": "https://localhost:8080/"
        },
        "outputId": "578a1f3f-6521-40be-87a2-d52b0e54cd07"
      },
      "execution_count": 12,
      "outputs": [
        {
          "output_type": "stream",
          "name": "stdout",
          "text": [
            "Hello! How can I help you?\n"
          ]
        }
      ]
    },
    {
      "cell_type": "markdown",
      "source": [
        "##  Problem 3: API-like Data Access\n"
      ],
      "metadata": {
        "id": "-q--BuODSkfa"
      }
    },
    {
      "cell_type": "code",
      "source": [
        "user_data = {\n",
        "    \"user\": {\n",
        "        \"id\": 101,\n",
        "        \"name\": \"Saurabh\",\n",
        "        \"meta\": {\n",
        "            \"location\": \"Pune\",\n",
        "            \"verified\": True\n",
        "        }\n",
        "    }\n",
        "}\n",
        "\n",
        "# Print location\n",
        "user_data['user']['meta']['location']\n",
        "\n",
        "# Add \"subscription\": \"Pro\"\n",
        "user_data['user']['subscription'] = 'Pro'\n",
        "print(user_data)\n",
        "\n",
        "# Delete \"verified\"\n",
        "del user_data['user']['meta']['verified']\n",
        "print(user_data)\n"
      ],
      "metadata": {
        "id": "-WxypBm1SfzM",
        "colab": {
          "base_uri": "https://localhost:8080/"
        },
        "outputId": "ef055e81-ad07-4a33-b6a9-35f02a87623d"
      },
      "execution_count": 29,
      "outputs": [
        {
          "output_type": "stream",
          "name": "stdout",
          "text": [
            "{'user': {'id': 101, 'name': 'Saurabh', 'meta': {'location': 'Pune', 'verified': True}, 'subscription': 'Pro'}}\n",
            "{'user': {'id': 101, 'name': 'Saurabh', 'meta': {'location': 'Pune'}, 'subscription': 'Pro'}}\n"
          ]
        }
      ]
    },
    {
      "cell_type": "markdown",
      "source": [
        "##Problem 4: Frequency Counter (Intro to NLP use)"
      ],
      "metadata": {
        "id": "VlmtT0ynSpia"
      }
    },
    {
      "cell_type": "code",
      "source": [
        "text = \"ai ai gen gen gen ml\"\n",
        "\n",
        "# Expected Output:\n",
        "# {\"ai\": 2, \"gen\": 3, \"ml\": 1}\n",
        "\n",
        "\n"
      ],
      "metadata": {
        "id": "2DvJXqIxSiQP"
      },
      "execution_count": null,
      "outputs": []
    }
  ]
}