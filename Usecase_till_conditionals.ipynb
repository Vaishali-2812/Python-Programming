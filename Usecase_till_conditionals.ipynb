{
  "cells": [
    {
      "cell_type": "markdown",
      "metadata": {
        "id": "view-in-github",
        "colab_type": "text"
      },
      "source": [
        "<a href=\"https://colab.research.google.com/github/Vaishali-2812/Python-Programming/blob/Python_Learning/Usecase_till_conditionals.ipynb\" target=\"_parent\"><img src=\"https://colab.research.google.com/assets/colab-badge.svg\" alt=\"Open In Colab\"/></a>"
      ]
    },
    {
      "cell_type": "markdown",
      "id": "9be76391",
      "metadata": {
        "id": "9be76391"
      },
      "source": [
        "# Python Foundations: Real-World Use Cases and Exercises"
      ]
    },
    {
      "cell_type": "markdown",
      "id": "018da585",
      "metadata": {
        "id": "018da585"
      },
      "source": [
        "## Use Case 1: E-commerce Order Summary\n",
        "\n",
        "\n",
        "A user is placing an order on an e-commerce website. You’re given:\n",
        "```python\n",
        "item_name = \"T-shirt\"\n",
        "price = 599.99\n",
        "quantity = 2\n",
        "```\n",
        "Print the final amount. If the total is more than ₹1000, print “You get Free Delivery!” else “Delivery charge: ₹50”.\n"
      ]
    },
    {
      "cell_type": "code",
      "source": [
        "item_name = input(\"enter the name item name:\")\n",
        "price = int(input(\"enter the price:\"))\n",
        "quantity = int(input(\"enter the quantity:\"))\n",
        "\n",
        "\n",
        "total = price * quantity\n",
        "if total > 1000:\n",
        "  print(\"You get Free Delivery!\")\n",
        "elif total >= 800:\n",
        "  print(\"Delivery Charge: 40\")\n",
        "elif total >= 500:\n",
        "  print(\"Delivery Charge: 20\")\n",
        "else :\n",
        "\n",
        "  print (\"Delivery Chagre:50\")"
      ],
      "metadata": {
        "colab": {
          "base_uri": "https://localhost:8080/"
        },
        "id": "n0_fkpnbw9bc",
        "outputId": "ef4c4d36-88b9-4146-eadc-af6ef7c14794"
      },
      "id": "n0_fkpnbw9bc",
      "execution_count": null,
      "outputs": [
        {
          "output_type": "stream",
          "name": "stdout",
          "text": [
            "enter the name item name:hg\n",
            "enter the price:25\n",
            "enter the quantity:2\n",
            "Delivery Chagre:50\n"
          ]
        }
      ]
    },
    {
      "cell_type": "code",
      "execution_count": null,
      "id": "3e95622d",
      "metadata": {
        "id": "3e95622d"
      },
      "outputs": [],
      "source": [
        "#your solution take multiple user inputs if rewquired and try to make it as a nested conditionals !"
      ]
    },
    {
      "cell_type": "markdown",
      "id": "cb1eb0ea",
      "metadata": {
        "id": "cb1eb0ea"
      },
      "source": [
        "## Use Case 2: Online Course Registration Check\n",
        "\n",
        "\n",
        "A student can register for a course only if:\n",
        "- They are above 18 years of age\n",
        "- They have agreed to terms (boolean)\n",
        "```python\n",
        "age = 19\n",
        "agreed = True\n",
        "```\n"
      ]
    },
    {
      "cell_type": "code",
      "execution_count": null,
      "id": "6b35c1d2",
      "metadata": {
        "id": "6b35c1d2",
        "colab": {
          "base_uri": "https://localhost:8080/"
        },
        "outputId": "67c8a2e3-8b2d-426b-c6ca-4fad826231b0"
      },
      "outputs": [
        {
          "output_type": "stream",
          "name": "stdout",
          "text": [
            "Enter your age :19\n",
            "You are not Robot : True\n",
            "You are eligible for course registration\n"
          ]
        }
      ],
      "source": [
        "age = int(input(\"Enter your age :\"))\n",
        "agreed = bool(input(\"You are not Robot : \"))\n",
        "\n",
        "if age >= 18 and agreed == True:\n",
        "  print(\"You are eligible for course registration\")\n",
        "\n",
        "else:\n",
        "  print(\"You are not eblibible for the course registration\")"
      ]
    },
    {
      "cell_type": "code",
      "source": [],
      "metadata": {
        "id": "jhqBTKeFUUtB"
      },
      "id": "jhqBTKeFUUtB",
      "execution_count": null,
      "outputs": []
    },
    {
      "cell_type": "code",
      "source": [],
      "metadata": {
        "id": "EVh0LsVfUVBd"
      },
      "id": "EVh0LsVfUVBd",
      "execution_count": null,
      "outputs": []
    },
    {
      "cell_type": "markdown",
      "id": "bc17ef59",
      "metadata": {
        "id": "bc17ef59"
      },
      "source": [
        "## Use Case 3: Gym Membership Summary\n",
        "\n",
        "\n",
        "A gym offers 3 types of memberships with different monthly rates. Calculate total price and give a discount for subscriptions longer than 6 months.\n"
      ]
    },
    {
      "cell_type": "code",
      "execution_count": null,
      "id": "bcba9eef",
      "metadata": {
        "id": "bcba9eef",
        "colab": {
          "base_uri": "https://localhost:8080/"
        },
        "outputId": "953b2698-e808-4ea1-a560-c0de4dedf224"
      },
      "outputs": [
        {
          "output_type": "stream",
          "name": "stdout",
          "text": [
            "Enter membership type (Basic, Standard, Premium): Basic\n",
            "Enter duration in months: 8\n",
            "Total price: Rs3600.0\n"
          ]
        }
      ],
      "source": [
        "membership_rates = {\n",
        "    \"Basic\": 500,\n",
        "    \"Standard\": 1000,\n",
        "    \"Premium\": 1500\n",
        "}\n",
        "\n",
        "# Get user input\n",
        "membership_type = input(\"Enter membership type (Basic, Standard, Premium): \")\n",
        "months = int(input(\"Enter duration in months: \"))\n",
        "\n",
        "# Validate membership type\n",
        "if membership_type not in membership_rates:\n",
        "    print(\"Invalid membership type.\")\n",
        "else:\n",
        "    # Calculate total price\n",
        "    monthly_rate = membership_rates[membership_type]\n",
        "    total_price = monthly_rate * months\n",
        "\n",
        "    # Apply discount if applicable\n",
        "    if months > 6:\n",
        "        discount = total_price * 0.1  # 10% discount\n",
        "        total_price -= discount\n",
        "\n",
        "    # Display the price\n",
        "    print(f\"Total price: Rs{total_price}\")"
      ]
    },
    {
      "cell_type": "markdown",
      "id": "670b742b",
      "metadata": {
        "id": "670b742b"
      },
      "source": [
        "## Use Case 4: Movie Night Planner\n",
        "\n",
        "Check which of the user’s favorite movies are available."
      ]
    },
    {
      "cell_type": "code",
      "execution_count": null,
      "id": "a0094d38",
      "metadata": {
        "id": "a0094d38",
        "colab": {
          "base_uri": "https://localhost:8080/"
        },
        "outputId": "0efb90b0-b8d3-48fa-fa42-dab6d6618260"
      },
      "outputs": [
        {
          "output_type": "stream",
          "name": "stdout",
          "text": [
            "Enter the name of the movie :avengers\n",
            "avengers is not available\n"
          ]
        }
      ],
      "source": [
        "available_movies = {\"Avengers\", \"Inception\", \"The Shawshank Redemption\", \"Interstellar\", \"The Dark Knight\"}\n",
        "\n",
        "movie_name = input(\"Enter the name of the movie :\")\n",
        "\n",
        "if movie_name in available_movies:\n",
        "  print(f\"{movie_name} is available for the movie night\")\n",
        "else:\n",
        "  print(f\"{movie_name} is not available\")\n",
        "\n",
        "\n",
        "\n"
      ]
    },
    {
      "cell_type": "code",
      "source": [
        "type(available_movies)"
      ],
      "metadata": {
        "colab": {
          "base_uri": "https://localhost:8080/"
        },
        "id": "LqABtvPfZR7X",
        "outputId": "79f3a023-933a-4d97-95dc-d8a0b1d14467"
      },
      "id": "LqABtvPfZR7X",
      "execution_count": null,
      "outputs": [
        {
          "output_type": "execute_result",
          "data": {
            "text/plain": [
              "set"
            ]
          },
          "metadata": {},
          "execution_count": 4
        }
      ]
    },
    {
      "cell_type": "markdown",
      "id": "5bf60e7c",
      "metadata": {
        "id": "5bf60e7c"
      },
      "source": [
        "## Use Case 5: Student Certificate Generator\n",
        "\n",
        "Give a certificate if score > 70 and assignment is submitted."
      ]
    },
    {
      "cell_type": "code",
      "source": [
        "score = int(input(\"Enter your score :\"))\n",
        "assignment = (input(\"Have you submitted your assignments? Yes/No :\"))\n",
        "\n",
        "if score > 70 and assignment == \"Yes\":\n",
        "  print(\"You are eligible for the certificate!!\")\n",
        "\n",
        "else:\n",
        "  print(\"You are not eligible for the certificate!!\")"
      ],
      "metadata": {
        "id": "Ldkg4kmEBAe9"
      },
      "id": "Ldkg4kmEBAe9",
      "execution_count": null,
      "outputs": []
    },
    {
      "cell_type": "code",
      "execution_count": null,
      "id": "80942dfa",
      "metadata": {
        "id": "80942dfa"
      },
      "outputs": [],
      "source": []
    },
    {
      "cell_type": "markdown",
      "id": "b69b4d72",
      "metadata": {
        "id": "b69b4d72"
      },
      "source": [
        "## Use Case 6: Food Order Summary Using Dictionary\n",
        "\n",
        "Check menu item and display price, or show not available message."
      ]
    },
    {
      "cell_type": "code",
      "execution_count": null,
      "id": "e0fc0941",
      "metadata": {
        "id": "e0fc0941",
        "colab": {
          "base_uri": "https://localhost:8080/"
        },
        "outputId": "579a1d01-d051-458e-a4b0-ce40f89f3106"
      },
      "outputs": [
        {
          "output_type": "stream",
          "name": "stdout",
          "text": [
            "Enter the Item Name :chips\n",
            "chips: Rs60\n"
          ]
        }
      ],
      "source": [
        "menu = {\"Noodles\":50,\"Fried_rice\":80,\"Soup\":40,\"chips\":60,\"paneer_roll\":70}\n",
        "item_name = input(\"Enter the Item Name :\")\n",
        "\n",
        "if item_name in menu:\n",
        "  print(f\"{item_name}: Rs{menu[item_name]}\")\n",
        "else :\n",
        "  print(f\"{item_name} is not available in the menu\")\n",
        "\n",
        "\n",
        "\n"
      ]
    },
    {
      "cell_type": "markdown",
      "id": "2f9976a7",
      "metadata": {
        "id": "2f9976a7"
      },
      "source": [
        "## Use Case 7: Festival Wish Using Sets\n",
        "\n",
        "Wish if festival exists in the set."
      ]
    },
    {
      "cell_type": "markdown",
      "source": [],
      "metadata": {
        "id": "vvdmbT8FConw"
      },
      "id": "vvdmbT8FConw"
    },
    {
      "cell_type": "code",
      "execution_count": null,
      "id": "6b2979d3",
      "metadata": {
        "id": "6b2979d3",
        "colab": {
          "base_uri": "https://localhost:8080/"
        },
        "outputId": "9595513e-8f48-48a3-f132-eb883daaca6c"
      },
      "outputs": [
        {
          "output_type": "stream",
          "name": "stdout",
          "text": [
            "Enter the name of the festival: holi\n",
            "Sorry, I don't have a wish for holi.\n"
          ]
        }
      ],
      "source": [
        "festivals = {\"Diwali\", \"Holi\", \"Christmas\", \"Eid\", \"New Year\"}\n",
        "\n",
        "# Get user input for the festival name\n",
        "festival_name = input(\"Enter the name of the festival: \")\n",
        "\n",
        "# Check the set and display the wish\n",
        "if festival_name in festivals:\n",
        "  print(f\"Happy {festival_name}!\")\n",
        "else:\n",
        "  print(f\"Sorry, I don't have a wish for {festival_name}.\")"
      ]
    },
    {
      "cell_type": "code",
      "source": [
        "type(festivals)\n"
      ],
      "metadata": {
        "colab": {
          "base_uri": "https://localhost:8080/"
        },
        "id": "gPln5lieeUV4",
        "outputId": "8079801b-082d-41c7-a988-5be6eb3b1dda"
      },
      "id": "gPln5lieeUV4",
      "execution_count": null,
      "outputs": [
        {
          "output_type": "execute_result",
          "data": {
            "text/plain": [
              "set"
            ]
          },
          "metadata": {},
          "execution_count": 11
        }
      ]
    }
  ],
  "metadata": {
    "colab": {
      "provenance": [],
      "include_colab_link": true
    },
    "language_info": {
      "name": "python"
    },
    "kernelspec": {
      "name": "python3",
      "display_name": "Python 3"
    }
  },
  "nbformat": 4,
  "nbformat_minor": 5
}