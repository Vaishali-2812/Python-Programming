{
  "nbformat": 4,
  "nbformat_minor": 0,
  "metadata": {
    "kernelspec": {
      "display_name": "Python 3",
      "language": "python",
      "name": "python3"
    },
    "language_info": {
      "codemirror_mode": {
        "name": "ipython",
        "version": 3
      },
      "file_extension": ".py",
      "mimetype": "text/x-python",
      "name": "python",
      "nbconvert_exporter": "python",
      "pygments_lexer": "ipython3",
      "version": "3.7.4"
    },
    "colab": {
      "provenance": [],
      "collapsed_sections": [
        "6Qd7qKM1uH3Y",
        "p7d98KoOuH3f",
        "et3AsvCkuH3n",
        "1sitoBoVuH3u",
        "V31491BvuH3z",
        "BgmqyEUHuH4M",
        "tGmbu4MKuH43",
        "rshOIKENuH5F",
        "YBAQ1FyQuH5f",
        "Wheg57npuH5t",
        "avyykdGjuH52",
        "f4JqHtEouH57",
        "-PKIGd9xuH6a"
      ],
      "include_colab_link": true
    }
  },
  "cells": [
    {
      "cell_type": "markdown",
      "metadata": {
        "id": "view-in-github",
        "colab_type": "text"
      },
      "source": [
        "<a href=\"https://colab.research.google.com/github/Vaishali-2812/Python-Programming/blob/Python_Learning/Introduction_to_Lists.ipynb\" target=\"_parent\"><img src=\"https://colab.research.google.com/assets/colab-badge.svg\" alt=\"Open In Colab\"/></a>"
      ]
    },
    {
      "cell_type": "code",
      "source": [
        "#join()"
      ],
      "metadata": {
        "id": "ga40Gj3nBcQs"
      },
      "execution_count": null,
      "outputs": []
    },
    {
      "cell_type": "code",
      "source": [
        "string1 = \"hello how are you !\"\n",
        "string1.split()"
      ],
      "metadata": {
        "colab": {
          "base_uri": "https://localhost:8080/"
        },
        "id": "WADX1h2lBcOG",
        "outputId": "acc14d7d-b4f5-4a4a-b633-e87ba0584621"
      },
      "execution_count": null,
      "outputs": [
        {
          "output_type": "execute_result",
          "data": {
            "text/plain": [
              "['hello', 'how', 'are', 'you', '!']"
            ]
          },
          "metadata": {},
          "execution_count": 8
        }
      ]
    },
    {
      "cell_type": "code",
      "source": [
        "# hello can you tell me about ds /\n",
        "\n",
        "\n",
        "\"\".join(string1)"
      ],
      "metadata": {
        "colab": {
          "base_uri": "https://localhost:8080/",
          "height": 35
        },
        "id": "OaIhZSifBcK3",
        "outputId": "280786fa-1ce3-4b69-813f-b06644d927da"
      },
      "execution_count": null,
      "outputs": [
        {
          "output_type": "execute_result",
          "data": {
            "text/plain": [
              "'hello how are you !'"
            ],
            "application/vnd.google.colaboratory.intrinsic+json": {
              "type": "string"
            }
          },
          "metadata": {},
          "execution_count": 12
        }
      ]
    },
    {
      "cell_type": "code",
      "source": [
        "words = [\"sr\" ,\"awo\"]\n",
        "sentence = \"!\".join(words)\n",
        "print(sentence)"
      ],
      "metadata": {
        "colab": {
          "base_uri": "https://localhost:8080/"
        },
        "id": "uhpxtTpWBcF6",
        "outputId": "c87cb081-c010-4623-83e1-a9cde78b6545"
      },
      "execution_count": null,
      "outputs": [
        {
          "output_type": "stream",
          "name": "stdout",
          "text": [
            "sr!awo\n"
          ]
        }
      ]
    },
    {
      "cell_type": "code",
      "source": [
        "fruits = [\"apple\",\"banana\",\"cherry\"]\n",
        "result = \" \".join(fruits)\n",
        "print(f\"the names given are the ,{result}\")"
      ],
      "metadata": {
        "colab": {
          "base_uri": "https://localhost:8080/"
        },
        "id": "yd1dXuUuBcDC",
        "outputId": "c685585a-e856-43b5-e7e6-c3bf89b29fb7"
      },
      "execution_count": null,
      "outputs": [
        {
          "output_type": "stream",
          "name": "stdout",
          "text": [
            "the names given are the ,apple banana cherry\n"
          ]
        }
      ]
    },
    {
      "cell_type": "code",
      "source": [
        "emails = [\"user1@gmail.com\", \"user2@gmail.com\"]\n",
        "email_line = \" ; \".join(emails)\n",
        "print(email_line)"
      ],
      "metadata": {
        "colab": {
          "base_uri": "https://localhost:8080/"
        },
        "id": "mQf_HjmKD12E",
        "outputId": "2e1d3ba0-5cb1-4104-8216-84add8fffd6c"
      },
      "execution_count": null,
      "outputs": [
        {
          "output_type": "stream",
          "name": "stdout",
          "text": [
            "user1@gmail.com ; user2@gmail.com\n"
          ]
        }
      ]
    },
    {
      "cell_type": "code",
      "source": [
        "data = [\"sau\", 10, \"fun\"]\n",
        "data_line = \" ; \".join(data)\n",
        "print(data_line)"
      ],
      "metadata": {
        "colab": {
          "base_uri": "https://localhost:8080/",
          "height": 180
        },
        "id": "Sxj4GwCVD1zw",
        "outputId": "0243296a-63ed-4711-920b-f3107d27bbf0"
      },
      "execution_count": null,
      "outputs": [
        {
          "output_type": "error",
          "ename": "TypeError",
          "evalue": "sequence item 1: expected str instance, int found",
          "traceback": [
            "\u001b[0;31m---------------------------------------------------------------------------\u001b[0m",
            "\u001b[0;31mTypeError\u001b[0m                                 Traceback (most recent call last)",
            "\u001b[0;32m<ipython-input-22-a050cb32bbb9>\u001b[0m in \u001b[0;36m<cell line: 0>\u001b[0;34m()\u001b[0m\n\u001b[1;32m      1\u001b[0m \u001b[0mdata\u001b[0m \u001b[0;34m=\u001b[0m \u001b[0;34m[\u001b[0m\u001b[0;34m\"sau\"\u001b[0m\u001b[0;34m,\u001b[0m \u001b[0;36m10\u001b[0m\u001b[0;34m,\u001b[0m \u001b[0;34m\"fun\"\u001b[0m\u001b[0;34m]\u001b[0m\u001b[0;34m\u001b[0m\u001b[0;34m\u001b[0m\u001b[0m\n\u001b[0;32m----> 2\u001b[0;31m \u001b[0mdata_line\u001b[0m \u001b[0;34m=\u001b[0m \u001b[0;34m\" ; \"\u001b[0m\u001b[0;34m.\u001b[0m\u001b[0mjoin\u001b[0m\u001b[0;34m(\u001b[0m\u001b[0mdata\u001b[0m\u001b[0;34m)\u001b[0m\u001b[0;34m\u001b[0m\u001b[0;34m\u001b[0m\u001b[0m\n\u001b[0m\u001b[1;32m      3\u001b[0m \u001b[0mprint\u001b[0m\u001b[0;34m(\u001b[0m\u001b[0mdata_line\u001b[0m\u001b[0;34m)\u001b[0m\u001b[0;34m\u001b[0m\u001b[0;34m\u001b[0m\u001b[0m\n",
            "\u001b[0;31mTypeError\u001b[0m: sequence item 1: expected str instance, int found"
          ]
        }
      ]
    },
    {
      "cell_type": "code",
      "source": [],
      "metadata": {
        "id": "8fuky78SF_bN"
      },
      "execution_count": null,
      "outputs": []
    },
    {
      "cell_type": "code",
      "source": [
        "#user input\n",
        "\n",
        "name = \"abc\"\n",
        "last_name = \"qwe\"\n",
        "print(\"first name is\",name, \"last name is \",last_name)"
      ],
      "metadata": {
        "colab": {
          "base_uri": "https://localhost:8080/"
        },
        "id": "axU4Nk7tD1wf",
        "outputId": "b9b903f8-ac76-4e4a-ed06-92903c168b4c"
      },
      "execution_count": null,
      "outputs": [
        {
          "output_type": "stream",
          "name": "stdout",
          "text": [
            "first name is abc last name is  qwe\n"
          ]
        }
      ]
    },
    {
      "cell_type": "code",
      "source": [
        "name = input(\"enter the first name:\")\n",
        "last_name = input(\"enter the last name:\")\n",
        "print(\"first name is\",name, \"last name is \",last_name)\n"
      ],
      "metadata": {
        "colab": {
          "base_uri": "https://localhost:8080/"
        },
        "id": "68OTgqsHD1uK",
        "outputId": "df091a28-a4f6-4531-ac20-03fb65ea4215"
      },
      "execution_count": null,
      "outputs": [
        {
          "output_type": "stream",
          "name": "stdout",
          "text": [
            "enter the first name:abc\n",
            "enter the last name:asd\n",
            "first name is abc last name is  asd\n"
          ]
        }
      ]
    },
    {
      "cell_type": "code",
      "source": [
        "age = int(input(\"enter your age:\"))\n",
        "print(\"age of the given person is\", age)"
      ],
      "metadata": {
        "colab": {
          "base_uri": "https://localhost:8080/"
        },
        "id": "zysi8hvTD1r5",
        "outputId": "58616bdc-e2d5-4289-dcba-ab3803683dde"
      },
      "execution_count": null,
      "outputs": [
        {
          "output_type": "stream",
          "name": "stdout",
          "text": [
            "enter your age:12\n",
            "age of the given person is 12\n"
          ]
        }
      ]
    },
    {
      "cell_type": "code",
      "source": [
        "# create a form for the studentd where you will ask the name email phone number for the ragistration , and\n",
        "#the ragistration is done print a good thank you message"
      ],
      "metadata": {
        "id": "-xMG5YfMEVoP"
      },
      "execution_count": null,
      "outputs": []
    },
    {
      "cell_type": "code",
      "source": [
        "#3 inputs then join all of them!"
      ],
      "metadata": {
        "id": "xhc0QNgSEVii"
      },
      "execution_count": null,
      "outputs": []
    },
    {
      "cell_type": "code",
      "source": [
        "Student_form = []\n",
        "\n",
        "name = input(\"Enter your name: \")\n",
        "email = input(\"Enter your email: \")\n",
        "phone_number = input(\"Enter your phone number: \")\n",
        "\n",
        "Student_form.append(name)\n",
        "Student_form.append(email)\n",
        "Student_form.append(phone_number)\n",
        "\n",
        "print(\"Thank you for registring\")\n",
        "print(Student_form)"
      ],
      "metadata": {
        "colab": {
          "base_uri": "https://localhost:8080/"
        },
        "id": "xxebO61w6wC-",
        "outputId": "1281d2e1-29b8-41b5-ce2c-b4f6fec11ac4"
      },
      "execution_count": 1,
      "outputs": [
        {
          "output_type": "stream",
          "name": "stdout",
          "text": [
            "Enter your name: vaishali\n",
            "Enter your email: abcd\n",
            "Enter your phone number: 123456\n",
            "Thank you for registring\n",
            "['vaishali', 'abcd', '123456']\n"
          ]
        }
      ]
    },
    {
      "cell_type": "code",
      "source": [
        "item1 = input(\"enter the first item: \")\n",
        "item2 = input(\"enter the second item: \")\n",
        "item3 = input(\"enter the third item: \")\n",
        "item4 = input(\"enter the fourth item: \")\n",
        "item5 = input(\"enter the fifth item: \")\n",
        "\n",
        "items = [item1, item2, item3, item4, item5]\n",
        "item_line = \" ; \".join(items)\n",
        "print(item_line)"
      ],
      "metadata": {
        "colab": {
          "base_uri": "https://localhost:8080/"
        },
        "id": "o6Zh_xllEVeY",
        "outputId": "16513e79-645c-4a39-ed25-39716c5d9083"
      },
      "execution_count": null,
      "outputs": [
        {
          "output_type": "stream",
          "name": "stdout",
          "text": [
            "enter the first item: 12\n",
            "enter the second item: sai\n",
            "enter the third item: 45\n",
            "enter the fourth item: True\n",
            "enter the fifth item: wer\n",
            "12 ; sai ; 45 ; True ; wer\n"
          ]
        }
      ]
    },
    {
      "cell_type": "markdown",
      "metadata": {
        "id": "t1KX9ExluH05"
      },
      "source": [
        "### Earlier when discussing strings we introduced the concept of a <u>sequence</u> in Python.\n",
        "* <u>Lists</u> can be thought of the most general version of a *sequence* in Python.\n",
        "\n",
        "\n",
        "* Unlike strings, they are mutable, meaning the elements inside a list can be changed!\n",
        "\n",
        "\n",
        "* Lists are constructed with brackets <code>[]</code> and commas separating every element in the list."
      ]
    },
    {
      "cell_type": "code",
      "source": [],
      "metadata": {
        "id": "_DFyzSydHioP"
      },
      "execution_count": null,
      "outputs": []
    },
    {
      "cell_type": "code",
      "metadata": {
        "id": "zJALgXvTuH06"
      },
      "source": [
        "# Assign a list t\n",
        "# o an variable named my_list\n",
        "my_list = [1,2,3,4]"
      ],
      "execution_count": null,
      "outputs": []
    },
    {
      "cell_type": "code",
      "metadata": {
        "id": "5iyxPTQEuH1A",
        "colab": {
          "base_uri": "https://localhost:8080/"
        },
        "outputId": "1ad8ed0f-c3c3-40f8-9f01-218f6b4b24a1"
      },
      "source": [
        "print(my_list)"
      ],
      "execution_count": null,
      "outputs": [
        {
          "output_type": "stream",
          "name": "stdout",
          "text": [
            "[1, 2, 3, 4]\n"
          ]
        }
      ]
    },
    {
      "cell_type": "code",
      "source": [
        "\n",
        "id(my_list)"
      ],
      "metadata": {
        "colab": {
          "base_uri": "https://localhost:8080/"
        },
        "id": "3PiXaNr3IHhV",
        "outputId": "d79612e2-05a6-443e-fa58-1b4d72f125a4"
      },
      "execution_count": null,
      "outputs": [
        {
          "output_type": "execute_result",
          "data": {
            "text/plain": [
              "134747638409920"
            ]
          },
          "metadata": {},
          "execution_count": 40
        }
      ]
    },
    {
      "cell_type": "code",
      "source": [
        "id(my_list[0])"
      ],
      "metadata": {
        "colab": {
          "base_uri": "https://localhost:8080/"
        },
        "id": "xXEOEAmUH_i7",
        "outputId": "f6930490-2e39-4603-d55a-e123833d49c9"
      },
      "execution_count": null,
      "outputs": [
        {
          "output_type": "execute_result",
          "data": {
            "text/plain": [
              "10750856"
            ]
          },
          "metadata": {},
          "execution_count": 41
        }
      ]
    },
    {
      "cell_type": "code",
      "source": [
        "id(my_list[1])"
      ],
      "metadata": {
        "colab": {
          "base_uri": "https://localhost:8080/"
        },
        "id": "FxkYVHXLIFHo",
        "outputId": "35705fc7-9c13-499b-e940-5a30851cc428"
      },
      "execution_count": null,
      "outputs": [
        {
          "output_type": "execute_result",
          "data": {
            "text/plain": [
              "10750888"
            ]
          },
          "metadata": {},
          "execution_count": 42
        }
      ]
    },
    {
      "cell_type": "code",
      "metadata": {
        "id": "Iwcih5WkuH1F",
        "colab": {
          "base_uri": "https://localhost:8080/"
        },
        "outputId": "0769886b-5622-40d4-c9f6-6886c3f9c9eb"
      },
      "source": [
        "type(my_list)"
      ],
      "execution_count": null,
      "outputs": [
        {
          "output_type": "execute_result",
          "data": {
            "text/plain": [
              "list"
            ]
          },
          "metadata": {},
          "execution_count": 43
        }
      ]
    },
    {
      "cell_type": "markdown",
      "metadata": {
        "id": "GixOgR0xuH1K"
      },
      "source": [
        "* We just created a list of integers, but lists can actually hold different object types. For example:"
      ]
    },
    {
      "cell_type": "code",
      "source": [
        "str1 = \"hello my name\"\n",
        "id(str1)"
      ],
      "metadata": {
        "colab": {
          "base_uri": "https://localhost:8080/"
        },
        "id": "Wu3r7jfLIspI",
        "outputId": "8827abf2-f572-45fe-ffac-85a0c3234dbd"
      },
      "execution_count": null,
      "outputs": [
        {
          "output_type": "execute_result",
          "data": {
            "text/plain": [
              "134747638757168"
            ]
          },
          "metadata": {},
          "execution_count": 55
        }
      ]
    },
    {
      "cell_type": "code",
      "source": [
        "str1 = str1.replace(\"h\",\"p\")\n",
        "id(str1)"
      ],
      "metadata": {
        "colab": {
          "base_uri": "https://localhost:8080/"
        },
        "id": "GhFZ8IlDIw7F",
        "outputId": "fae761d7-8d72-4cd0-c2f2-f29d110da7cd"
      },
      "execution_count": null,
      "outputs": [
        {
          "output_type": "execute_result",
          "data": {
            "text/plain": [
              "134747638754352"
            ]
          },
          "metadata": {},
          "execution_count": 54
        }
      ]
    },
    {
      "cell_type": "code",
      "metadata": {
        "id": "iYwuNSr5uH1L",
        "colab": {
          "base_uri": "https://localhost:8080/"
        },
        "outputId": "7b75205a-163c-42ac-ab85-9b4a2f4aa992"
      },
      "source": [
        "my_list = ['A string',23,100.232,'o',True]\n",
        "print(id(my_list))\n",
        "print(my_list)"
      ],
      "execution_count": null,
      "outputs": [
        {
          "output_type": "stream",
          "name": "stdout",
          "text": [
            "134747638711232\n",
            "['A string', 23, 100.232, 'o', True]\n"
          ]
        }
      ]
    },
    {
      "cell_type": "code",
      "source": [
        "my_list[1] = 67"
      ],
      "metadata": {
        "id": "ONPRxpHYIr52"
      },
      "execution_count": null,
      "outputs": []
    },
    {
      "cell_type": "code",
      "metadata": {
        "id": "5v0MmUyBuH1R",
        "colab": {
          "base_uri": "https://localhost:8080/"
        },
        "outputId": "85d8fea6-8eff-4d02-cbed-3b00105bb7fe"
      },
      "source": [
        "print(id(my_list))\n",
        "print(my_list)"
      ],
      "execution_count": null,
      "outputs": [
        {
          "output_type": "stream",
          "name": "stdout",
          "text": [
            "134747638711232\n",
            "['A string', 67, 100.232, 'o', True]\n"
          ]
        }
      ]
    },
    {
      "cell_type": "markdown",
      "metadata": {
        "id": "KC7536WDuH1W"
      },
      "source": [
        "* Just like strings, the <code>len()</code> function will tell you how many items are in the sequence of the list."
      ]
    },
    {
      "cell_type": "code",
      "metadata": {
        "id": "9c8rQF1ZuH1X",
        "colab": {
          "base_uri": "https://localhost:8080/"
        },
        "outputId": "4463c874-ec54-48b8-c434-b8d22831949c"
      },
      "source": [
        "len(my_list)"
      ],
      "execution_count": null,
      "outputs": [
        {
          "output_type": "execute_result",
          "data": {
            "text/plain": [
              "5"
            ]
          },
          "metadata": {
            "tags": []
          },
          "execution_count": 6
        }
      ]
    },
    {
      "cell_type": "markdown",
      "metadata": {
        "id": "GOoGqqK9uH1c"
      },
      "source": [
        "## List Indexing\n",
        "* Indexing work just like in strings.\n",
        "\n",
        "\n",
        "* A list index refers to the location of an element in a list.\n",
        "\n",
        "\n",
        "* Remember the indexing begins from 0 in Python.\n",
        "\n",
        "\n",
        "* The first element is assigned an index 0, the second element is assigned an index of 1 and so on and so forth."
      ]
    },
    {
      "cell_type": "code",
      "metadata": {
        "id": "h8kC051iuH1e",
        "colab": {
          "base_uri": "https://localhost:8080/"
        },
        "outputId": "afb05b7a-f39b-46f3-c307-4b33d24eadfb"
      },
      "source": [
        "# Consider a list of strings\n",
        "loss_functions = ['Mean Absolute Error','Mean Squared Error','Huber Loss','Log Loss','Hinge Loss']\n",
        "print(loss_functions)"
      ],
      "execution_count": null,
      "outputs": [
        {
          "output_type": "stream",
          "name": "stdout",
          "text": [
            "['Mean Absolute Error', 'Mean Squared Error', 'Huber Loss', 'Log Loss', 'Hinge Loss']\n"
          ]
        }
      ]
    },
    {
      "cell_type": "code",
      "metadata": {
        "id": "9Rjv4sHZuH1k",
        "colab": {
          "base_uri": "https://localhost:8080/"
        },
        "outputId": "b8d106b4-686c-4033-bb0a-0670606582a3"
      },
      "source": [
        "# Grab the element at index 0, which is the FIRST element\n",
        "print(loss_functions[1])"
      ],
      "execution_count": null,
      "outputs": [
        {
          "output_type": "stream",
          "name": "stdout",
          "text": [
            "Mean Squared Error\n"
          ]
        }
      ]
    },
    {
      "cell_type": "code",
      "metadata": {
        "colab": {
          "base_uri": "https://localhost:8080/"
        },
        "id": "wkqGy2G-HcFP",
        "outputId": "03669aa3-2ad2-4796-e96c-1a8e2c64470a"
      },
      "source": [
        "len(loss_functions)"
      ],
      "execution_count": null,
      "outputs": [
        {
          "output_type": "execute_result",
          "data": {
            "text/plain": [
              "5"
            ]
          },
          "metadata": {},
          "execution_count": 64
        }
      ]
    },
    {
      "cell_type": "code",
      "metadata": {
        "id": "wy6j6RQluH1q",
        "colab": {
          "base_uri": "https://localhost:8080/"
        },
        "outputId": "9bf42e44-e507-4f2d-ddcf-5eec8b5098f5"
      },
      "source": [
        "# Grab the element at index 3, which is the FOURTH element\n",
        "print(loss_functions[3])"
      ],
      "execution_count": null,
      "outputs": [
        {
          "output_type": "stream",
          "name": "stdout",
          "text": [
            "Log Loss\n"
          ]
        }
      ]
    },
    {
      "cell_type": "code",
      "metadata": {
        "colab": {
          "base_uri": "https://localhost:8080/",
          "height": 144
        },
        "id": "fN0bZ8T5HULs",
        "outputId": "cc58a8d7-a59f-4c85-be6f-45982856ba91"
      },
      "source": [
        "print(loss_functions[6])"
      ],
      "execution_count": null,
      "outputs": [
        {
          "output_type": "error",
          "ename": "IndexError",
          "evalue": "list index out of range",
          "traceback": [
            "\u001b[0;31m---------------------------------------------------------------------------\u001b[0m",
            "\u001b[0;31mIndexError\u001b[0m                                Traceback (most recent call last)",
            "\u001b[0;32m<ipython-input-66-36fa04b37479>\u001b[0m in \u001b[0;36m<cell line: 0>\u001b[0;34m()\u001b[0m\n\u001b[0;32m----> 1\u001b[0;31m \u001b[0mprint\u001b[0m\u001b[0;34m(\u001b[0m\u001b[0mloss_functions\u001b[0m\u001b[0;34m[\u001b[0m\u001b[0;36m6\u001b[0m\u001b[0;34m]\u001b[0m\u001b[0;34m)\u001b[0m\u001b[0;34m\u001b[0m\u001b[0;34m\u001b[0m\u001b[0m\n\u001b[0m",
            "\u001b[0;31mIndexError\u001b[0m: list index out of range"
          ]
        }
      ]
    },
    {
      "cell_type": "code",
      "metadata": {
        "id": "XWYhPYWJuH1w",
        "colab": {
          "base_uri": "https://localhost:8080/"
        },
        "outputId": "e47afd29-1aad-49d6-c4cf-34a765980997"
      },
      "source": [
        "# Grab the element at the index -1, which is the LAST element\n",
        "print(loss_functions[-1])"
      ],
      "execution_count": null,
      "outputs": [
        {
          "output_type": "stream",
          "name": "stdout",
          "text": [
            "Hinge Loss\n"
          ]
        }
      ]
    },
    {
      "cell_type": "code",
      "metadata": {
        "id": "qVDZolzXuH11",
        "colab": {
          "base_uri": "https://localhost:8080/"
        },
        "outputId": "db36d15d-fea2-4bf5-f7d0-c32e05001ade"
      },
      "source": [
        "# Grab the element at the index -3, which is the THIRD LAST element\n",
        "print(loss_functions[-3])"
      ],
      "execution_count": null,
      "outputs": [
        {
          "output_type": "stream",
          "name": "stdout",
          "text": [
            "Huber Loss\n"
          ]
        }
      ]
    },
    {
      "cell_type": "markdown",
      "metadata": {
        "id": "VyvYPGtYuH16"
      },
      "source": [
        "## List Slicing\n",
        "\n",
        "* We can use a <code>:</code> to perform *slicing* which grabs everything up to a designated point.\n",
        "\n",
        "\n",
        "* The starting index is specified on the left of the <code>:</code> and the ending index is specified on the right of the <code>:</code>.\n",
        "\n",
        "\n",
        "* Remember the element located at the right index is not included."
      ]
    },
    {
      "cell_type": "code",
      "metadata": {
        "id": "rJpgJdnauH16",
        "colab": {
          "base_uri": "https://localhost:8080/"
        },
        "outputId": "2f859a6c-eec6-4213-e2b1-b4878655c3b6"
      },
      "source": [
        "# Print our list\n",
        "print(loss_functions)"
      ],
      "execution_count": null,
      "outputs": [
        {
          "output_type": "stream",
          "name": "stdout",
          "text": [
            "['Mean Absolute Error', 'Mean Squared Error', 'Huber Loss', 'Log Loss', 'Hinge Loss']\n"
          ]
        }
      ]
    },
    {
      "cell_type": "code",
      "metadata": {
        "id": "qkMHWOjpuH1_",
        "colab": {
          "base_uri": "https://localhost:8080/"
        },
        "outputId": "c58d3ab6-0056-4cee-a1f5-f85b7aa1e1fd"
      },
      "source": [
        "# Grab the elements starting from index 1 and everything past it\n",
        "loss_functions[1:4]"
      ],
      "execution_count": null,
      "outputs": [
        {
          "output_type": "execute_result",
          "data": {
            "text/plain": [
              "['Mean Squared Error', 'Huber Loss', 'Log Loss']"
            ]
          },
          "metadata": {},
          "execution_count": 70
        }
      ]
    },
    {
      "cell_type": "markdown",
      "metadata": {
        "id": "tRWJVhSPuH2G"
      },
      "source": [
        "* If you do not specify the ending index, then all elements are extracted which comes after the starting index including the element at that starting index. The operation knows only to stop when it has run through the entire list."
      ]
    },
    {
      "cell_type": "code",
      "metadata": {
        "id": "9-210b6YuH2H",
        "colab": {
          "base_uri": "https://localhost:8080/"
        },
        "outputId": "d8f3e020-3ea4-4120-ff44-34fb24145b27"
      },
      "source": [
        "# Grab everything starting from index 2\n",
        "loss_functions[2:]"
      ],
      "execution_count": null,
      "outputs": [
        {
          "output_type": "execute_result",
          "data": {
            "text/plain": [
              "['Huber Loss', 'Log Loss', 'Hinge Loss']"
            ]
          },
          "metadata": {},
          "execution_count": 71
        }
      ]
    },
    {
      "cell_type": "markdown",
      "metadata": {
        "id": "X6H8XIIZuH2M"
      },
      "source": [
        "* If you do not specify the starting index, then all elements are extracted which comes befores the ending index excluding the element at the specified ending index. The operation knows only to stop when it has extracted all elements before the  element at the ending index."
      ]
    },
    {
      "cell_type": "code",
      "metadata": {
        "id": "OzsSfMJwuH2M",
        "colab": {
          "base_uri": "https://localhost:8080/"
        },
        "outputId": "a037c8fa-cb11-493f-8344-99bdfe018cf3"
      },
      "source": [
        "# Grab everything before the index 4\n",
        "loss_functions[:4]"
      ],
      "execution_count": null,
      "outputs": [
        {
          "output_type": "execute_result",
          "data": {
            "text/plain": [
              "['Mean Absolute Error', 'Mean Squared Error', 'Huber Loss', 'Log Loss']"
            ]
          },
          "metadata": {},
          "execution_count": 72
        }
      ]
    },
    {
      "cell_type": "markdown",
      "metadata": {
        "id": "AzM1gvHxuH2R"
      },
      "source": [
        "* If you do not specify the starting and the ending index, it will extract all elements of the list."
      ]
    },
    {
      "cell_type": "code",
      "metadata": {
        "id": "UvgZ2Oi7uH2S",
        "colab": {
          "base_uri": "https://localhost:8080/"
        },
        "outputId": "3173de1e-e5f1-4a5f-ae36-12dcb0e7c28f"
      },
      "source": [
        "# Grab everything\n",
        "print(loss_functions[:])"
      ],
      "execution_count": null,
      "outputs": [
        {
          "output_type": "stream",
          "name": "stdout",
          "text": [
            "['Mean Absolute Error', 'Mean Squared Error', 'Huber Loss', 'Log Loss', 'Hinge Loss']\n"
          ]
        }
      ]
    },
    {
      "cell_type": "markdown",
      "metadata": {
        "id": "JZCjIP2wuH2Y"
      },
      "source": [
        "* We can also extract the last four elements. Remember we can use the index -4 to extract the FOURTH LAST element"
      ]
    },
    {
      "cell_type": "code",
      "metadata": {
        "id": "HO6uu_J3uH2Z",
        "colab": {
          "base_uri": "https://localhost:8080/"
        },
        "outputId": "173eec8d-756d-4d8c-9276-42edabd4bfc0"
      },
      "source": [
        "# Grab the LAST FOUR elements of the list\n",
        "loss_functions[-4:]"
      ],
      "execution_count": null,
      "outputs": [
        {
          "output_type": "execute_result",
          "data": {
            "text/plain": [
              "['Mean Squared Error', 'Huber Loss', 'Log Loss', 'Hinge Loss']"
            ]
          },
          "metadata": {},
          "execution_count": 74
        }
      ]
    },
    {
      "cell_type": "code",
      "metadata": {
        "id": "HhClfN4JoYHm",
        "colab": {
          "base_uri": "https://localhost:8080/",
          "height": 166
        },
        "outputId": "8e6192cd-0a78-4c3b-f7b7-522edc3de69b"
      },
      "source": [
        "loss_functions[-10]"
      ],
      "execution_count": null,
      "outputs": [
        {
          "output_type": "error",
          "ename": "IndexError",
          "evalue": "ignored",
          "traceback": [
            "\u001b[0;31m---------------------------------------------------------------------------\u001b[0m",
            "\u001b[0;31mIndexError\u001b[0m                                Traceback (most recent call last)",
            "\u001b[0;32m<ipython-input-20-8a581720341d>\u001b[0m in \u001b[0;36m<module>\u001b[0;34m()\u001b[0m\n\u001b[0;32m----> 1\u001b[0;31m \u001b[0mloss_functions\u001b[0m\u001b[0;34m[\u001b[0m\u001b[0;34m-\u001b[0m\u001b[0;36m10\u001b[0m\u001b[0;34m]\u001b[0m\u001b[0;34m\u001b[0m\u001b[0;34m\u001b[0m\u001b[0m\n\u001b[0m",
            "\u001b[0;31mIndexError\u001b[0m: list index out of range"
          ]
        }
      ]
    },
    {
      "cell_type": "markdown",
      "metadata": {
        "id": "MFMJCkLtuH2e"
      },
      "source": [
        "* It should also be noted that list indexing will return an error if there is no element at that index."
      ]
    },
    {
      "cell_type": "code",
      "metadata": {
        "id": "ubVmh9dpuH2f",
        "colab": {
          "base_uri": "https://localhost:8080/",
          "height": 34
        },
        "outputId": "4e3e79f9-375f-4caf-fc1a-dcb38091f4fa"
      },
      "source": [
        "len(loss_functions)"
      ],
      "execution_count": null,
      "outputs": [
        {
          "output_type": "execute_result",
          "data": {
            "text/plain": [
              "5"
            ]
          },
          "metadata": {
            "tags": []
          },
          "execution_count": 20
        }
      ]
    },
    {
      "cell_type": "code",
      "metadata": {
        "id": "BSIWnrXvuH2q",
        "colab": {
          "base_uri": "https://localhost:8080/",
          "height": 162
        },
        "outputId": "1b7905b6-8866-42dc-ab40-3ca614a72c82"
      },
      "source": [
        "loss_functions[8]"
      ],
      "execution_count": null,
      "outputs": [
        {
          "output_type": "error",
          "ename": "IndexError",
          "evalue": "ignored",
          "traceback": [
            "\u001b[0;31m---------------------------------------------------------------------------\u001b[0m",
            "\u001b[0;31mIndexError\u001b[0m                                Traceback (most recent call last)",
            "\u001b[0;32m<ipython-input-21-4de3193e7629>\u001b[0m in \u001b[0;36m<module>\u001b[0;34m()\u001b[0m\n\u001b[0;32m----> 1\u001b[0;31m \u001b[0mloss_functions\u001b[0m\u001b[0;34m[\u001b[0m\u001b[0;36m8\u001b[0m\u001b[0;34m]\u001b[0m\u001b[0;34m\u001b[0m\u001b[0;34m\u001b[0m\u001b[0m\n\u001b[0m",
            "\u001b[0;31mIndexError\u001b[0m: list index out of range"
          ]
        }
      ]
    },
    {
      "cell_type": "markdown",
      "metadata": {
        "id": "Sq2OgleGuH23"
      },
      "source": [
        "## List Operations\n",
        "* Remember we said that lists are mutable as opposed to strings. Lets see how can we change the elements of a list"
      ]
    },
    {
      "cell_type": "markdown",
      "metadata": {
        "id": "fDoYdXjFuH24"
      },
      "source": [
        "* We can also use <code>+</code> to concatenate lists, just like we did for strings."
      ]
    },
    {
      "cell_type": "code",
      "metadata": {
        "id": "49GL6IOAqQCe",
        "colab": {
          "base_uri": "https://localhost:8080/"
        },
        "outputId": "63b064d8-b5f2-4d02-f898-35c28dee377a"
      },
      "source": [
        "print(loss_functions)\n"
      ],
      "execution_count": null,
      "outputs": [
        {
          "output_type": "stream",
          "name": "stdout",
          "text": [
            "['Mean Absolute Error', 'Mean Squared Error', 'Huber Loss', 'Log Loss', 'Hinge Loss']\n"
          ]
        }
      ]
    },
    {
      "cell_type": "code",
      "metadata": {
        "id": "V0Oc6-O8uH25",
        "colab": {
          "base_uri": "https://localhost:8080/"
        },
        "outputId": "37decf04-7148-40bc-a108-8af711aa12d4"
      },
      "source": [
        "loss_functions + ['Kullback-Leibler']"
      ],
      "execution_count": null,
      "outputs": [
        {
          "output_type": "execute_result",
          "data": {
            "text/plain": [
              "['Mean Absolute Error',\n",
              " 'Mean Squared Error',\n",
              " 'Huber Loss',\n",
              " 'Log Loss',\n",
              " 'Hinge Loss',\n",
              " 'Kullback-Leibler']"
            ]
          },
          "metadata": {},
          "execution_count": 76
        }
      ]
    },
    {
      "cell_type": "markdown",
      "metadata": {
        "id": "_R2ARrFsuH2-"
      },
      "source": [
        "* Note: This doesn't actually change the original list!"
      ]
    },
    {
      "cell_type": "code",
      "metadata": {
        "scrolled": true,
        "id": "FiZFhSgMuH3A",
        "colab": {
          "base_uri": "https://localhost:8080/"
        },
        "outputId": "c09f9e36-998a-4c9d-aeac-6d6aead7ce43"
      },
      "source": [
        "print(loss_functions)"
      ],
      "execution_count": null,
      "outputs": [
        {
          "output_type": "stream",
          "name": "stdout",
          "text": [
            "['Mean Absolute Error', 'Mean Squared Error', 'Huber Loss', 'Log Loss', 'Hinge Loss']\n"
          ]
        }
      ]
    },
    {
      "cell_type": "markdown",
      "metadata": {
        "id": "9BC_N9XIuH3E"
      },
      "source": [
        "* You would have to reassign the list to make the change permanent."
      ]
    },
    {
      "cell_type": "code",
      "metadata": {
        "id": "rrAKgXGkuH3E"
      },
      "source": [
        "# Reassign\n",
        "loss_functions = loss_functions + ['Kullback-Leibler']"
      ],
      "execution_count": null,
      "outputs": []
    },
    {
      "cell_type": "code",
      "metadata": {
        "id": "kB1NeeiXuH3I",
        "colab": {
          "base_uri": "https://localhost:8080/"
        },
        "outputId": "b160efc7-29e2-4c80-d4f1-ceddad80afe2"
      },
      "source": [
        "loss_functions"
      ],
      "execution_count": null,
      "outputs": [
        {
          "output_type": "execute_result",
          "data": {
            "text/plain": [
              "['Mean Absolute Error',\n",
              " 'Mean Squared Error',\n",
              " 'Huber Loss',\n",
              " 'Log Loss',\n",
              " 'Hinge Loss',\n",
              " 'Kullback-Leibler']"
            ]
          },
          "metadata": {},
          "execution_count": 79
        }
      ]
    },
    {
      "cell_type": "markdown",
      "metadata": {
        "id": "kk3-UJ3RuH3N"
      },
      "source": [
        "* We can also use the <code>*</code> for a duplication method similar to strings:"
      ]
    },
    {
      "cell_type": "code",
      "metadata": {
        "id": "b09L4hO7uH3O",
        "colab": {
          "base_uri": "https://localhost:8080/"
        },
        "outputId": "6557ce23-d03a-468a-8f89-bda4f2814348"
      },
      "source": [
        "# Make the list double\n",
        "len(loss_functions * 6)"
      ],
      "execution_count": null,
      "outputs": [
        {
          "output_type": "execute_result",
          "data": {
            "text/plain": [
              "36"
            ]
          },
          "metadata": {},
          "execution_count": 80
        }
      ]
    },
    {
      "cell_type": "markdown",
      "metadata": {
        "id": "vPF4zcaEuH3X"
      },
      "source": [
        "## List Functions"
      ]
    },
    {
      "cell_type": "markdown",
      "metadata": {
        "id": "6Qd7qKM1uH3Y"
      },
      "source": [
        "### <code>len()</code>\n",
        "\n",
        "\n",
        "* <code>len()</code> function returns the length of the list"
      ]
    },
    {
      "cell_type": "code",
      "metadata": {
        "id": "EOLMTcMvuH3Z",
        "colab": {
          "base_uri": "https://localhost:8080/"
        },
        "outputId": "436a2a2d-bc53-42de-e7d6-21b5573b264c"
      },
      "source": [
        "print(loss_functions)"
      ],
      "execution_count": null,
      "outputs": [
        {
          "output_type": "stream",
          "name": "stdout",
          "text": [
            "['Mean Absolute Error', 'Mean Squared Error', 'Huber Loss', 'Log Loss', 'Hinge Loss', 'Kullback-Leibler']\n"
          ]
        }
      ]
    },
    {
      "cell_type": "code",
      "metadata": {
        "id": "mNKWrF1wuH3c",
        "colab": {
          "base_uri": "https://localhost:8080/"
        },
        "outputId": "c968a528-3f36-4c8d-c347-3a80a1766800"
      },
      "source": [
        "len(loss_functions)"
      ],
      "execution_count": null,
      "outputs": [
        {
          "output_type": "execute_result",
          "data": {
            "text/plain": [
              "6"
            ]
          },
          "metadata": {},
          "execution_count": 82
        }
      ]
    },
    {
      "cell_type": "markdown",
      "metadata": {
        "id": "p7d98KoOuH3f"
      },
      "source": [
        "### <code>min()</code>\n",
        "\n",
        "\n",
        "* <code>min()</code> function returns the minimum element of the list\n",
        "\n",
        "\n",
        "* <code>min()</code> function only works with lists of similar data types"
      ]
    },
    {
      "cell_type": "code",
      "metadata": {
        "id": "wLccOV7wuH3f"
      },
      "source": [
        "new_list = [6, 9, 1, 3, 5.5]"
      ],
      "execution_count": null,
      "outputs": []
    },
    {
      "cell_type": "code",
      "metadata": {
        "id": "Y2Cu7bw0uH3j",
        "colab": {
          "base_uri": "https://localhost:8080/"
        },
        "outputId": "c49d16cc-2f47-4453-b61a-4c8c076d55df"
      },
      "source": [
        "min(new_list)"
      ],
      "execution_count": null,
      "outputs": [
        {
          "output_type": "execute_result",
          "data": {
            "text/plain": [
              "1"
            ]
          },
          "metadata": {},
          "execution_count": 84
        }
      ]
    },
    {
      "cell_type": "code",
      "metadata": {
        "id": "CE51jhX2Os8i"
      },
      "source": [
        "my_new_list = ['a','b', 'z' ,'y' , 'm']"
      ],
      "execution_count": null,
      "outputs": []
    },
    {
      "cell_type": "code",
      "metadata": {
        "colab": {
          "base_uri": "https://localhost:8080/",
          "height": 35
        },
        "id": "xU0MNka-OzHv",
        "outputId": "f196965c-ac1e-4be5-d0ad-2a6f05828f72"
      },
      "source": [
        "min(my_new_list)"
      ],
      "execution_count": null,
      "outputs": [
        {
          "output_type": "execute_result",
          "data": {
            "text/plain": [
              "'a'"
            ],
            "application/vnd.google.colaboratory.intrinsic+json": {
              "type": "string"
            }
          },
          "metadata": {},
          "execution_count": 86
        }
      ]
    },
    {
      "cell_type": "markdown",
      "metadata": {
        "id": "et3AsvCkuH3n"
      },
      "source": [
        "### <code>max()</code>\n",
        "\n",
        "\n",
        "* <code>max()</code> function returns the maximum element of the list\n",
        "\n",
        "\n",
        "* <code>max()</code> function only works with lists of similar data types"
      ]
    },
    {
      "cell_type": "code",
      "metadata": {
        "id": "ehW2DQUouH3o"
      },
      "source": [
        "new_list = ['Argue','Burglar','Parent','Linear','shape']"
      ],
      "execution_count": null,
      "outputs": []
    },
    {
      "cell_type": "code",
      "metadata": {
        "id": "oexyHaR1uH3r",
        "colab": {
          "base_uri": "https://localhost:8080/",
          "height": 35
        },
        "outputId": "91f3a479-7240-4064-d2b1-a5bc697e2aa0"
      },
      "source": [
        "max(new_list)"
      ],
      "execution_count": null,
      "outputs": [
        {
          "output_type": "execute_result",
          "data": {
            "text/plain": [
              "'shape'"
            ],
            "application/vnd.google.colaboratory.intrinsic+json": {
              "type": "string"
            }
          },
          "metadata": {},
          "execution_count": 88
        }
      ]
    },
    {
      "cell_type": "markdown",
      "metadata": {
        "id": "1sitoBoVuH3u"
      },
      "source": [
        "### <code>sum()</code>\n",
        "\n",
        "\n",
        "* <code>sum()</code> function returns the sum of the elements of the list\n",
        "\n",
        "\n",
        "* <code>sum()</code> function only works with lists of numeric data types"
      ]
    },
    {
      "cell_type": "code",
      "metadata": {
        "id": "cXT_0utXuH3u"
      },
      "source": [
        "new_list = [6, 9, 1, 3, 5.5]"
      ],
      "execution_count": null,
      "outputs": []
    },
    {
      "cell_type": "code",
      "metadata": {
        "id": "tV5c5mkGuH3x",
        "colab": {
          "base_uri": "https://localhost:8080/"
        },
        "outputId": "e140118e-3e76-4422-d6c5-9d66dc1cc659"
      },
      "source": [
        "\n",
        "sum(new_list)"
      ],
      "execution_count": null,
      "outputs": [
        {
          "output_type": "execute_result",
          "data": {
            "text/plain": [
              "24.5"
            ]
          },
          "metadata": {},
          "execution_count": 90
        }
      ]
    },
    {
      "cell_type": "markdown",
      "metadata": {
        "id": "V31491BvuH3z"
      },
      "source": [
        "### <code>sorted()</code>\n",
        "\n",
        "\n",
        "* <code>sorted()</code> function returns the sorted list\n",
        "\n",
        "\n",
        "* <code>sorted()</code> function takes reverse boolean as an argument\n",
        "\n",
        "\n",
        "* <code>sorted()</code> function only works on a list with similar data types"
      ]
    },
    {
      "cell_type": "code",
      "source": [
        "my_list = [2,5,4,1,6,7]"
      ],
      "metadata": {
        "id": "VqSN8KQsMueD"
      },
      "execution_count": null,
      "outputs": []
    },
    {
      "cell_type": "code",
      "source": [
        "sorted(my_list,reverse=True)"
      ],
      "metadata": {
        "colab": {
          "base_uri": "https://localhost:8080/"
        },
        "id": "Ik4YCxh6MuMZ",
        "outputId": "3b123a29-829a-4c34-bb3e-b22caae09263"
      },
      "execution_count": null,
      "outputs": [
        {
          "output_type": "execute_result",
          "data": {
            "text/plain": [
              "[7, 6, 5, 4, 2, 1]"
            ]
          },
          "metadata": {},
          "execution_count": 104
        }
      ]
    },
    {
      "cell_type": "code",
      "source": [],
      "metadata": {
        "id": "SQLsY6IzMt9N"
      },
      "execution_count": null,
      "outputs": []
    },
    {
      "cell_type": "code",
      "metadata": {
        "id": "yXeGjCRCuH30",
        "colab": {
          "base_uri": "https://localhost:8080/"
        },
        "outputId": "d17c4220-f4f8-41a4-ce8a-df924bfb4f86"
      },
      "source": [
        "new_list"
      ],
      "execution_count": null,
      "outputs": [
        {
          "output_type": "execute_result",
          "data": {
            "text/plain": [
              "['Argue', 'Burglar', 'Parent', 'Linear', 'shape']"
            ]
          },
          "metadata": {},
          "execution_count": 99
        }
      ]
    },
    {
      "cell_type": "code",
      "metadata": {
        "id": "RoS_1mnyuH34",
        "colab": {
          "base_uri": "https://localhost:8080/"
        },
        "outputId": "681df323-f789-4795-909d-8cde18465fbd"
      },
      "source": [
        "sorted(new_list,reverse=True)"
      ],
      "execution_count": null,
      "outputs": [
        {
          "output_type": "execute_result",
          "data": {
            "text/plain": [
              "['shape', 'Parent', 'Linear', 'Burglar', 'Argue']"
            ]
          },
          "metadata": {},
          "execution_count": 100
        }
      ]
    },
    {
      "cell_type": "code",
      "metadata": {
        "colab": {
          "base_uri": "https://localhost:8080/"
        },
        "id": "0gQjBslbRFLH",
        "outputId": "d0f7547b-b73a-4070-937c-206c704a1cea"
      },
      "source": [
        "print(new_list)"
      ],
      "execution_count": null,
      "outputs": [
        {
          "output_type": "stream",
          "name": "stdout",
          "text": [
            "['Argue', 'Burglar', 'Parent', 'Linear', 'shape']\n"
          ]
        }
      ]
    },
    {
      "cell_type": "code",
      "metadata": {
        "id": "4t5yFdfLuJZi"
      },
      "source": [
        "new_list = ['Argue','Burglar','Parent','Linear','shape']"
      ],
      "execution_count": null,
      "outputs": []
    },
    {
      "cell_type": "code",
      "metadata": {
        "id": "PSPWx6EDuKw_",
        "colab": {
          "base_uri": "https://localhost:8080/"
        },
        "outputId": "48ffa09b-c30d-4222-dbfe-9dc7e802c619"
      },
      "source": [
        "sorted(new_list)"
      ],
      "execution_count": null,
      "outputs": [
        {
          "output_type": "execute_result",
          "data": {
            "text/plain": [
              "['Argue', 'Burglar', 'Linear', 'Parent', 'shape']"
            ]
          },
          "metadata": {},
          "execution_count": 95
        }
      ]
    },
    {
      "cell_type": "code",
      "metadata": {
        "id": "YAybCJVUtElx",
        "colab": {
          "base_uri": "https://localhost:8080/"
        },
        "outputId": "07b471b3-cb55-47dc-a190-d4708d962b46"
      },
      "source": [
        "print(new_list)"
      ],
      "execution_count": null,
      "outputs": [
        {
          "output_type": "stream",
          "name": "stdout",
          "text": [
            "['Argue', 'Burglar', 'Parent', 'Linear', 'shape']\n"
          ]
        }
      ]
    },
    {
      "cell_type": "code",
      "metadata": {
        "id": "qh3oquvquH38",
        "colab": {
          "base_uri": "https://localhost:8080/"
        },
        "outputId": "473965cf-1217-42b2-8566-728af06d0e35"
      },
      "source": [
        "sorted(new_list,reverse=True)"
      ],
      "execution_count": null,
      "outputs": [
        {
          "output_type": "execute_result",
          "data": {
            "text/plain": [
              "['shape', 'Parent', 'Linear', 'Burglar', 'Argue']"
            ]
          },
          "metadata": {},
          "execution_count": 97
        }
      ]
    },
    {
      "cell_type": "code",
      "metadata": {
        "colab": {
          "base_uri": "https://localhost:8080/",
          "height": 166
        },
        "id": "e-eFh2jKRvJv",
        "outputId": "ad5a2239-7bb1-48b4-a60c-db15227b8c72"
      },
      "source": [
        "sorted(new_list)"
      ],
      "execution_count": null,
      "outputs": [
        {
          "output_type": "error",
          "ename": "TypeError",
          "evalue": "ignored",
          "traceback": [
            "\u001b[0;31m---------------------------------------------------------------------------\u001b[0m",
            "\u001b[0;31mTypeError\u001b[0m                                 Traceback (most recent call last)",
            "\u001b[0;32m<ipython-input-45-99e16da477d4>\u001b[0m in \u001b[0;36m<module>\u001b[0;34m()\u001b[0m\n\u001b[0;32m----> 1\u001b[0;31m \u001b[0msorted\u001b[0m\u001b[0;34m(\u001b[0m\u001b[0mnew_list\u001b[0m\u001b[0;34m,\u001b[0m\u001b[0;32mFalse\u001b[0m\u001b[0;34m)\u001b[0m\u001b[0;34m\u001b[0m\u001b[0;34m\u001b[0m\u001b[0m\n\u001b[0m",
            "\u001b[0;31mTypeError\u001b[0m: sorted expected 1 arguments, got 2"
          ]
        }
      ]
    },
    {
      "cell_type": "markdown",
      "metadata": {
        "id": "m4XdxpZHuH4B"
      },
      "source": [
        "* <code>sorted()</code> function does not change our list"
      ]
    },
    {
      "cell_type": "code",
      "metadata": {
        "id": "3y-kuB8tuH4B",
        "colab": {
          "base_uri": "https://localhost:8080/"
        },
        "outputId": "3fb2a7d2-b2ad-4d59-83fc-5c8294d7d4f5"
      },
      "source": [
        "new_list"
      ],
      "execution_count": null,
      "outputs": [
        {
          "output_type": "execute_result",
          "data": {
            "text/plain": [
              "[6, 9, 1, 3, 5.5]"
            ]
          },
          "metadata": {
            "tags": []
          },
          "execution_count": 44
        }
      ]
    },
    {
      "cell_type": "markdown",
      "metadata": {
        "id": "gzCO-o-1uH4F"
      },
      "source": [
        "## List Methods\n",
        "\n",
        "* If you are familiar with another programming language, you might start to draw parallels between arrays in another language and lists in Python. Lists in Python however, tend to be more flexible than arrays in other languages for a two good reasons: they have no fixed size (meaning we don't have to specify how big a list will be), and they have no fixed type constraint (like we've seen above).\n",
        "\n",
        "\n",
        "* Let's go ahead and explore some more special methods for lists:"
      ]
    },
    {
      "cell_type": "code",
      "metadata": {
        "id": "q-kfah9VuH4H"
      },
      "source": [
        "# Create a new list\n",
        "my_list = [1,2,3,1,1,1,3,10,5,8]"
      ],
      "execution_count": null,
      "outputs": []
    },
    {
      "cell_type": "markdown",
      "metadata": {
        "id": "BgmqyEUHuH4M"
      },
      "source": [
        "### <code>append()</code>\n",
        "\n",
        "* Use the <code>append()</code> method to permanently add an item to the end of a list.\n",
        "\n",
        "\n",
        "* <code>append()</code> method takes the element which you want to add to the list as an argument"
      ]
    },
    {
      "cell_type": "code",
      "metadata": {
        "id": "saQ5SspXuH4M",
        "colab": {
          "base_uri": "https://localhost:8080/"
        },
        "outputId": "c2982c0b-26cb-4715-dbfb-5308f7945bbf"
      },
      "source": [
        "# Print the list\n",
        "my_list"
      ],
      "execution_count": null,
      "outputs": [
        {
          "output_type": "execute_result",
          "data": {
            "text/plain": [
              "[1, 2, 3, 1, 1, 1, 3, 10, 5, 8]"
            ]
          },
          "metadata": {
            "tags": []
          },
          "execution_count": 50
        }
      ]
    },
    {
      "cell_type": "code",
      "metadata": {
        "id": "gVdtMuXOurNk",
        "colab": {
          "base_uri": "https://localhost:8080/"
        },
        "outputId": "62eb774d-a898-43d2-a8f8-c7e3cf7e531d"
      },
      "source": [
        "len(my_list)"
      ],
      "execution_count": null,
      "outputs": [
        {
          "output_type": "execute_result",
          "data": {
            "text/plain": [
              "10"
            ]
          },
          "metadata": {},
          "execution_count": 106
        }
      ]
    },
    {
      "cell_type": "code",
      "source": [
        "my_list.append(23)"
      ],
      "metadata": {
        "id": "qmr-shHtNplF"
      },
      "execution_count": null,
      "outputs": []
    },
    {
      "cell_type": "code",
      "source": [
        "my_list"
      ],
      "metadata": {
        "colab": {
          "base_uri": "https://localhost:8080/"
        },
        "id": "7qrOq2SbNsut",
        "outputId": "78d6cdd1-0302-4ced-a012-4df40529f4a4"
      },
      "execution_count": null,
      "outputs": [
        {
          "output_type": "execute_result",
          "data": {
            "text/plain": [
              "[1, 2, 3, 1, 1, 1, 3, 10, 5, 8, 23]"
            ]
          },
          "metadata": {},
          "execution_count": 108
        }
      ]
    },
    {
      "cell_type": "code",
      "metadata": {
        "id": "byL4_5EruH4Q"
      },
      "source": [
        "# Append to the end of the list\n",
        "my_list.append('Append me!')"
      ],
      "execution_count": null,
      "outputs": []
    },
    {
      "cell_type": "markdown",
      "metadata": {
        "id": "7yniA300uH4V"
      },
      "source": [
        "* Ah darn it! I was expecting some output. Lets see what happened to <code>my_list</code>"
      ]
    },
    {
      "cell_type": "code",
      "metadata": {
        "id": "t1qW2S6SuH4W",
        "colab": {
          "base_uri": "https://localhost:8080/"
        },
        "outputId": "a85b53f6-69a8-4d36-b678-e7460789c7a7"
      },
      "source": [
        "print(my_list)"
      ],
      "execution_count": null,
      "outputs": [
        {
          "output_type": "stream",
          "name": "stdout",
          "text": [
            "[1, 2, 3, 1, 1, 1, 3, 10, 5, 8, 23, 'Append me!']\n"
          ]
        }
      ]
    },
    {
      "cell_type": "code",
      "source": [
        "basket = []\n",
        "basket.append('apple')\n",
        "basket.append('banana')\n",
        "basket.append('orange')"
      ],
      "metadata": {
        "id": "jbXlUkYUN1Um"
      },
      "execution_count": null,
      "outputs": []
    },
    {
      "cell_type": "code",
      "source": [
        "basket"
      ],
      "metadata": {
        "colab": {
          "base_uri": "https://localhost:8080/"
        },
        "id": "per9F3JjN_aL",
        "outputId": "70bdb333-ef7e-46d9-801c-3494a5387f9f"
      },
      "execution_count": null,
      "outputs": [
        {
          "output_type": "execute_result",
          "data": {
            "text/plain": [
              "['apple', 'banana', 'orange']"
            ]
          },
          "metadata": {},
          "execution_count": 117
        }
      ]
    },
    {
      "cell_type": "code",
      "metadata": {
        "colab": {
          "base_uri": "https://localhost:8080/"
        },
        "id": "9BMYgas1XeYO",
        "outputId": "85854e8d-62fb-4bc7-b38d-e9b182ced258"
      },
      "source": [
        "len(my_list)"
      ],
      "execution_count": null,
      "outputs": [
        {
          "output_type": "execute_result",
          "data": {
            "text/plain": [
              "12"
            ]
          },
          "metadata": {},
          "execution_count": 111
        }
      ]
    },
    {
      "cell_type": "code",
      "source": [
        "# $build a guest list for the house party !\n",
        "# hello every welcome to the party"
      ],
      "metadata": {
        "id": "BqC4EP9IOHQD"
      },
      "execution_count": null,
      "outputs": []
    },
    {
      "cell_type": "code",
      "source": [],
      "metadata": {
        "id": "kPUDcKu5PEyO"
      },
      "execution_count": null,
      "outputs": []
    },
    {
      "cell_type": "code",
      "source": [
        "guest_list = []\n",
        "print(\"initial guest list\", guest_list)\n",
        "print(\"welcome to the party\")\n",
        "name1 = input(\"enter the guest name 1st:\")\n",
        "guest_list.append(name1)\n",
        "name2 = input(\"enter the guest name 2nd:\")\n",
        "guest_list.append(name2)\n",
        "name3 = input(\"enter the guest name 3rd:\")\n",
        "guest_list.append(name3)\n",
        "print(\"this is the final guest list\",guest_list)\n",
        "\n",
        "names  = \",\".join(guest_list)\n",
        "print(\"welcome to the party\", names)"
      ],
      "metadata": {
        "colab": {
          "base_uri": "https://localhost:8080/"
        },
        "id": "yPpSoi_LOHMK",
        "outputId": "4cca90cd-c783-4ec0-e63f-f19e77fd4bde"
      },
      "execution_count": null,
      "outputs": [
        {
          "output_type": "stream",
          "name": "stdout",
          "text": [
            "initial guest list []\n",
            "welcome to the party\n",
            "enter the guest name 1st:a\n",
            "enter the guest name 2nd:b\n",
            "enter the guest name 3rd:c\n",
            "this is the final guest list ['a', 'b', 'c']\n",
            "welcome to the party a,b,c\n"
          ]
        }
      ]
    },
    {
      "cell_type": "code",
      "source": [],
      "metadata": {
        "id": "l4kFxo3-OHJV"
      },
      "execution_count": null,
      "outputs": []
    },
    {
      "cell_type": "markdown",
      "metadata": {
        "id": "L4UT-17_uH4c"
      },
      "source": [
        "* Woah! Calling the <code>append()</code> method changed my list? Yes, the <code>append()</code>  method changes your original list!"
      ]
    },
    {
      "cell_type": "code",
      "metadata": {
        "id": "_llNxOVDuH4c"
      },
      "source": [
        "# Show\n",
        "my_list.append(2.73)"
      ],
      "execution_count": null,
      "outputs": []
    },
    {
      "cell_type": "code",
      "metadata": {
        "id": "dc-ercdKuH4h",
        "colab": {
          "base_uri": "https://localhost:8080/"
        },
        "outputId": "de935bad-d8fa-4fa2-ff75-0a586b8f9f34"
      },
      "source": [
        "print(my_list)"
      ],
      "execution_count": null,
      "outputs": [
        {
          "output_type": "stream",
          "name": "stdout",
          "text": [
            "[1, 2, 3, 1, 1, 1, 3, 10, 5, 8, 23, 'Append me!', 2.73]\n"
          ]
        }
      ]
    },
    {
      "cell_type": "markdown",
      "metadata": {
        "id": "3NrEzBJFuH4u"
      },
      "source": [
        "* We can in fact add a list object to our <code>my_list</code> object"
      ]
    },
    {
      "cell_type": "code",
      "metadata": {
        "id": "xIMMzSLNuH4u"
      },
      "source": [
        "my_list.append([1,2,3])"
      ],
      "execution_count": null,
      "outputs": []
    },
    {
      "cell_type": "code",
      "metadata": {
        "id": "CjjTg7jAuH4y",
        "colab": {
          "base_uri": "https://localhost:8080/"
        },
        "outputId": "9d01e3ad-d3b1-4764-92d7-5c6185ebc18b"
      },
      "source": [
        "my_list"
      ],
      "execution_count": null,
      "outputs": [
        {
          "output_type": "execute_result",
          "data": {
            "text/plain": [
              "[1, 2, 3, 1, 1, 1, 3, 10, 5, 8, 23, 'Append me!', 2.73, [1, 2, 3]]"
            ]
          },
          "metadata": {},
          "execution_count": 137
        }
      ]
    },
    {
      "cell_type": "code",
      "metadata": {
        "colab": {
          "base_uri": "https://localhost:8080/"
        },
        "id": "vd8gGikTYUF4",
        "outputId": "080ce528-9b7d-4800-e666-0df926ac26be"
      },
      "source": [
        "len(my_list)"
      ],
      "execution_count": null,
      "outputs": [
        {
          "output_type": "execute_result",
          "data": {
            "text/plain": [
              "14"
            ]
          },
          "metadata": {},
          "execution_count": 138
        }
      ]
    },
    {
      "cell_type": "code",
      "metadata": {
        "id": "tPnUf3nbYgqs"
      },
      "source": [
        "my_list.append([10,[19,20],30])"
      ],
      "execution_count": null,
      "outputs": []
    },
    {
      "cell_type": "code",
      "source": [
        "my_list"
      ],
      "metadata": {
        "colab": {
          "base_uri": "https://localhost:8080/"
        },
        "id": "P14oFstSRnCk",
        "outputId": "e46ea1a3-e2ea-404c-dd88-b36aceee2383"
      },
      "execution_count": null,
      "outputs": [
        {
          "output_type": "execute_result",
          "data": {
            "text/plain": [
              "[1,\n",
              " 2,\n",
              " 3,\n",
              " 1,\n",
              " 1,\n",
              " 1,\n",
              " 3,\n",
              " 10,\n",
              " 5,\n",
              " 8,\n",
              " 23,\n",
              " 'Append me!',\n",
              " 2.73,\n",
              " [1, 2, 3],\n",
              " [10, [19, 20], 30],\n",
              " [10, [19, 20], 30],\n",
              " [10, [19, 20], 30]]"
            ]
          },
          "metadata": {},
          "execution_count": 144
        }
      ]
    },
    {
      "cell_type": "code",
      "metadata": {
        "colab": {
          "base_uri": "https://localhost:8080/"
        },
        "id": "Blq4mDwXYme1",
        "outputId": "c7021dc5-9a7c-4c82-8174-9075c87e77bd"
      },
      "source": [
        "len(my_list)"
      ],
      "execution_count": null,
      "outputs": [
        {
          "output_type": "execute_result",
          "data": {
            "text/plain": [
              "17"
            ]
          },
          "metadata": {},
          "execution_count": 145
        }
      ]
    },
    {
      "cell_type": "markdown",
      "metadata": {
        "id": "tGmbu4MKuH43"
      },
      "source": [
        "### <code>extend()</code>\n",
        "\n",
        "* Use the <code> extend()</code> method to merge a list to an existing list\n",
        "\n",
        "\n",
        "* <code> extend()</code> method takes a list or any iterable(don't worry about it now) as an argument.\n",
        "\n",
        "\n",
        "* Quite helpful when you have two or more lists and you want to merge them together"
      ]
    },
    {
      "cell_type": "code",
      "metadata": {
        "id": "yvkbC_3uuH43",
        "colab": {
          "base_uri": "https://localhost:8080/"
        },
        "outputId": "48f25f44-2803-4869-8282-d79a8e4a23a1"
      },
      "source": [
        "# Print the list\n",
        "print(my_list)"
      ],
      "execution_count": null,
      "outputs": [
        {
          "output_type": "stream",
          "name": "stdout",
          "text": [
            "[1, 2, 3, 1, 1, 1, 3, 10, 5, 8, 23, 'Append me!', 2.73, [1, 2, 3], [10, [19, 20], 30], [10, [19, 20], 30], [10, [19, 20], 30]]\n"
          ]
        }
      ]
    },
    {
      "cell_type": "code",
      "metadata": {
        "id": "gdvUZUYEuH49"
      },
      "source": [
        "my_list.extend(['Wubba','Lubba','Dub Dub'])"
      ],
      "execution_count": null,
      "outputs": []
    },
    {
      "cell_type": "code",
      "metadata": {
        "id": "PU-1mE1xuH5A",
        "colab": {
          "base_uri": "https://localhost:8080/"
        },
        "outputId": "c88e25b6-b535-4814-c209-399fe2e95cf2"
      },
      "source": [
        "print(my_list)"
      ],
      "execution_count": null,
      "outputs": [
        {
          "output_type": "stream",
          "name": "stdout",
          "text": [
            "[1, 2, 3, 1, 1, 1, 3, 10, 5, 8, 23, 'Append me!', 2.73, [1, 2, 3], [10, [19, 20], 30], [10, [19, 20], 30], [10, [19, 20], 30], 'Wubba', 'Lubba', 'Dub Dub']\n"
          ]
        }
      ]
    },
    {
      "cell_type": "code",
      "source": [
        "shelf = [\"book1\",\"book2\"]\n",
        "shelf.append(\"notebook\")\n",
        "print(shelf)"
      ],
      "metadata": {
        "colab": {
          "base_uri": "https://localhost:8080/"
        },
        "id": "BIo1tTbFSa_-",
        "outputId": "4f5737c1-4cd6-4ed7-db84-d0b20a7bf0c9"
      },
      "execution_count": null,
      "outputs": [
        {
          "output_type": "stream",
          "name": "stdout",
          "text": [
            "['book1', 'book2', 'notebook']\n"
          ]
        }
      ]
    },
    {
      "cell_type": "code",
      "source": [
        "shelf.append([1,2,3])"
      ],
      "metadata": {
        "id": "153nI3WFSa8T"
      },
      "execution_count": null,
      "outputs": []
    },
    {
      "cell_type": "code",
      "source": [
        "print(shelf)"
      ],
      "metadata": {
        "colab": {
          "base_uri": "https://localhost:8080/"
        },
        "id": "Mk3wGJyqSa5w",
        "outputId": "017d60f3-559d-4a6d-b5df-df48b30bcbfc"
      },
      "execution_count": null,
      "outputs": [
        {
          "output_type": "stream",
          "name": "stdout",
          "text": [
            "['book1', 'book2', 'notebook', [1, 2, 3]]\n"
          ]
        }
      ]
    },
    {
      "cell_type": "code",
      "source": [
        "shelf.extend([7,8,9])\n",
        "print(shelf)"
      ],
      "metadata": {
        "colab": {
          "base_uri": "https://localhost:8080/"
        },
        "id": "yITydCe8SwIU",
        "outputId": "688b18aa-8ce2-41aa-a7ec-22bdd49288dc"
      },
      "execution_count": null,
      "outputs": [
        {
          "output_type": "stream",
          "name": "stdout",
          "text": [
            "['book1', 'book2', 'notebook', [1, 2, 3], 7, 8, 9]\n"
          ]
        }
      ]
    },
    {
      "cell_type": "code",
      "source": [
        "print(\"a\")"
      ],
      "metadata": {
        "colab": {
          "base_uri": "https://localhost:8080/"
        },
        "id": "BRrKi3BmTlCL",
        "outputId": "80e2da82-b870-4cac-ce92-76f1bffec42e"
      },
      "execution_count": null,
      "outputs": [
        {
          "output_type": "stream",
          "name": "stdout",
          "text": [
            "a\n"
          ]
        }
      ]
    },
    {
      "cell_type": "markdown",
      "source": [
        "##methods like append(), extend(), sort(), reverse(), work in place they do not return the value , so when you try to assign the vairable to it , it will be none"
      ],
      "metadata": {
        "id": "orjnNlQRURUL"
      }
    },
    {
      "cell_type": "code",
      "source": [
        "l1 = [1,2,3]\n",
        "l2 = [3,4,5]\n",
        "l1.append(l2)\n",
        "l1"
      ],
      "metadata": {
        "colab": {
          "base_uri": "https://localhost:8080/"
        },
        "id": "pZjg0B8oSwGX",
        "outputId": "6c8ef2c2-8966-48f6-c9d6-e3915afda01d"
      },
      "execution_count": null,
      "outputs": [
        {
          "output_type": "execute_result",
          "data": {
            "text/plain": [
              "[1, 2, 3, [3, 4, 5]]"
            ]
          },
          "metadata": {},
          "execution_count": 163
        }
      ]
    },
    {
      "cell_type": "code",
      "source": [
        "l1 = [1,2,3]\n",
        "l2 = [3,4,5]"
      ],
      "metadata": {
        "id": "lDI-9zZAUGma"
      },
      "execution_count": null,
      "outputs": []
    },
    {
      "cell_type": "code",
      "source": [
        "d = l1.extend(l2)"
      ],
      "metadata": {
        "id": "jKRaWqHYSwE6"
      },
      "execution_count": null,
      "outputs": []
    },
    {
      "cell_type": "code",
      "source": [
        "print(d)"
      ],
      "metadata": {
        "colab": {
          "base_uri": "https://localhost:8080/"
        },
        "id": "ov__3twDSwCu",
        "outputId": "5207f780-d40c-4d5f-b920-f4daa4ff5d5b"
      },
      "execution_count": null,
      "outputs": [
        {
          "output_type": "stream",
          "name": "stdout",
          "text": [
            "None\n"
          ]
        }
      ]
    },
    {
      "cell_type": "code",
      "metadata": {
        "colab": {
          "base_uri": "https://localhost:8080/"
        },
        "id": "hQo7GQA0aDIz",
        "outputId": "266863bc-1ce6-43dc-b14e-c32677fdf5d3"
      },
      "source": [
        "len(my_list)"
      ],
      "execution_count": null,
      "outputs": [
        {
          "output_type": "execute_result",
          "data": {
            "text/plain": [
              "20"
            ]
          },
          "metadata": {},
          "execution_count": 149
        }
      ]
    },
    {
      "cell_type": "markdown",
      "metadata": {
        "id": "rshOIKENuH5F"
      },
      "source": [
        "### <code>pop()</code>\n",
        "\n",
        "* Use <code>pop()</code> to \"pop off\" an item from the list.\n",
        "\n",
        "\n",
        "* By default <code>pop()</code> takes off the element at the last index, but you can also specify which index to pop off.\n",
        "\n",
        "\n",
        "* <code>pop()</code> takes the index as an argument and returns the elenent which was popped off."
      ]
    },
    {
      "cell_type": "code",
      "metadata": {
        "id": "fhLzeQHYuH5G",
        "colab": {
          "base_uri": "https://localhost:8080/"
        },
        "outputId": "3b3358ec-4d70-46ca-d63f-825baf1e0bb9"
      },
      "source": [
        "# Print the list\n",
        "print(my_list)"
      ],
      "execution_count": null,
      "outputs": [
        {
          "output_type": "stream",
          "name": "stdout",
          "text": [
            "[1, 2, 3, 1, 1, 1, 3, 10, 5, 8, 23, 'Append me!', 2.73, [1, 2, 3], [10, [19, 20], 30], [10, [19, 20], 30], [10, [19, 20], 30], 'Wubba', 'Lubba', 'Dub Dub']\n"
          ]
        }
      ]
    },
    {
      "cell_type": "code",
      "metadata": {
        "id": "k1OLmtIquH5M",
        "colab": {
          "base_uri": "https://localhost:8080/",
          "height": 35
        },
        "outputId": "1140bfdf-e29d-49a2-c2d9-353e38cb6c05"
      },
      "source": [
        "# Pop off the 0 indexed item\n",
        "my_list.pop()"
      ],
      "execution_count": null,
      "outputs": [
        {
          "output_type": "execute_result",
          "data": {
            "text/plain": [
              "'Dub Dub'"
            ],
            "application/vnd.google.colaboratory.intrinsic+json": {
              "type": "string"
            }
          },
          "metadata": {},
          "execution_count": 172
        }
      ]
    },
    {
      "cell_type": "markdown",
      "metadata": {
        "id": "SNWR6QjouH5Q"
      },
      "source": [
        "* <code>pop()</code> method changes the list by popping off the element at the specified index"
      ]
    },
    {
      "cell_type": "code",
      "metadata": {
        "id": "TFiATwmXuH5R",
        "colab": {
          "base_uri": "https://localhost:8080/"
        },
        "outputId": "7ebbac70-a5f6-4d09-f8f7-70572514b1ba"
      },
      "source": [
        "print(my_list)"
      ],
      "execution_count": null,
      "outputs": [
        {
          "output_type": "stream",
          "name": "stdout",
          "text": [
            "[1, 2, 3, 1, 1, 1, 3, 10, 5, 8, 23, 'Append me!', 2.73, [1, 2, 3], [10, [19, 20], 30], [10, [19, 20], 30], [10, [19, 20], 30], 'Wubba', 'Lubba']\n"
          ]
        }
      ]
    },
    {
      "cell_type": "code",
      "metadata": {
        "id": "33cAUa7wuH5V",
        "colab": {
          "base_uri": "https://localhost:8080/"
        },
        "outputId": "8661d25e-2033-41ba-a1d3-4e222643085f"
      },
      "source": [
        "# Assign the popped element, remember default popped index is -1\n",
        "my_list.pop(0)"
      ],
      "execution_count": null,
      "outputs": [
        {
          "output_type": "execute_result",
          "data": {
            "text/plain": [
              "1"
            ]
          },
          "metadata": {},
          "execution_count": 174
        }
      ]
    },
    {
      "cell_type": "code",
      "metadata": {
        "id": "qX6eae3UuH5c",
        "colab": {
          "base_uri": "https://localhost:8080/"
        },
        "outputId": "f9d5e310-f126-4d70-f35a-540c3898a7d9"
      },
      "source": [
        "len(my_list)"
      ],
      "execution_count": null,
      "outputs": [
        {
          "output_type": "execute_result",
          "data": {
            "text/plain": [
              "18"
            ]
          },
          "metadata": {},
          "execution_count": 175
        }
      ]
    },
    {
      "cell_type": "code",
      "metadata": {
        "id": "pHi_Ws8uw0w0",
        "colab": {
          "base_uri": "https://localhost:8080/"
        },
        "outputId": "3dc7f623-f86c-4711-b692-7a54cca268d2"
      },
      "source": [
        "print(my_list)"
      ],
      "execution_count": null,
      "outputs": [
        {
          "output_type": "stream",
          "name": "stdout",
          "text": [
            "[2, 3, 1, 1, 1, 3, 10, 5, 8, 23, 'Append me!', 2.73, [1, 2, 3], [10, [19, 20], 30], [10, [19, 20], 30], [10, [19, 20], 30], 'Wubba', 'Lubba']\n"
          ]
        }
      ]
    },
    {
      "cell_type": "markdown",
      "metadata": {
        "id": "YBAQ1FyQuH5f"
      },
      "source": [
        "### <code>remove()</code>\n",
        "\n",
        "* Use <code>remove()</code> to remove an item/element from the list.\n",
        "\n",
        "\n",
        "* By default <code>remove()</code> removes the specified element from the list.\n",
        "\n",
        "\n",
        "* <code>remove()</code> takes the element as an argument."
      ]
    },
    {
      "cell_type": "code",
      "source": [
        "#pop ins taking index as an arugment, ex remove element from 2nd index\n",
        "# remove is taking the ele as a argument"
      ],
      "metadata": {
        "id": "ky1xsKamVJqV"
      },
      "execution_count": null,
      "outputs": []
    },
    {
      "cell_type": "code",
      "metadata": {
        "id": "j9pp3cEJuH5g",
        "colab": {
          "base_uri": "https://localhost:8080/"
        },
        "outputId": "db6cee85-fc13-4787-ca7f-69513e60b9a7"
      },
      "source": [
        "# Print the list\n",
        "print(my_list)"
      ],
      "execution_count": null,
      "outputs": [
        {
          "output_type": "stream",
          "name": "stdout",
          "text": [
            "[2, 3, 1, 1, 1, 3, 10, 5, 8, 23, 'Append me!', 2.73, [1, 2, 3], [10, [19, 20], 30], [10, [19, 20], 30], [10, [19, 20], 30], 'Wubba', 'Lubba']\n"
          ]
        }
      ]
    },
    {
      "cell_type": "code",
      "metadata": {
        "id": "pTPu7lszuH5j"
      },
      "source": [
        "# Remove the element which you want to\n",
        "my_list.remove([10, [19, 20], 30])"
      ],
      "execution_count": null,
      "outputs": []
    },
    {
      "cell_type": "code",
      "metadata": {
        "id": "wI2Yz2UYuH5p",
        "colab": {
          "base_uri": "https://localhost:8080/"
        },
        "outputId": "f0a8952e-2540-4206-fc5a-a38a5b3f1774"
      },
      "source": [
        "# Show\n",
        "print(my_list)"
      ],
      "execution_count": null,
      "outputs": [
        {
          "output_type": "stream",
          "name": "stdout",
          "text": [
            "[2, 3, 1, 1, 1, 3, 10, 5, 8, 23, 'Append me!', 2.73, [1, 2, 3], [10, [19, 20], 30], [10, [19, 20], 30], 'Wubba', 'Lubba']\n"
          ]
        }
      ]
    },
    {
      "cell_type": "code",
      "metadata": {
        "id": "OWn2q_6cxYo2"
      },
      "source": [
        "my_list.remove('Append me!')"
      ],
      "execution_count": null,
      "outputs": []
    },
    {
      "cell_type": "code",
      "metadata": {
        "id": "D_duqvRJxd16",
        "colab": {
          "base_uri": "https://localhost:8080/"
        },
        "outputId": "f4fb6bb6-63e4-48aa-ee2d-3a50c6dc841b"
      },
      "source": [
        "print(my_list)"
      ],
      "execution_count": null,
      "outputs": [
        {
          "output_type": "stream",
          "name": "stdout",
          "text": [
            "[2, 3, 1, 1, 1, 3, 10, 5, 8, 23, 2.73, [1, 2, 3], [10, [19, 20], 30], [10, [19, 20], 30], 'Wubba', 'Lubba']\n"
          ]
        }
      ]
    },
    {
      "cell_type": "code",
      "metadata": {
        "id": "i8h8-qVtxhPI",
        "colab": {
          "base_uri": "https://localhost:8080/"
        },
        "outputId": "57bb839d-5386-4cee-dff5-1f5e7f7d4ee0"
      },
      "source": [
        "len(my_list)"
      ],
      "execution_count": null,
      "outputs": [
        {
          "output_type": "execute_result",
          "data": {
            "text/plain": [
              "16"
            ]
          },
          "metadata": {},
          "execution_count": 182
        }
      ]
    },
    {
      "cell_type": "code",
      "metadata": {
        "id": "f5-UZ88Exwth"
      },
      "source": [
        "my_list.remove(1)"
      ],
      "execution_count": null,
      "outputs": []
    },
    {
      "cell_type": "code",
      "metadata": {
        "id": "d3WxCp0Cxzty",
        "colab": {
          "base_uri": "https://localhost:8080/"
        },
        "outputId": "32bedb91-7042-4ac8-cb90-f536fa407f44"
      },
      "source": [
        "print(my_list)"
      ],
      "execution_count": null,
      "outputs": [
        {
          "output_type": "stream",
          "name": "stdout",
          "text": [
            "[2, 3, 1, 1, 3, 10, 5, 8, 23, 2.73, [1, 2, 3], [10, [19, 20], 30], [10, [19, 20], 30], 'Wubba', 'Lubba']\n"
          ]
        }
      ]
    },
    {
      "cell_type": "code",
      "metadata": {
        "id": "4ewbAKKhx-vS",
        "colab": {
          "base_uri": "https://localhost:8080/"
        },
        "outputId": "be0b7ad2-6781-497e-9746-2e2c9c6fe3e9"
      },
      "source": [
        "len(my_list)"
      ],
      "execution_count": null,
      "outputs": [
        {
          "output_type": "execute_result",
          "data": {
            "text/plain": [
              "15"
            ]
          },
          "metadata": {},
          "execution_count": 185
        }
      ]
    },
    {
      "cell_type": "code",
      "metadata": {
        "id": "-gey8zXHcsH5",
        "colab": {
          "base_uri": "https://localhost:8080/"
        },
        "outputId": "86ff743b-8721-4744-bedb-ce214007e128"
      },
      "source": [
        "my_list.clear"
      ],
      "execution_count": null,
      "outputs": [
        {
          "output_type": "execute_result",
          "data": {
            "text/plain": [
              "<function list.clear()>"
            ]
          },
          "metadata": {},
          "execution_count": 186
        }
      ]
    },
    {
      "cell_type": "markdown",
      "metadata": {
        "id": "Wheg57npuH5t"
      },
      "source": [
        "### <code>count()</code>\n",
        "\n",
        "\n",
        "* The <code>count()</code> method returns the total occurrence of a specified element in the list"
      ]
    },
    {
      "cell_type": "code",
      "metadata": {
        "id": "ECnUwg_eyG47",
        "colab": {
          "base_uri": "https://localhost:8080/"
        },
        "outputId": "d888493c-e9c4-4b20-9a96-57898f52b4ff"
      },
      "source": [
        "print(my_list)"
      ],
      "execution_count": null,
      "outputs": [
        {
          "output_type": "stream",
          "name": "stdout",
          "text": [
            "[2, 3, 1, 1, 3, 10, 5, 8, 23, 2.73, [1, 2, 3], [10, [19, 20], 30], [10, [19, 20], 30], 'Wubba', 'Lubba']\n"
          ]
        }
      ]
    },
    {
      "cell_type": "code",
      "metadata": {
        "id": "v62QCGFTuH5u",
        "colab": {
          "base_uri": "https://localhost:8080/"
        },
        "outputId": "11dee933-18f9-4dec-faa3-e5b6b53d44bc"
      },
      "source": [
        "# Count the number of times element 1 occurs in my_list\n",
        "my_list.count('Wubba')"
      ],
      "execution_count": null,
      "outputs": [
        {
          "output_type": "execute_result",
          "data": {
            "text/plain": [
              "1"
            ]
          },
          "metadata": {},
          "execution_count": 188
        }
      ]
    },
    {
      "cell_type": "code",
      "metadata": {
        "id": "LA3k4qScuH5z",
        "colab": {
          "base_uri": "https://localhost:8080/"
        },
        "outputId": "adcc05ab-64c9-4216-c881-4ba003ffaaaf"
      },
      "source": [
        "my_list.count(1)"
      ],
      "execution_count": null,
      "outputs": [
        {
          "output_type": "execute_result",
          "data": {
            "text/plain": [
              "2"
            ]
          },
          "metadata": {},
          "execution_count": 189
        }
      ]
    },
    {
      "cell_type": "markdown",
      "metadata": {
        "id": "avyykdGjuH52"
      },
      "source": [
        "### <code>index()</code>\n",
        "\n",
        "\n",
        "* The <code>index()</code> method returns the index of a specified element."
      ]
    },
    {
      "cell_type": "code",
      "source": [],
      "metadata": {
        "id": "e5WE9YS3VvoM"
      },
      "execution_count": null,
      "outputs": []
    },
    {
      "cell_type": "code",
      "metadata": {
        "id": "78Mc3vSuydeb",
        "colab": {
          "base_uri": "https://localhost:8080/"
        },
        "outputId": "0d2264c3-b9a1-48c4-d41d-c8c9ec9c44ec"
      },
      "source": [
        "print(my_list)"
      ],
      "execution_count": null,
      "outputs": [
        {
          "output_type": "stream",
          "name": "stdout",
          "text": [
            "[2, 3, 1, 1, 3, 10, 5, 8, 23, 2.73, [1, 2, 3], [10, [19, 20], 30], [10, [19, 20], 30], 'Wubba', 'Lubba']\n"
          ]
        }
      ]
    },
    {
      "cell_type": "code",
      "metadata": {
        "id": "ziOkTs68uH52",
        "colab": {
          "base_uri": "https://localhost:8080/"
        },
        "outputId": "0861c40c-af18-46f0-f1b5-e181e1f21b27"
      },
      "source": [
        "my_list.index('Wubba')"
      ],
      "execution_count": null,
      "outputs": [
        {
          "output_type": "execute_result",
          "data": {
            "text/plain": [
              "13"
            ]
          },
          "metadata": {},
          "execution_count": 191
        }
      ]
    },
    {
      "cell_type": "code",
      "metadata": {
        "id": "k-ByxvTYuH54",
        "colab": {
          "base_uri": "https://localhost:8080/"
        },
        "outputId": "6853db63-781c-441e-dd28-f3cfb0f6d372"
      },
      "source": [
        "my_list.index(3)"
      ],
      "execution_count": null,
      "outputs": [
        {
          "output_type": "execute_result",
          "data": {
            "text/plain": [
              "1"
            ]
          },
          "metadata": {},
          "execution_count": 192
        }
      ]
    },
    {
      "cell_type": "markdown",
      "metadata": {
        "id": "f4JqHtEouH57"
      },
      "source": [
        "### <code>sort()</code>\n",
        "\n",
        "* Use <code>sort()</code> to sort the list in either ascending/descending order\n",
        "\n",
        "\n",
        "* The sorting is done in ascending order by default\n",
        "\n",
        "\n",
        "* <code>sort()</code> method takes the reverse boolean as an argument\n",
        "\n",
        "\n",
        "* <code>sort()</code> method only works on a list with elements of same data type"
      ]
    },
    {
      "cell_type": "code",
      "metadata": {
        "id": "yOIhOzjruH57"
      },
      "source": [
        "new_list = [6, 9, 1, 3, 5]"
      ],
      "execution_count": null,
      "outputs": []
    },
    {
      "cell_type": "code",
      "metadata": {
        "id": "VhPOveeYuH59"
      },
      "source": [
        "# Use sort to sort the list (this is permanent!)\n",
        "new_list.sort()"
      ],
      "execution_count": null,
      "outputs": []
    },
    {
      "cell_type": "code",
      "metadata": {
        "id": "iw_PGYFmuH6S",
        "colab": {
          "base_uri": "https://localhost:8080/"
        },
        "outputId": "188c4291-38c4-40aa-fc06-c58cf1e01d3a"
      },
      "source": [
        "print(new_list)"
      ],
      "execution_count": null,
      "outputs": [
        {
          "output_type": "stream",
          "name": "stdout",
          "text": [
            "[1, 3, 5, 6, 9]\n"
          ]
        }
      ]
    },
    {
      "cell_type": "code",
      "metadata": {
        "id": "7G1nOh1VuH6U",
        "colab": {
          "base_uri": "https://localhost:8080/"
        },
        "outputId": "311ad62e-b777-40be-b489-e36cf9f09fbf"
      },
      "source": [
        "# Use the reverse boolean to set the ascending or descending order\n",
        "new_list.sort(reverse=True)\n",
        "print(new_list)"
      ],
      "execution_count": null,
      "outputs": [
        {
          "output_type": "stream",
          "name": "stdout",
          "text": [
            "[9, 6, 5, 3, 1]\n"
          ]
        }
      ]
    },
    {
      "cell_type": "code",
      "metadata": {
        "id": "QIoFBvqOzosU"
      },
      "source": [
        "boolean_list = [True, False]"
      ],
      "execution_count": null,
      "outputs": []
    },
    {
      "cell_type": "code",
      "metadata": {
        "id": "tqENLXmJzueH"
      },
      "source": [
        "boolean_list.sort(reverse=True)"
      ],
      "execution_count": null,
      "outputs": []
    },
    {
      "cell_type": "code",
      "metadata": {
        "id": "O6MiKYnMzxvD",
        "colab": {
          "base_uri": "https://localhost:8080/"
        },
        "outputId": "99e57675-7f9a-4931-8828-cbcf86c4a4b0"
      },
      "source": [
        "print(boolean_list)"
      ],
      "execution_count": null,
      "outputs": [
        {
          "output_type": "stream",
          "name": "stdout",
          "text": [
            "[True, False]\n"
          ]
        }
      ]
    },
    {
      "cell_type": "markdown",
      "metadata": {
        "id": "-PKIGd9xuH6a"
      },
      "source": [
        "### <code>reverse()</code>\n",
        "\n",
        "* <code>reverse()</code> method reverses the list"
      ]
    },
    {
      "cell_type": "code",
      "metadata": {
        "id": "0Z_IZuJeuH6d"
      },
      "source": [
        "my_list = [1, 1, 1, 1, 1.43, 2, 3, 3, 5, 8, 10, 'Lubba', 'Dub Dub']"
      ],
      "execution_count": null,
      "outputs": []
    },
    {
      "cell_type": "code",
      "metadata": {
        "id": "idf-jZVG0FWq",
        "colab": {
          "base_uri": "https://localhost:8080/"
        },
        "outputId": "752e533b-6d65-4d20-fc4b-3595e57e9494"
      },
      "source": [
        "print(my_list)"
      ],
      "execution_count": null,
      "outputs": [
        {
          "output_type": "stream",
          "name": "stdout",
          "text": [
            "[1, 1, 1, 1, 1.43, 2, 3, 3, 5, 8, 10, 'Lubba', 'Dub Dub']\n"
          ]
        }
      ]
    },
    {
      "cell_type": "code",
      "metadata": {
        "id": "XlHNzFuWuH6f"
      },
      "source": [
        "my_list.reverse()"
      ],
      "execution_count": null,
      "outputs": []
    },
    {
      "cell_type": "code",
      "metadata": {
        "id": "EIjRqvMsuH6h",
        "colab": {
          "base_uri": "https://localhost:8080/"
        },
        "outputId": "718bb64e-eb4d-4a50-8c0e-4bbddaff6429"
      },
      "source": [
        "print(my_list)"
      ],
      "execution_count": null,
      "outputs": [
        {
          "output_type": "stream",
          "text": [
            "['Dub Dub', 'Lubba', 10, 8, 5, 3, 3, 2, 1.43, 1, 1, 1, 1]\n"
          ],
          "name": "stdout"
        }
      ]
    },
    {
      "cell_type": "markdown",
      "metadata": {
        "id": "Kflrg7Y0uH6j"
      },
      "source": [
        "## Nested Lists\n",
        "\n",
        "* A great feature of of Python data structures is that they support *nesting*. This means we can have data structures within data structures. For example: A list inside a list."
      ]
    },
    {
      "cell_type": "code",
      "metadata": {
        "id": "fcP7eX_buH6j"
      },
      "source": [
        "# Let's make three lists\n",
        "lst_1=[1,2,3]\n",
        "lst_2=['b','a','d']\n",
        "lst_3=[7,8,9]\n",
        "\n",
        "# Make a list of lists to form a matrix\n",
        "list_of_lists = [lst_1,lst_2,lst_3]"
      ],
      "execution_count": null,
      "outputs": []
    },
    {
      "cell_type": "code",
      "metadata": {
        "id": "ZW98bxOcuH6l",
        "colab": {
          "base_uri": "https://localhost:8080/"
        },
        "outputId": "756e0030-d3a8-4249-ac52-e0ba8d7bc231"
      },
      "source": [
        "print(list_of_lists)"
      ],
      "execution_count": null,
      "outputs": [
        {
          "output_type": "stream",
          "name": "stdout",
          "text": [
            "[[1, 2, 3], ['b', 'a', 'd'], [7, 8, 9]]\n"
          ]
        }
      ]
    },
    {
      "cell_type": "code",
      "metadata": {
        "id": "LCsNZqhiuH6o",
        "colab": {
          "base_uri": "https://localhost:8080/"
        },
        "outputId": "7173cae4-41a7-47fb-ce6f-fa3f5030c90a"
      },
      "source": [
        "# Show\n",
        "type(list_of_lists)"
      ],
      "execution_count": null,
      "outputs": [
        {
          "output_type": "execute_result",
          "data": {
            "text/plain": [
              "list"
            ]
          },
          "metadata": {},
          "execution_count": 210
        }
      ]
    },
    {
      "cell_type": "code",
      "source": [
        "list_of_lists[1][1]"
      ],
      "metadata": {
        "colab": {
          "base_uri": "https://localhost:8080/",
          "height": 35
        },
        "id": "WwuvRKP-Wu-r",
        "outputId": "e9ae47a5-0214-42f9-d220-5d94bcaf8e26"
      },
      "execution_count": null,
      "outputs": [
        {
          "output_type": "execute_result",
          "data": {
            "text/plain": [
              "'a'"
            ],
            "application/vnd.google.colaboratory.intrinsic+json": {
              "type": "string"
            }
          },
          "metadata": {},
          "execution_count": 220
        }
      ]
    },
    {
      "cell_type": "code",
      "source": [
        "a = list_of_lists[2]"
      ],
      "metadata": {
        "id": "9ulyUrJeXOh-"
      },
      "execution_count": null,
      "outputs": []
    },
    {
      "cell_type": "code",
      "source": [
        "a[1]"
      ],
      "metadata": {
        "colab": {
          "base_uri": "https://localhost:8080/"
        },
        "id": "w1TCXjt2Xeo0",
        "outputId": "67c8e42e-490a-4771-d0ed-c6d96b028abf"
      },
      "execution_count": null,
      "outputs": [
        {
          "output_type": "execute_result",
          "data": {
            "text/plain": [
              "8"
            ]
          },
          "metadata": {},
          "execution_count": 219
        }
      ]
    },
    {
      "cell_type": "code",
      "metadata": {
        "id": "b0RVu1A9uH6r",
        "colab": {
          "base_uri": "https://localhost:8080/",
          "height": 34
        },
        "outputId": "0287ab44-4d6f-48e5-dcda-31234941c262"
      },
      "source": [
        "# Grab first item in matrix object\n",
        "list_of_lists[1]"
      ],
      "execution_count": null,
      "outputs": [
        {
          "output_type": "execute_result",
          "data": {
            "text/plain": [
              "['b', 'a', 'd']"
            ]
          },
          "metadata": {
            "tags": []
          },
          "execution_count": 189
        }
      ]
    },
    {
      "cell_type": "code",
      "metadata": {
        "id": "HXVZtlY3uH6u",
        "colab": {
          "base_uri": "https://localhost:8080/"
        },
        "outputId": "db66dc84-dca7-429b-80f2-8933b2a73ff7"
      },
      "source": [
        "# Grab first item of the first item in the matrix object\n",
        "list_of_lists[1]"
      ],
      "execution_count": null,
      "outputs": [
        {
          "output_type": "execute_result",
          "data": {
            "text/plain": [
              "['b', 'a', 'd']"
            ]
          },
          "metadata": {
            "tags": []
          },
          "execution_count": 97
        }
      ]
    },
    {
      "cell_type": "code",
      "metadata": {
        "id": "4B52LBDjOSIz",
        "colab": {
          "base_uri": "https://localhost:8080/",
          "height": 34
        },
        "outputId": "9d7c8282-9bfb-4575-ad19-f1521d1f3119"
      },
      "source": [
        "list_of_lists[1][1][][][]"
      ],
      "execution_count": null,
      "outputs": [
        {
          "output_type": "execute_result",
          "data": {
            "application/vnd.google.colaboratory.intrinsic+json": {
              "type": "string"
            },
            "text/plain": [
              "'a'"
            ]
          },
          "metadata": {
            "tags": []
          },
          "execution_count": 98
        }
      ]
    },
    {
      "cell_type": "markdown",
      "source": [
        "**insert()**"
      ],
      "metadata": {
        "id": "N2BQxZMfXt9-"
      }
    },
    {
      "cell_type": "code",
      "metadata": {
        "id": "iC2D0SZCfV9n"
      },
      "source": [
        "#add element to the specific index of position\n",
        "#insert(index, value)"
      ],
      "execution_count": null,
      "outputs": []
    },
    {
      "cell_type": "code",
      "source": [
        "my_list"
      ],
      "metadata": {
        "colab": {
          "base_uri": "https://localhost:8080/"
        },
        "id": "_GjsdR7LX4EB",
        "outputId": "eae912f8-9aa2-4879-d038-71cb0afcc9a2"
      },
      "execution_count": null,
      "outputs": [
        {
          "output_type": "execute_result",
          "data": {
            "text/plain": [
              "['Dub Dub', 'Lubba', 10, 8, 5, 3, 3, 2, 1.43, 1, 1, 1, 1]"
            ]
          },
          "metadata": {},
          "execution_count": 223
        }
      ]
    },
    {
      "cell_type": "code",
      "source": [
        "my_list.insert(1,2)"
      ],
      "metadata": {
        "id": "bBpXvkxrX40r"
      },
      "execution_count": null,
      "outputs": []
    },
    {
      "cell_type": "code",
      "source": [
        "my_list"
      ],
      "metadata": {
        "colab": {
          "base_uri": "https://localhost:8080/"
        },
        "id": "JeggvHHcX61s",
        "outputId": "743f2fee-1943-4b89-8d8d-7de47a953886"
      },
      "execution_count": null,
      "outputs": [
        {
          "output_type": "execute_result",
          "data": {
            "text/plain": [
              "['Dub Dub', 2, 'Lubba', 10, 8, 5, 3, 3, 2, 1.43, 1, 1, 1, 1]"
            ]
          },
          "metadata": {},
          "execution_count": 226
        }
      ]
    },
    {
      "cell_type": "code",
      "source": [
        "my_list.insert(2, \"john\")"
      ],
      "metadata": {
        "id": "UoKlczTaYC2F"
      },
      "execution_count": null,
      "outputs": []
    },
    {
      "cell_type": "code",
      "source": [
        "my_list"
      ],
      "metadata": {
        "colab": {
          "base_uri": "https://localhost:8080/"
        },
        "id": "uc9siFuLYL2v",
        "outputId": "273043bf-1132-4f5f-fadb-543ab9b303bc"
      },
      "execution_count": null,
      "outputs": [
        {
          "output_type": "execute_result",
          "data": {
            "text/plain": [
              "['Dub Dub', 2, 'john', 'Lubba', 10, 8, 5, 3, 3, 2, 1.43, 1, 1, 1, 1]"
            ]
          },
          "metadata": {},
          "execution_count": 228
        }
      ]
    },
    {
      "cell_type": "code",
      "source": [],
      "metadata": {
        "id": "hObHC8cpYMfe"
      },
      "execution_count": null,
      "outputs": []
    }
  ]
}