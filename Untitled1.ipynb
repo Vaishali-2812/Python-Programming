{
  "nbformat": 4,
  "nbformat_minor": 0,
  "metadata": {
    "colab": {
      "provenance": [],
      "authorship_tag": "ABX9TyM7g8YUXlE9kw1Rwj+U1cYi",
      "include_colab_link": true
    },
    "kernelspec": {
      "name": "python3",
      "display_name": "Python 3"
    },
    "language_info": {
      "name": "python"
    }
  },
  "cells": [
    {
      "cell_type": "markdown",
      "metadata": {
        "id": "view-in-github",
        "colab_type": "text"
      },
      "source": [
        "<a href=\"https://colab.research.google.com/github/Vaishali-2812/Python-Programming/blob/main/Untitled1.ipynb\" target=\"_parent\"><img src=\"https://colab.research.google.com/assets/colab-badge.svg\" alt=\"Open In Colab\"/></a>"
      ]
    },
    {
      "cell_type": "markdown",
      "source": [
        "**Assignment no 1**\n",
        "\n",
        "\"A bag contains 45 apples,65 oranges and 30 bananas. Find the percentage of each type of food items in the bag.\""
      ],
      "metadata": {
        "id": "CAFAHpvz6kC9"
      }
    },
    {
      "cell_type": "code",
      "execution_count": 9,
      "metadata": {
        "colab": {
          "base_uri": "https://localhost:8080/"
        },
        "id": "TxtRROy66gqF",
        "outputId": "c03ee6e8-25d0-4b90-e1b3-96a69d76c0fd"
      },
      "outputs": [
        {
          "output_type": "stream",
          "name": "stdout",
          "text": [
            "Percentage_of_Apples = 32.14%\n",
            "Percentage of Oranges = 46.429%\n",
            "Percentage of Bananas = 21.4286%\n",
            "32.142857142857146\n"
          ]
        }
      ],
      "source": [
        "# Total fruits\n",
        "total_fruits = 45 + 65 + 30\n",
        "\n",
        "# percentage of each fruit\n",
        "apple_percentage = (45 / total_fruits) * 100\n",
        "orange_percentage = (65 / total_fruits) * 100\n",
        "banana_percentage = (30 / total_fruits) * 100\n",
        "\n",
        "# Print the percentages\n",
        "# f string = Inside the string, you can embed expressions within curly braces {}.\n",
        "# These expressions will be evaluated at runtime,\n",
        "# and their values will be inserted into the string.\n",
        "\n",
        "# Format Specifier: The :.2f specifier is specifically designed to format\n",
        "# floating-point numbers with a fixed number of decimal places,\n",
        "# ensuring that the output has the desired precision.\n",
        "print(f\"Percentage_of_Apples = {apple_percentage :.2f}%\")\n",
        "print(f\"Percentage of Oranges = {orange_percentage :.3f}%\")\n",
        "print(f\"Percentage of Bananas = {banana_percentage :.4f}%\")\n",
        "\n",
        "print(apple_percentage)\n",
        "\n",
        "#number = apple_percentage\n",
        "#rounded_percentage= round(number,2)\n"
      ]
    },
    {
      "cell_type": "markdown",
      "source": [
        "**Assignment 2**\n",
        "\n",
        "You were playing a fun guessing game during your school break. There were a total of 100 participants excluding you. Out of these 100 people, 30 were Maths Majors, 45 were Economics Majors and 25 were Physics Majors.\n",
        "The game was divided into three rounds.\n",
        "\n",
        "*In the first round, you had to guess the number of Maths Majors and you correctly guessed 20 of them,\n",
        "*In the second round, you had to guess the number of Economics Majors and you correctly guessed 30 of them.\n",
        "*In the final third round, you had to guess the number of Physics Majors and you correctly guessed 20 of them.\n",
        "\n",
        " Calculate your accuracy in each of the three rounds.\n",
        "    \n",
        "\n"
      ],
      "metadata": {
        "id": "uzeHWoo3lOkd"
      }
    },
    {
      "cell_type": "code",
      "source": [
        "# Round one\n",
        "# correctly guessed = 20\n",
        "# Maths Majors = 30\n",
        "\n",
        "accuracy_in_math = (20 / 30 ) * 100\n",
        "print(f\"Round 1 accuracy:{accuracy_in_math:.2f}%\")\n",
        "\n",
        "\n",
        "\n",
        "#Round two\n",
        "# correctly guessed = 30\n",
        "# Economics Majaors = 45\n",
        "\n",
        "accuracy_in_economics = (30 / 45) * 100\n",
        "print(f\"Round 2 accuracy:{accuracy_in_economics:.2f}%\")\n",
        "\n",
        "# Round three\n",
        "# correctly guessed = 20\n",
        "# Physics Majors = 25\n",
        "\n",
        "accuracy_in_physics = (20 / 25) * 100\n",
        "print(f\"Round 3 accuracy:{accuracy_in_physics:.2f}%\")\n",
        "\n",
        "#print (f\"'All three Round accuracy:{[accuracy_in_math:.2f%] ,[accuracy_in_economics],[accuracy_in_physics]}':.2f%\");\n",
        "\n",
        "print (f\"'First_round':{accuracy_in_math:.2f}% ,  Second_round':{accuracy_in_economics:.2f}% , Third_round':{accuracy_in_physics:.2f}%\")"
      ],
      "metadata": {
        "colab": {
          "base_uri": "https://localhost:8080/",
          "height": 245
        },
        "id": "9kkDRz4DnnHT",
        "outputId": "4661b694-6b85-43fd-fc94-ee1bc94d8e0b"
      },
      "execution_count": 32,
      "outputs": [
        {
          "output_type": "stream",
          "name": "stdout",
          "text": [
            "Round 1 accuracy:66.67%\n",
            "Round 2 accuracy:66.67%\n",
            "Round 3 accuracy:80.00%\n"
          ]
        },
        {
          "output_type": "error",
          "ename": "ValueError",
          "evalue": "Invalid format specifier '.2f /n' for object of type 'float'",
          "traceback": [
            "\u001b[0;31m---------------------------------------------------------------------------\u001b[0m",
            "\u001b[0;31mValueError\u001b[0m                                Traceback (most recent call last)",
            "\u001b[0;32m<ipython-input-32-e4a95bdad54e>\u001b[0m in \u001b[0;36m<cell line: 0>\u001b[0;34m()\u001b[0m\n\u001b[1;32m     24\u001b[0m \u001b[0;31m#print (f\"'All three Round accuracy:{[accuracy_in_math:.2f%] ,[accuracy_in_economics],[accuracy_in_physics]}':.2f%\");\u001b[0m\u001b[0;34m\u001b[0m\u001b[0;34m\u001b[0m\u001b[0m\n\u001b[1;32m     25\u001b[0m \u001b[0;34m\u001b[0m\u001b[0m\n\u001b[0;32m---> 26\u001b[0;31m \u001b[0mprint\u001b[0m \u001b[0;34m(\u001b[0m\u001b[0;34mf\"'First_round':{accuracy_in_math:.2f /n}% ,  Second_round':{accuracy_in_economics:.2f}% , Third_round':{accuracy_in_physics:.2f}%\"\u001b[0m\u001b[0;34m)\u001b[0m\u001b[0;34m\u001b[0m\u001b[0;34m\u001b[0m\u001b[0m\n\u001b[0m",
            "\u001b[0;31mValueError\u001b[0m: Invalid format specifier '.2f /n' for object of type 'float'"
          ]
        }
      ]
    },
    {
      "cell_type": "code",
      "source": [
        "a= \"A\"\n",
        "type(a)"
      ],
      "metadata": {
        "id": "cR03uq9ZnDeH",
        "colab": {
          "base_uri": "https://localhost:8080/"
        },
        "outputId": "94e4d817-c74a-4203-f1f3-81b9e8438eac"
      },
      "execution_count": 1,
      "outputs": [
        {
          "output_type": "execute_result",
          "data": {
            "text/plain": [
              "str"
            ]
          },
          "metadata": {},
          "execution_count": 1
        }
      ]
    },
    {
      "cell_type": "code",
      "source": [
        "x=2\n",
        "y=3\n",
        "\n"
      ],
      "metadata": {
        "id": "EYdeKyuCbpY6"
      },
      "execution_count": null,
      "outputs": []
    }
  ]
}