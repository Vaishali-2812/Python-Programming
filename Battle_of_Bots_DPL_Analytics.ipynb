{
  "cells": [
    {
      "cell_type": "markdown",
      "metadata": {
        "id": "view-in-github",
        "colab_type": "text"
      },
      "source": [
        "<a href=\"https://colab.research.google.com/github/Vaishali-2812/Python-Programming/blob/Python_Learning/Battle_of_Bots_DPL_Analytics.ipynb\" target=\"_parent\"><img src=\"https://colab.research.google.com/assets/colab-badge.svg\" alt=\"Open In Colab\"/></a>"
      ]
    },
    {
      "cell_type": "markdown",
      "metadata": {
        "id": "w5OgXyjMzt2U"
      },
      "source": [
        "#  Battle of Bots: AI Programming Tournament\n",
        "\n",
        "Welcome to the AI Bot Championship! You’re the Data Analyst for **Team AlphaBots**, analyzing performance and planning strategies. Solve the following challenges."
      ],
      "id": "w5OgXyjMzt2U"
    },
    {
      "cell_type": "markdown",
      "metadata": {
        "id": "fibnv5EJzt2V"
      },
      "source": [
        "##  Problem 1: Get all bot names from your team"
      ],
      "id": "fibnv5EJzt2V"
    },
    {
      "cell_type": "code",
      "execution_count": 1,
      "metadata": {
        "id": "ZfmJmHjezt2W",
        "outputId": "274eaf46-dcfc-4bc5-f4ae-403d548727dc",
        "colab": {
          "base_uri": "https://localhost:8080/"
        }
      },
      "outputs": [
        {
          "output_type": "stream",
          "name": "stdout",
          "text": [
            "['Astra', 'Nova', 'Echo', 'Zeno', 'Kora', 'Byte', 'Neon']\n"
          ]
        }
      ],
      "source": [
        "bot_scores = {\n",
        "    'Astra': 78,\n",
        "    'Nova': 85,\n",
        "    'Echo': 91,\n",
        "    'Zeno': 74,\n",
        "    'Kora': 89,\n",
        "    'Byte': 66,\n",
        "    'Neon': 0\n",
        "}\n",
        "\n",
        "#list of all bot names\n",
        "all_bot_names = list(bot_scores.keys())\n",
        "\n",
        "print(all_bot_names)\n"
      ],
      "id": "ZfmJmHjezt2W"
    },
    {
      "cell_type": "markdown",
      "metadata": {
        "id": "NJK6WBk9zt2W"
      },
      "source": [
        "##  Problem 2: By mistake Neons score was written wrong Update Neon’s score to 88"
      ],
      "id": "NJK6WBk9zt2W"
    },
    {
      "cell_type": "code",
      "execution_count": 2,
      "metadata": {
        "id": "FQ82KGFjzt2X",
        "outputId": "71f183be-e826-41d4-fdcc-15b952cdbe3e",
        "colab": {
          "base_uri": "https://localhost:8080/"
        }
      },
      "outputs": [
        {
          "output_type": "stream",
          "name": "stdout",
          "text": [
            "{'Astra': 78, 'Nova': 85, 'Echo': 91, 'Zeno': 74, 'Kora': 89, 'Byte': 66, 'Neon': 88}\n"
          ]
        }
      ],
      "source": [
        "#Update Neon’s score to 88\n",
        "\n",
        "bot_scores['Neon'] = 88\n",
        "print(bot_scores)"
      ],
      "id": "FQ82KGFjzt2X"
    },
    {
      "cell_type": "markdown",
      "metadata": {
        "id": "_hHjvLtszt2X"
      },
      "source": [
        "##  Problem 3: In case the top-performing AI bot goes down during the final match, your team needs a backup lead bot who can take charge. Identify the second-highest scoring bot from your team."
      ],
      "id": "_hHjvLtszt2X"
    },
    {
      "cell_type": "code",
      "execution_count": 4,
      "metadata": {
        "id": "YbwmKFRrzt2X",
        "outputId": "54aa6571-847a-47d5-cce1-fa4d6e6672b1",
        "colab": {
          "base_uri": "https://localhost:8080/"
        }
      },
      "outputs": [
        {
          "output_type": "stream",
          "name": "stdout",
          "text": [
            "[91, 89, 88, 85, 78, 74, 66]\n",
            "89\n"
          ]
        }
      ],
      "source": [
        "#sort all the scores in descending order\n",
        "scores = sorted(bot_scores.values(), reverse=True)\n",
        "\n",
        "print(scores)\n",
        "\n",
        "#Get second highest score from the sorted list\n",
        "second_highest_score = scores[1]\n",
        "print(second_highest_score)"
      ],
      "id": "YbwmKFRrzt2X"
    },
    {
      "cell_type": "markdown",
      "metadata": {
        "id": "TasEC39Pzt2X"
      },
      "source": [
        "##  Problem 4:  How many different performance scores were achieved?"
      ],
      "id": "TasEC39Pzt2X"
    },
    {
      "cell_type": "code",
      "execution_count": 5,
      "metadata": {
        "id": "Cs73QGWfzt2X",
        "outputId": "915b970c-9a77-4ce9-9a2a-a68277fb3aeb",
        "colab": {
          "base_uri": "https://localhost:8080/"
        }
      },
      "outputs": [
        {
          "output_type": "stream",
          "name": "stdout",
          "text": [
            "{66, 74, 78, 85, 88, 89, 91}\n"
          ]
        }
      ],
      "source": [
        "unique_scores = set(bot_scores.values())\n",
        "print(unique_scores)"
      ],
      "id": "Cs73QGWfzt2X"
    },
    {
      "cell_type": "markdown",
      "metadata": {
        "id": "oUSb0zOUzt2X"
      },
      "source": [
        "##  Problem 5: Fixed & adaptive bot selection\n",
        "You’re building your team lineup for the next round in the tournament.\n",
        "\n",
        "You have a set of 5 core bots who always play — these are reliable and not meant to be changed easily (think of them as “fixed”).\n",
        "\n",
        "You also have 5 flexible slots where you can pick high-performing or situational bots depending on recent performance or strategy.\n",
        "\n",
        "You’re asked to:\n",
        "\n",
        "Choose 5 fixed bots\n",
        "\n",
        "Choose 5 adaptive bots"
      ],
      "id": "oUSb0zOUzt2X"
    },
    {
      "cell_type": "code",
      "execution_count": 17,
      "metadata": {
        "id": "7YueXOvdzt2X",
        "outputId": "0b37d60c-cdec-4455-975c-cf2e1a6b6416",
        "colab": {
          "base_uri": "https://localhost:8080/"
        }
      },
      "outputs": [
        {
          "output_type": "stream",
          "name": "stdout",
          "text": [
            "Fixed Bots: ('Astra', 'Nova', 'Echo', 'Zeno', 'Kora')\n",
            "Adaptive Bots: ['Byte', 'Bolt', 'Rex', 'Vega', 'Zara']\n"
          ]
        }
      ],
      "source": [
        "#bot_pool = ['Astra', 'Nova', 'Echo', 'Zeno', 'Kora', 'Byte', 'Neon', 'Rex', 'Vega', 'Zara', 'Luna', 'Bolt']\n",
        "\n",
        "#fixed bots\n",
        "fixed_bots = ('Astra', 'Nova', 'Echo', 'Zeno', 'Kora')\n",
        "\n",
        "\n",
        "# Adaptive Bots\n",
        "adaptive_bots = ['Byte', 'Bolt', 'Rex', 'Vega', 'Zara']\n",
        "\n",
        "print(\"Fixed Bots:\", fixed_bots)\n",
        "print(\"Adaptive Bots:\", adaptive_bots)\n",
        "\n",
        "\n"
      ],
      "id": "7YueXOvdzt2X"
    },
    {
      "cell_type": "code",
      "source": [
        "type(fixed_bots)\n",
        "type(adaptive_bots)"
      ],
      "metadata": {
        "id": "fk3YjA_aHzvx",
        "outputId": "5465d378-1f28-43b0-a2a7-43ff056f0d3d",
        "colab": {
          "base_uri": "https://localhost:8080/"
        }
      },
      "id": "fk3YjA_aHzvx",
      "execution_count": 16,
      "outputs": [
        {
          "output_type": "execute_result",
          "data": {
            "text/plain": [
              "list"
            ]
          },
          "metadata": {},
          "execution_count": 16
        }
      ]
    },
    {
      "cell_type": "markdown",
      "metadata": {
        "id": "XNsOoRBhzt2X"
      },
      "source": [
        "## 🔄 Problem 6: Modify adaptive bots, Change the first bot in the adaptive bots list to Neon.\n",
        "\n",
        "Rearrange the bots to reflect a new performance order (feel free to shuffle the list).\n",
        "\n"
      ],
      "id": "XNsOoRBhzt2X"
    },
    {
      "cell_type": "code",
      "execution_count": 18,
      "metadata": {
        "id": "JtrwUdtmzt2Y",
        "outputId": "94663237-c1a6-4967-fa77-c56e1c8f6d2d",
        "colab": {
          "base_uri": "https://localhost:8080/"
        }
      },
      "outputs": [
        {
          "output_type": "stream",
          "name": "stdout",
          "text": [
            "['Neon', 'Bolt', 'Rex', 'Vega', 'Zara']\n"
          ]
        }
      ],
      "source": [
        "#Change the first bot in the adaptive bots list to Neon.\n",
        "\n",
        "adaptive_bots[0] = 'Neon'\n",
        "print(adaptive_bots)"
      ],
      "id": "JtrwUdtmzt2Y"
    },
    {
      "cell_type": "markdown",
      "metadata": {
        "id": "CJWaezTzzt2Y"
      },
      "source": [
        "##  Problem 7: Calculate average score"
      ],
      "id": "CJWaezTzzt2Y"
    },
    {
      "cell_type": "code",
      "execution_count": 28,
      "metadata": {
        "id": "CiDQwFFtzt2Y",
        "outputId": "ddbcdd5d-a45b-4882-aa0f-1bb96efc38cb",
        "colab": {
          "base_uri": "https://localhost:8080/"
        }
      },
      "outputs": [
        {
          "output_type": "stream",
          "name": "stdout",
          "text": [
            "dict_values([78, 85, 91, 74, 89, 66, 88])\n",
            "Average Score is :81.57\n"
          ]
        }
      ],
      "source": [
        "#get_all the scores\n",
        "scores = bot_scores.values()\n",
        "print(scores)\n",
        "\n",
        "#calculate the sum of scores\n",
        "total_score = sum(scores)\n",
        "\n",
        "#calculate the avarage score\n",
        "average_score = total_score / len(scores)\n",
        "print(f\"Average Score is :{average_score:.2f}\")"
      ],
      "id": "CiDQwFFtzt2Y"
    },
    {
      "cell_type": "markdown",
      "metadata": {
        "id": "ZKiENTBQzt2Y"
      },
      "source": [
        "## Problem 8: Decode the Secret Message and Identify No Balls\n",
        "You’ve received a secret message from an informant, which has some hidden information related to cricket. The informant tells you that every time the letter ‘i’ appears in the message, it corresponds to a no ball in the game.\n",
        "\n",
        "Your job is to:\n",
        "\n",
        "Find the position (index) of the first 'i' in the message. This will indicate the first no ball.\n",
        "\n",
        "Find the position (index) of the last 'i' in the message. This will indicate the last no ball.\n",
        "\n"
      ],
      "id": "ZKiENTBQzt2Y"
    },
    {
      "cell_type": "code",
      "execution_count": 8,
      "metadata": {
        "id": "jURpecF9zt2Y",
        "outputId": "a6f0dab9-b3be-4f6a-e544-255904f0601e",
        "colab": {
          "base_uri": "https://localhost:8080/"
        }
      },
      "outputs": [
        {
          "output_type": "stream",
          "name": "stdout",
          "text": [
            "4\n",
            "54\n"
          ]
        }
      ],
      "source": [
        "command_log = \"xBOTiZ virusinject Trojan99 xBOTcommand bot_iHack xBOTiZclear BOTcorex\"\n",
        "\n",
        "#find the first position of first 'i'\n",
        "first_i_position = command_log.find('i')\n",
        "print(first_i_position)\n",
        "\n",
        "#find the last position of last  'i'\n",
        "last_i_position = command_log.rfind('i')\n",
        "print(last_i_position)\n"
      ],
      "id": "jURpecF9zt2Y"
    },
    {
      "cell_type": "markdown",
      "metadata": {
        "id": "yc_ZK0xCzt2Y"
      },
      "source": [
        "##  Problem 9: Automate Batting Position Selection Based on Runs\n",
        "In a cricket match, the batting order is sometimes determined by the team's performance. Based on the current runs scored by the team, a decision is made about who will bat in the 4th position.\n",
        "\n",
        "Here are the rules for selection:\n",
        "\n",
        "If the team’s score is less than 50, then Smith will bat 4th.\n",
        "\n",
        "If the team’s score is between 51 and 100, then Sir Jadeja will bat 4th.\n",
        "\n",
        "If the team’s score is greater than 100, then Hardik will bat 4th.\n",
        "\n",
        "Your task is to:\n",
        "\n",
        "Input the team’s current score (in runs).\n",
        "\n",
        "Use conditional statements to decide who will bat 4th based on the score.\n",
        "\n",
        "Print the name of the player who should bat 4th."
      ],
      "id": "yc_ZK0xCzt2Y"
    },
    {
      "cell_type": "code",
      "execution_count": 12,
      "metadata": {
        "id": "R9UABo-4zt2Y",
        "outputId": "77502f86-0d4d-41e2-bf06-ffc4c40e1a54",
        "colab": {
          "base_uri": "https://localhost:8080/"
        }
      },
      "outputs": [
        {
          "output_type": "stream",
          "name": "stdout",
          "text": [
            "Enter the teams current score: 102\n",
            "Hardik will bat on 4th number\n"
          ]
        }
      ],
      "source": [
        "#enter the score\n",
        "team_score = int(input(\"Enter the teams current score: \"))\n",
        "\n",
        "#decide who bats on 4th number\n",
        "\n",
        "if team_score < 50:\n",
        "  print(\"Smith will bat on 4th number\")\n",
        "elif team_score >= 51 and team_score <= 100:\n",
        "    print(\"Sir Jadeja will bat on 4th number\")\n",
        "else:\n",
        "    print(\"Hardik will bat on 4th number\")"
      ],
      "id": "R9UABo-4zt2Y"
    }
  ],
  "metadata": {
    "kernelspec": {
      "display_name": "Python 3",
      "language": "python",
      "name": "python3"
    },
    "language_info": {
      "name": "python",
      "version": "3.10"
    },
    "colab": {
      "provenance": [],
      "include_colab_link": true
    }
  },
  "nbformat": 4,
  "nbformat_minor": 5
}