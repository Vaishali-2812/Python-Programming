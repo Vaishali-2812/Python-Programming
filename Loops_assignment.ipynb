{
  "cells": [
    {
      "cell_type": "markdown",
      "metadata": {
        "id": "view-in-github",
        "colab_type": "text"
      },
      "source": [
        "<a href=\"https://colab.research.google.com/github/Vaishali-2812/Python-Programming/blob/Python_Learning/Loops_assignment.ipynb\" target=\"_parent\"><img src=\"https://colab.research.google.com/assets/colab-badge.svg\" alt=\"Open In Colab\"/></a>"
      ]
    },
    {
      "cell_type": "markdown",
      "id": "9788cf2a",
      "metadata": {
        "id": "9788cf2a"
      },
      "source": [
        "# Python Assignment - Student Version"
      ]
    },
    {
      "cell_type": "markdown",
      "id": "8cdff004",
      "metadata": {
        "id": "8cdff004"
      },
      "source": [
        "### Question 1\n",
        "You have a list of product prices: [10, 15.5, 8.75, 22]. Print each product's price prefixed with 'Product Price: Rs ' using a for loop."
      ]
    },
    {
      "cell_type": "code",
      "execution_count": 1,
      "id": "0b30833f",
      "metadata": {
        "colab": {
          "base_uri": "https://localhost:8080/"
        },
        "id": "0b30833f",
        "outputId": "02e5bc63-011f-4ef0-8ea0-881506c3358d"
      },
      "outputs": [
        {
          "output_type": "stream",
          "name": "stdout",
          "text": [
            "Product Price :10\n",
            "Product Price :15.5\n",
            "Product Price :8.75\n",
            "Product Price :22\n"
          ]
        }
      ],
      "source": [
        "# Write your code here\n",
        "product_prices = [10,15.5,8.75,22]\n",
        "\n",
        "for price in product_prices:\n",
        "    print(f\"Product Price :{price}\")"
      ]
    },
    {
      "cell_type": "markdown",
      "id": "ed11827a",
      "metadata": {
        "id": "ed11827a"
      },
      "source": [
        "### Question 2\n",
        "Create a list of student names and print their names one by one using enumerate(), prefixed with their student number starting from 1."
      ]
    },
    {
      "cell_type": "code",
      "execution_count": 4,
      "id": "28fb0b69",
      "metadata": {
        "colab": {
          "base_uri": "https://localhost:8080/"
        },
        "id": "28fb0b69",
        "outputId": "5c34895d-c1f2-40d8-da8b-189bb945b4e1"
      },
      "outputs": [
        {
          "output_type": "stream",
          "name": "stdout",
          "text": [
            "Student 1 : Ram\n",
            "Student 2 : Shyam\n",
            "Student 3 : Hari\n",
            "Student 4 : Jay\n",
            "Student 5 : Mona\n"
          ]
        }
      ],
      "source": [
        "# Write your code here\n",
        "\n",
        "student_names = [\"Ram\",\"Shyam\",\"Hari\",\"Jay\",\"Mona\"]\n",
        "\n",
        "for index,name in enumerate(student_names, 1):\n",
        "    print(f\"Student {index} : {name}\")"
      ]
    },
    {
      "cell_type": "markdown",
      "id": "d42e97d1",
      "metadata": {
        "id": "d42e97d1"
      },
      "source": [
        "### Question 3\n",
        "Given a tuple of temperature readings for a week (30.5, 31, 29, 28, 32, 33, 30), print each reading with its day number."
      ]
    },
    {
      "cell_type": "code",
      "execution_count": 7,
      "id": "8624916f",
      "metadata": {
        "colab": {
          "base_uri": "https://localhost:8080/"
        },
        "id": "8624916f",
        "outputId": "964eab52-27bc-4a23-949d-1282544f23e6"
      },
      "outputs": [
        {
          "output_type": "stream",
          "name": "stdout",
          "text": [
            "Day 1 : 30.5C\n",
            "Day 2 : 31C\n",
            "Day 3 : 29C\n",
            "Day 4 : 28C\n",
            "Day 5 : 32C\n",
            "Day 6 : 33C\n",
            "Day 7 : 30C\n"
          ]
        }
      ],
      "source": [
        "# Write your code here\n",
        "\n",
        "temperatures = (30.5, 31, 29, 28, 32, 33, 30)\n",
        "\n",
        "for day,temp in enumerate(temperatures,1):\n",
        "  print(f\"Day {day} : {temp}C\")\n"
      ]
    },
    {
      "cell_type": "markdown",
      "id": "930c56ba",
      "metadata": {
        "id": "930c56ba"
      },
      "source": [
        "### Question 4\n",
        "You’re given a list of 5 cities and their matching boolean values for 'Is it raining?': [True, False, True, False, True]. Print a statement like: 'It is raining in City 1: True'."
      ]
    },
    {
      "cell_type": "code",
      "execution_count": 13,
      "id": "d28d7168",
      "metadata": {
        "colab": {
          "base_uri": "https://localhost:8080/"
        },
        "id": "d28d7168",
        "outputId": "59fd501c-5fa2-442a-e669-768c56563758"
      },
      "outputs": [
        {
          "output_type": "stream",
          "name": "stdout",
          "text": [
            "It is raining in Mumbai : True\n",
            "It is raining in Bangalore : False\n",
            "It is raining in Pune : True\n",
            "It is raining in Delhi : False\n",
            "It is raining in Chennai : True\n"
          ]
        }
      ],
      "source": [
        "# Write your code here\n",
        "cities = [\"Mumbai\",\"Bangalore\",\"Pune\",\"Delhi\",\"Chennai\"]\n",
        "is_raining = [True, False, True, False, True]\n",
        "\n",
        "for city,is_rain in zip(cities,is_raining):\n",
        "  print(f\"It is raining in {city} : {is_rain}\")\n"
      ]
    },
    {
      "cell_type": "markdown",
      "id": "3e73b248",
      "metadata": {
        "id": "3e73b248"
      },
      "source": [
        "### Question 5\n",
        "Take a dictionary of subjects and marks like {'Math': 80, 'Science': 75, 'History': 70}. Print: 'In Math, you scored 80' using a for loop."
      ]
    },
    {
      "cell_type": "code",
      "execution_count": 17,
      "id": "15aa6df0",
      "metadata": {
        "colab": {
          "base_uri": "https://localhost:8080/"
        },
        "id": "15aa6df0",
        "outputId": "f2456909-0efe-41eb-e264-5f64edbcfbe0"
      },
      "outputs": [
        {
          "output_type": "stream",
          "name": "stdout",
          "text": [
            "In Math, you scored 80 marks.\n",
            "In Science, you scored 75 marks.\n",
            "In History, you scored 70 marks.\n"
          ]
        }
      ],
      "source": [
        "# Write your code here\n",
        "subjects =  {'Math': 80, 'Science': 75, 'History': 70}\n",
        "\n",
        "for subject,marks in subjects.items():\n",
        "  print(f\"In {subject}, you scored {marks} marks.\")"
      ]
    },
    {
      "cell_type": "markdown",
      "id": "50e61ba5",
      "metadata": {
        "id": "50e61ba5"
      },
      "source": [
        "### Question 6\n",
        "You are given a list of daily steps walked for 7 days. Write a loop to calculate the total number of steps."
      ]
    },
    {
      "cell_type": "code",
      "execution_count": 20,
      "id": "c4209f6c",
      "metadata": {
        "colab": {
          "base_uri": "https://localhost:8080/"
        },
        "id": "c4209f6c",
        "outputId": "b1ae11ed-86bc-4c89-8912-b06784be502c"
      },
      "outputs": [
        {
          "output_type": "stream",
          "name": "stdout",
          "text": [
            "Total steps walked in a week : 9000\n",
            "Total steps walked in a week : 16500\n",
            "Total steps walked in a week : 26700\n",
            "Total steps walked in a week : 31700\n",
            "Total steps walked in a week : 38240\n",
            "Total steps walked in a week : 45290\n",
            "Total steps walked in a week : 48290\n"
          ]
        }
      ],
      "source": [
        "# Write your code here\n",
        "daily_steps = [9000,7500,10200,5000,6540,7050,3000]\n",
        "\n",
        "total_steps = 0\n",
        "\n",
        "for steps in daily_steps:\n",
        "  total_steps += steps\n",
        "\n",
        "  print(f\"Total steps walked in a week : {total_steps}\")\n",
        ""
      ]
    },
    {
      "cell_type": "code",
      "source": [
        "type(daily_steps)\n"
      ],
      "metadata": {
        "colab": {
          "base_uri": "https://localhost:8080/"
        },
        "id": "l_02FQR5_eTw",
        "outputId": "9f5108de-1a16-476b-d9f4-3040bf292310"
      },
      "id": "l_02FQR5_eTw",
      "execution_count": 21,
      "outputs": [
        {
          "output_type": "execute_result",
          "data": {
            "text/plain": [
              "list"
            ]
          },
          "metadata": {},
          "execution_count": 21
        }
      ]
    },
    {
      "cell_type": "markdown",
      "id": "1d7336a1",
      "metadata": {
        "id": "1d7336a1"
      },
      "source": [
        "### Question 7\n",
        "Create a list of food items. Print all the items that have more than 5 characters in their name."
      ]
    },
    {
      "cell_type": "code",
      "execution_count": 23,
      "id": "a9629d45",
      "metadata": {
        "colab": {
          "base_uri": "https://localhost:8080/"
        },
        "id": "a9629d45",
        "outputId": "5da5cf6e-2456-48cc-f5f1-1c612405b9f9"
      },
      "outputs": [
        {
          "output_type": "stream",
          "name": "stdout",
          "text": [
            "apple\n",
            "banana\n",
            "sandwich\n",
            "pizza\n",
            "burger\n",
            "chocolate\n"
          ]
        }
      ],
      "source": [
        "# Write your code here\n",
        "\n",
        "food_items = [\"apple\", \"banana\", \"sandwich\", \"pizza\", \"burger\", \"chocolate\"]\n",
        "\n",
        "for item in food_items:\n",
        "    if len(item) > 5:\n",
        "        print(item)"
      ]
    },
    {
      "cell_type": "markdown",
      "id": "d2ac95e0",
      "metadata": {
        "id": "d2ac95e0"
      },
      "source": [
        "### Question 8\n",
        "Given a dictionary of names and birth years, calculate the age assuming the current year is 2025. Print names of people who are older than 18."
      ]
    },
    {
      "cell_type": "code",
      "execution_count": 24,
      "id": "e35d9bb4",
      "metadata": {
        "colab": {
          "base_uri": "https://localhost:8080/"
        },
        "id": "e35d9bb4",
        "outputId": "17122e96-2d8e-44dd-e69e-99882ae43f40"
      },
      "outputs": [
        {
          "output_type": "stream",
          "name": "stdout",
          "text": [
            "Alice is older than 18\n",
            "Bob is older than 18\n",
            "David is older than 18\n"
          ]
        }
      ],
      "source": [
        "# Write your code here\n",
        "\n",
        "birth_years = {\n",
        "    \"Alice\": 2000,\n",
        "    \"Bob\": 1995,\n",
        "    \"Charlie\": 2010,\n",
        "    \"David\": 1988,\n",
        "    \"Eve\": 2007\n",
        "}\n",
        "\n",
        "current_year = 2025\n",
        "\n",
        "for name, birth_year in birth_years.items():\n",
        "    age = current_year - birth_year\n",
        "    if age > 18:\n",
        "        print(f\"{name} is older than 18\")"
      ]
    },
    {
      "cell_type": "markdown",
      "id": "056e3a59",
      "metadata": {
        "id": "056e3a59"
      },
      "source": [
        "### Question 9\n",
        "Create a tuple of customer feedback scores (1-5). Count how many 5-star ratings are there using a for loop."
      ]
    },
    {
      "cell_type": "code",
      "execution_count": 25,
      "id": "38e9c3c3",
      "metadata": {
        "colab": {
          "base_uri": "https://localhost:8080/"
        },
        "id": "38e9c3c3",
        "outputId": "31145f63-a43d-48cc-d7ed-02c13ecebcda"
      },
      "outputs": [
        {
          "output_type": "stream",
          "name": "stdout",
          "text": [
            "Number of 5-star ratings: 5\n"
          ]
        }
      ],
      "source": [
        "# Write your code here\n",
        "\n",
        "feedback_scores = (4, 5, 3, 5, 5, 2, 1, 5, 4, 5)  # Example feedback scores\n",
        "\n",
        "five_star_count = 0  # Initialize the count of 5-star ratings to 0\n",
        "\n",
        "for score in feedback_scores:\n",
        "    if score == 5:\n",
        "        five_star_count += 1  # Increment the count if the score is 5\n",
        "\n",
        "print(f\"Number of 5-star ratings: {five_star_count}\")\n"
      ]
    },
    {
      "cell_type": "markdown",
      "id": "e39b1e43",
      "metadata": {
        "id": "e39b1e43"
      },
      "source": [
        "### Question 10\n",
        "You’re building a list of available stock items. If a product has 0 quantity, skip it. Use a for loop to print only available products."
      ]
    },
    {
      "cell_type": "code",
      "execution_count": 26,
      "id": "cfb7693e",
      "metadata": {
        "colab": {
          "base_uri": "https://localhost:8080/"
        },
        "id": "cfb7693e",
        "outputId": "f77a91bc-2edb-42dd-d5cf-7ffb3f4a6f47"
      },
      "outputs": [
        {
          "output_type": "stream",
          "name": "stdout",
          "text": [
            "Available stock items:\n",
            "- apple: 10\n",
            "- banana: 5\n",
            "- grape: 20\n"
          ]
        }
      ],
      "source": [
        "# Write your code here\n",
        "\n",
        "stock_items = {\n",
        "    \"apple\": 10,\n",
        "    \"banana\": 5,\n",
        "    \"orange\": 0,\n",
        "    \"grape\": 20,\n",
        "    \"kiwi\": 0\n",
        "}  #  stock data\n",
        "\n",
        "print(\"Available stock items:\")\n",
        "\n",
        "for item, quantity in stock_items.items():\n",
        "    if quantity > 0:  # Check if quantity is greater than 0\n",
        "        print(f\"- {item}: {quantity}\")"
      ]
    },
    {
      "cell_type": "markdown",
      "id": "ee3026db",
      "metadata": {
        "id": "ee3026db"
      },
      "source": [
        "### Question 11\n",
        "Using enumerate(), print a leaderboard: ['Alice', 'Bob', 'Charlie'] with rank numbers."
      ]
    },
    {
      "cell_type": "code",
      "execution_count": 30,
      "id": "68110067",
      "metadata": {
        "colab": {
          "base_uri": "https://localhost:8080/"
        },
        "id": "68110067",
        "outputId": "c29f5f1a-0d69-4979-c019-dc576037bbb6"
      },
      "outputs": [
        {
          "output_type": "stream",
          "name": "stdout",
          "text": [
            "1. Alice\n",
            "2. Bob\n",
            "3. Charlie\n"
          ]
        }
      ],
      "source": [
        "# Write your code here\n",
        "\n",
        "leaderboard = ['Alice', 'Bob', 'Charlie']\n",
        "\n",
        "for rank,name in enumerate(leaderboard,1):\n",
        "  print(f\"{rank}. {name}\")\n",
        "\n"
      ]
    },
    {
      "cell_type": "markdown",
      "id": "811bcbdb",
      "metadata": {
        "id": "811bcbdb"
      },
      "source": [
        "### Question 12\n",
        "You have a list of strings: ['pen', 'pencil', 'eraser']. Ask the user to input an item name, and use a loop to check if it's available or not. Print appropriate message."
      ]
    },
    {
      "cell_type": "code",
      "execution_count": 4,
      "id": "4b6d3ae5",
      "metadata": {
        "id": "4b6d3ae5"
      },
      "outputs": [],
      "source": [
        "# Write your code here\n"
      ]
    },
    {
      "cell_type": "code",
      "source": [
        "items = ['pen', 'pencil', 'eraser']\n",
        "\n",
        "item_name = input(\"Enter the item name: \")\n",
        "\n",
        "found = False  # Initialize a flag to track if the item is found\n",
        "\n",
        "for item in items:\n",
        "    if item == item_name:\n",
        "        found = True\n",
        "        break  # Exit the loop if the item is found\n",
        "\n",
        "if found:\n",
        "    print(f\"{item_name} is available.\")\n",
        "else:\n",
        "    print(f\"{item_name} is not available\")"
      ],
      "metadata": {
        "colab": {
          "base_uri": "https://localhost:8080/"
        },
        "id": "3pd5kjW5DmMG",
        "outputId": "e31da98f-8f8b-4dcf-c6fa-3216635e8aff"
      },
      "id": "3pd5kjW5DmMG",
      "execution_count": 2,
      "outputs": [
        {
          "output_type": "stream",
          "name": "stdout",
          "text": [
            "Enter the item name: book\n",
            "book is not available\n"
          ]
        }
      ]
    },
    {
      "cell_type": "markdown",
      "id": "c88a5e1b",
      "metadata": {
        "id": "c88a5e1b"
      },
      "source": [
        "### Question 13\n",
        "Given a dictionary of employees and their departments, reverse the dictionary so departments are keys and employee names are values in a list."
      ]
    },
    {
      "cell_type": "code",
      "execution_count": 5,
      "id": "2b2182d3",
      "metadata": {
        "colab": {
          "base_uri": "https://localhost:8080/"
        },
        "id": "2b2182d3",
        "outputId": "22d9d273-bc2d-4e95-f11f-6daf70ef34d4"
      },
      "outputs": [
        {
          "output_type": "stream",
          "name": "stdout",
          "text": [
            "{'Sales': ['Alice', 'Charlie'], 'Marketing': ['Bob', 'Eve'], 'IT': ['David']}\n"
          ]
        }
      ],
      "source": [
        "# Write your code here\n",
        "\n",
        "employee_dept = {\n",
        "    \"Alice\": \"Sales\",\n",
        "    \"Bob\": \"Marketing\",\n",
        "    \"Charlie\": \"Sales\",\n",
        "    \"David\": \"IT\",\n",
        "    \"Eve\": \"Marketing\"\n",
        "}\n",
        "\n",
        "dept_employee = {}  # Create an empty dictionary to store the reversed data\n",
        "\n",
        "for employee, dept in employee_dept.items():\n",
        "    if dept in dept_employee:\n",
        "        dept_employee[dept].append(employee)  # Add employee to existing list\n",
        "    else:\n",
        "        dept_employee[dept] = [employee]  # Create new list for the department\n",
        "\n",
        "print(dept_employee)"
      ]
    },
    {
      "cell_type": "markdown",
      "id": "e7086cf7",
      "metadata": {
        "id": "e7086cf7"
      },
      "source": [
        "### Question 14\n",
        "You have two lists: names and scores. Combine them into a dictionary using a loop and print: 'Name: X, Score: Y'"
      ]
    },
    {
      "cell_type": "code",
      "execution_count": 12,
      "id": "4dc03fa4",
      "metadata": {
        "colab": {
          "base_uri": "https://localhost:8080/"
        },
        "id": "4dc03fa4",
        "outputId": "fe440af8-1a21-49e5-b0e4-b0cf0f57908e"
      },
      "outputs": [
        {
          "output_type": "stream",
          "name": "stdout",
          "text": [
            "Name : Raj , Score : 85\n",
            "Name : Dev , Score : 87\n",
            "Name : Sam , Score : 65\n",
            "Name : John , Score : 91\n"
          ]
        }
      ],
      "source": [
        "# Write your code here\n",
        "\n",
        "names = [\"Raj\",\"Dev\",\"Sam\",\"John\"]\n",
        "scores = [85,87,65,91]\n",
        "\n",
        "name_scores_dect = {}\n",
        "\n",
        "for i in range(len(names)):\n",
        "  name_scores_dect[names[i]] = scores[i]\n",
        "\n",
        "  print(f\"Name : {names[i]} , Score : {scores[i]}\")\n"
      ]
    },
    {
      "cell_type": "code",
      "source": [
        "type(name_scores_dect)"
      ],
      "metadata": {
        "colab": {
          "base_uri": "https://localhost:8080/"
        },
        "id": "9CWE8s7LIq4z",
        "outputId": "17bf834d-b005-4fe8-bd8d-05035ac9a528"
      },
      "id": "9CWE8s7LIq4z",
      "execution_count": 9,
      "outputs": [
        {
          "output_type": "execute_result",
          "data": {
            "text/plain": [
              "dict"
            ]
          },
          "metadata": {},
          "execution_count": 9
        }
      ]
    },
    {
      "cell_type": "markdown",
      "id": "91980f4b",
      "metadata": {
        "id": "91980f4b"
      },
      "source": [
        "### Question 15\n",
        "You are given a list of shopping cart items with prices. Apply a 10% discount using a loop and print the updated prices. Show both old and new prices like: 'Old: Rs 100, New: Rs 90.0'"
      ]
    },
    {
      "cell_type": "code",
      "execution_count": 14,
      "id": "d776ab60",
      "metadata": {
        "colab": {
          "base_uri": "https://localhost:8080/"
        },
        "id": "d776ab60",
        "outputId": "18d381b1-c9a1-4e3c-b675-522d53abef5b"
      },
      "outputs": [
        {
          "output_type": "stream",
          "name": "stdout",
          "text": [
            "Old: Rs 100, New: Rs 90.00\n",
            "Old: Rs 150, New: Rs 135.00\n",
            "Old: Rs 200, New: Rs 180.00\n"
          ]
        }
      ],
      "source": [
        "# Write your code here\n",
        "\n",
        "cart_items = [\n",
        "    {\"name\": \"Shirt\", \"price\": 100},\n",
        "    {\"name\": \"Pants\", \"price\": 150},\n",
        "    {\"name\": \"Shoes\", \"price\": 200}\n",
        "]\n",
        "\n",
        "discount_rate = 0.10  # 10% discount\n",
        "\n",
        "for item in cart_items:\n",
        "    old_price = item[\"price\"]\n",
        "    discount = old_price * discount_rate\n",
        "    new_price = old_price - discount\n",
        "    print(f\"Old: Rs {old_price}, New: Rs {new_price:.2f}\")"
      ]
    },
    {
      "cell_type": "code",
      "source": [
        "type(cart_items)"
      ],
      "metadata": {
        "colab": {
          "base_uri": "https://localhost:8080/"
        },
        "id": "nP-sCgGmKE5U",
        "outputId": "3c33d5e6-c48a-4305-d2dc-43be669f1997"
      },
      "id": "nP-sCgGmKE5U",
      "execution_count": 15,
      "outputs": [
        {
          "output_type": "execute_result",
          "data": {
            "text/plain": [
              "list"
            ]
          },
          "metadata": {},
          "execution_count": 15
        }
      ]
    }
  ],
  "metadata": {
    "colab": {
      "provenance": [],
      "include_colab_link": true
    },
    "language_info": {
      "name": "python"
    },
    "kernelspec": {
      "name": "python3",
      "display_name": "Python 3"
    }
  },
  "nbformat": 4,
  "nbformat_minor": 5
}