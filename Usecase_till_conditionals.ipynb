{
  "cells": [
    {
      "cell_type": "markdown",
      "metadata": {
        "id": "view-in-github",
        "colab_type": "text"
      },
      "source": [
        "<a href=\"https://colab.research.google.com/github/Vaishali-2812/Python-Programming/blob/Python_Learning/Usecase_till_conditionals.ipynb\" target=\"_parent\"><img src=\"https://colab.research.google.com/assets/colab-badge.svg\" alt=\"Open In Colab\"/></a>"
      ]
    },
    {
      "cell_type": "markdown",
      "id": "9be76391",
      "metadata": {
        "id": "9be76391"
      },
      "source": [
        "# Python Foundations: Real-World Use Cases and Exercises"
      ]
    },
    {
      "cell_type": "markdown",
      "id": "018da585",
      "metadata": {
        "id": "018da585"
      },
      "source": [
        "## Use Case 1: E-commerce Order Summary\n",
        "\n",
        "\n",
        "A user is placing an order on an e-commerce website. You’re given:\n",
        "```python\n",
        "item_name = \"T-shirt\"\n",
        "price = 599.99\n",
        "quantity = 2\n",
        "```\n",
        "Print the final amount. If the total is more than ₹1000, print “You get Free Delivery!” else “Delivery charge: ₹50”.\n"
      ]
    },
    {
      "cell_type": "code",
      "source": [
        "item_name = input(\"enter the name item name:\")\n",
        "price = int(input(\"enter the price:\"))\n",
        "quantity = int(input(\"enter the quantity:\"))\n",
        "\n",
        "\n",
        "total = price * quantity\n",
        "if total > 1000:\n",
        "  print(\"You get Free Delivery!\")\n",
        "elif total <= 800:\n",
        "  print(\"Delivery Charge: 40\")\n",
        "elif total <= 500:\n",
        "  print(\"Delivery Charge: 20\")\n",
        "else :\n",
        "\n",
        "  print (\"Delivery Chagre:50\")"
      ],
      "metadata": {
        "colab": {
          "base_uri": "https://localhost:8080/"
        },
        "id": "n0_fkpnbw9bc",
        "outputId": "ae30709d-0fc1-4ff7-cccb-85d97c4a69d9"
      },
      "id": "n0_fkpnbw9bc",
      "execution_count": 9,
      "outputs": [
        {
          "output_type": "stream",
          "name": "stdout",
          "text": [
            "enter the name item name:fdfdfd\n",
            "enter the price:500\n",
            "enter the quantity:3\n",
            "You get Free Delivery!\n"
          ]
        }
      ]
    },
    {
      "cell_type": "code",
      "execution_count": null,
      "id": "3e95622d",
      "metadata": {
        "id": "3e95622d"
      },
      "outputs": [],
      "source": [
        "#your solution take multiple user inputs if rewquired and try to make it as a nested conditionals !"
      ]
    },
    {
      "cell_type": "markdown",
      "id": "cb1eb0ea",
      "metadata": {
        "id": "cb1eb0ea"
      },
      "source": [
        "## Use Case 2: Online Course Registration Check\n",
        "\n",
        "\n",
        "A student can register for a course only if:\n",
        "- They are above 18 years of age\n",
        "- They have agreed to terms (boolean)\n",
        "```python\n",
        "age = 19\n",
        "agreed = True\n",
        "```\n"
      ]
    },
    {
      "cell_type": "code",
      "execution_count": 11,
      "id": "6b35c1d2",
      "metadata": {
        "id": "6b35c1d2",
        "colab": {
          "base_uri": "https://localhost:8080/"
        },
        "outputId": "31ba7923-4fcf-460d-ef39-c3f3a1a95ec3"
      },
      "outputs": [
        {
          "output_type": "stream",
          "name": "stdout",
          "text": [
            "Enter your age17\n",
            "Enter you are agreed or NoTrue\n",
            "You are not eblibible for the course registration\n"
          ]
        }
      ],
      "source": [
        "age = int(input(\"Enter your age\"))\n",
        "agreed = bool(input(\"Enter you are agreed or No\"))\n",
        "\n",
        "if age > 18 and agreed == True:\n",
        "  print(\"You are eligible for course registration\")\n",
        "else:\n",
        "    print(\"You are not eblibible for the course registration\")\n"
      ]
    },
    {
      "cell_type": "markdown",
      "id": "bc17ef59",
      "metadata": {
        "id": "bc17ef59"
      },
      "source": [
        "## Use Case 3: Gym Membership Summary\n",
        "\n",
        "\n",
        "A gym offers 3 types of memberships with different monthly rates. Calculate total price and give a discount for subscriptions longer than 6 months.\n"
      ]
    },
    {
      "cell_type": "code",
      "execution_count": null,
      "id": "bcba9eef",
      "metadata": {
        "id": "bcba9eef"
      },
      "outputs": [],
      "source": []
    },
    {
      "cell_type": "markdown",
      "id": "670b742b",
      "metadata": {
        "id": "670b742b"
      },
      "source": [
        "## Use Case 4: Movie Night Planner\n",
        "\n",
        "Check which of the user’s favorite movies are available."
      ]
    },
    {
      "cell_type": "code",
      "execution_count": null,
      "id": "a0094d38",
      "metadata": {
        "id": "a0094d38"
      },
      "outputs": [],
      "source": []
    },
    {
      "cell_type": "markdown",
      "id": "5bf60e7c",
      "metadata": {
        "id": "5bf60e7c"
      },
      "source": [
        "## Use Case 5: Student Certificate Generator\n",
        "\n",
        "Give a certificate if score > 70 and assignment is submitted."
      ]
    },
    {
      "cell_type": "code",
      "execution_count": null,
      "id": "80942dfa",
      "metadata": {
        "id": "80942dfa"
      },
      "outputs": [],
      "source": []
    },
    {
      "cell_type": "markdown",
      "id": "b69b4d72",
      "metadata": {
        "id": "b69b4d72"
      },
      "source": [
        "## Use Case 6: Food Order Summary Using Dictionary\n",
        "\n",
        "Check menu item and display price, or show not available message."
      ]
    },
    {
      "cell_type": "code",
      "execution_count": null,
      "id": "e0fc0941",
      "metadata": {
        "id": "e0fc0941"
      },
      "outputs": [],
      "source": []
    },
    {
      "cell_type": "markdown",
      "id": "2f9976a7",
      "metadata": {
        "id": "2f9976a7"
      },
      "source": [
        "## Use Case 7: Festival Wish Using Sets\n",
        "\n",
        "Wish if festival exists in the set."
      ]
    },
    {
      "cell_type": "code",
      "execution_count": null,
      "id": "6b2979d3",
      "metadata": {
        "id": "6b2979d3"
      },
      "outputs": [],
      "source": []
    }
  ],
  "metadata": {
    "colab": {
      "provenance": [],
      "include_colab_link": true
    },
    "language_info": {
      "name": "python"
    },
    "kernelspec": {
      "name": "python3",
      "display_name": "Python 3"
    }
  },
  "nbformat": 4,
  "nbformat_minor": 5
}