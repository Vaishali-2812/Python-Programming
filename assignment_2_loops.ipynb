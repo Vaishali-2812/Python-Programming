{
  "cells": [
    {
      "cell_type": "markdown",
      "metadata": {
        "id": "view-in-github",
        "colab_type": "text"
      },
      "source": [
        "<a href=\"https://colab.research.google.com/github/Vaishali-2812/Python-Programming/blob/Python_Learning/assignment_2_loops.ipynb\" target=\"_parent\"><img src=\"https://colab.research.google.com/assets/colab-badge.svg\" alt=\"Open In Colab\"/></a>"
      ]
    },
    {
      "cell_type": "code",
      "execution_count": null,
      "id": "7a5ce2e6",
      "metadata": {
        "id": "7a5ce2e6"
      },
      "outputs": [],
      "source": [
        "# Assignment 2: Loops and Control Statements\n",
        "# Topic: while loops, break/continue/pass, nested loops, and patterns\n",
        "# Format: Google Colab Notebook\n",
        "# Instructions: Solve each problem with clear code and comments. Add explanations where needed\n"
      ]
    },
    {
      "cell_type": "markdown",
      "source": [
        "# Problem 1: Counting with a while loop\n",
        "# Scenario: You are a cashier counting the number of customers entering a store until closing time.\n",
        "# Task: Print numbers from 1 to 10 using a while loop.\n"
      ],
      "metadata": {
        "id": "S6uciWymLBmQ"
      },
      "id": "S6uciWymLBmQ"
    },
    {
      "cell_type": "code",
      "source": [
        "#represent the first customer\n",
        "customer_count = 1\n",
        "\n",
        "while customer_count <= 10:\n",
        "\n",
        "#print the current customer\n",
        "  print(customer_count)\n",
        "\n",
        "#Increment for next customer\n",
        "  customer_count += 1"
      ],
      "metadata": {
        "colab": {
          "base_uri": "https://localhost:8080/"
        },
        "id": "S8VlH9lcLGnC",
        "outputId": "c4adfad8-32ae-41e9-a2e4-4af3a00071e6"
      },
      "id": "S8VlH9lcLGnC",
      "execution_count": 2,
      "outputs": [
        {
          "output_type": "stream",
          "name": "stdout",
          "text": [
            "0\n",
            "1\n",
            "2\n",
            "3\n",
            "4\n",
            "5\n",
            "6\n",
            "7\n",
            "8\n",
            "9\n",
            "10\n"
          ]
        }
      ]
    },
    {
      "cell_type": "markdown",
      "source": [
        "Problem 2: Using break\n",
        "# Scenario: Emergency stop in an elevator system.\n",
        "# Task: Use a loop to simulate elevator floors 1 to 20. Break the loop if floor 13 is reached.\n"
      ],
      "metadata": {
        "id": "ckB7M3CoMHzO"
      },
      "id": "ckB7M3CoMHzO"
    },
    {
      "cell_type": "code",
      "source": [
        "#loop through floors from 1, 20\n",
        "for floor in range(1,21):\n",
        "  print(\"Elevator on floor :\", floor)\n",
        "\n",
        "# Check if the current floor is 13\n",
        "  if floor == 13:\n",
        "    print(\"Emergency stop at floor 13!\")\n",
        "\n",
        "#Exit the loop if floor is 13\n",
        "  break"
      ],
      "metadata": {
        "colab": {
          "base_uri": "https://localhost:8080/"
        },
        "id": "YOhAUQMPMK1V",
        "outputId": "582d9f57-a2c5-4e95-f701-73098e7d5f3d"
      },
      "id": "YOhAUQMPMK1V",
      "execution_count": 4,
      "outputs": [
        {
          "output_type": "stream",
          "name": "stdout",
          "text": [
            "Elevator on floor : 1\n"
          ]
        }
      ]
    },
    {
      "cell_type": "markdown",
      "source": [
        "Problem 3: Using continue\n",
        "# Scenario: Skipping defective items in a quality check.\n",
        "# Task: Print numbers from 1 to 10, skip number 5 using continue."
      ],
      "metadata": {
        "id": "0Wr38pcHNXRT"
      },
      "id": "0Wr38pcHNXRT"
    },
    {
      "cell_type": "code",
      "source": [
        "# Loop through numbers 1 to 10\n",
        "for number in range(1,11):\n",
        "\n",
        "# Check if the current number is 5\n",
        "  if number == 5:\n",
        "\n",
        "# Skip to the next iteration if number is 5\n",
        "    continue\n",
        "\n",
        "# Print the current number if it's not 5\n",
        "    print(number)\n",
        "  else:\n",
        "      print(number)"
      ],
      "metadata": {
        "colab": {
          "base_uri": "https://localhost:8080/"
        },
        "id": "2fjR79J-NfBW",
        "outputId": "8ebf2b73-5fcd-4b9e-8e8f-49dabf9177a7"
      },
      "id": "2fjR79J-NfBW",
      "execution_count": 5,
      "outputs": [
        {
          "output_type": "stream",
          "name": "stdout",
          "text": [
            "1\n",
            "2\n",
            "3\n",
            "4\n",
            "6\n",
            "7\n",
            "8\n",
            "9\n",
            "10\n"
          ]
        }
      ]
    },
    {
      "cell_type": "markdown",
      "source": [
        "Problem 4: Using pass\n",
        "# Scenario: Placeholder for a to-do task in a maintenance routine.\n",
        "# Task: Loop through days of the week and use pass for Sunday.\n"
      ],
      "metadata": {
        "id": "ppI-RZcBOcMf"
      },
      "id": "ppI-RZcBOcMf"
    },
    {
      "cell_type": "code",
      "source": [
        "#list of days of the week\n",
        "days_of_week = [\"Monday\",\"Tuesday\",\"wednesday\",\"Thursday\",\"Friday\",\"saturday\",\"Sunday\"]\n",
        "\n",
        "# Loop through each day of the week\n",
        "for day in days_of_week:\n",
        "  if day == \"Sunday\":\n",
        "\n",
        "# Placeholder for Sunday tasks - no maintenance on Sunday\n",
        "    pass\n",
        "  else:\n",
        "    print(\"Performing maintenance for :\",day)\n"
      ],
      "metadata": {
        "colab": {
          "base_uri": "https://localhost:8080/"
        },
        "id": "SsHXlTfMOzE2",
        "outputId": "c4903b01-3adf-45c1-e0d1-39bfe94afdea"
      },
      "id": "SsHXlTfMOzE2",
      "execution_count": 14,
      "outputs": [
        {
          "output_type": "stream",
          "name": "stdout",
          "text": [
            "Performing maintenance for : Monday\n",
            "Performing maintenance for : Tuesday\n",
            "Performing maintenance for : wednesday\n",
            "Performing maintenance for : Thursday\n",
            "Performing maintenance for : Friday\n",
            "Performing maintenance for : saturday\n"
          ]
        }
      ]
    },
    {
      "cell_type": "markdown",
      "source": [
        "Problem 5: Nested loops for pattern\n",
        "# Task: Print the following pattern using nested loops:\n",
        "# *\n",
        "# **\n",
        "# ***\n",
        "# ****\n",
        "# *****\n"
      ],
      "metadata": {
        "id": "sQPMUkkaQQIs"
      },
      "id": "sQPMUkkaQQIs"
    },
    {
      "cell_type": "code",
      "source": [
        "# Define the number of rows for the pattern\n",
        "rows = 5\n",
        "\n",
        "# Outer loop for rows\n",
        "for i in range(1,6):\n",
        "\n",
        "# Iterate 'i' times (number of stars in the row)\n",
        "  for j in range(i):\n",
        "\n",
        " # Print a star without a newline\n",
        "   print(\"*\" , end=\"\")\n",
        "\n",
        "# Move to the next line after each row\n",
        "  print()\n"
      ],
      "metadata": {
        "colab": {
          "base_uri": "https://localhost:8080/"
        },
        "id": "zEeSgfI5RIqM",
        "outputId": "7ecf55fb-7d2a-4bf7-ba04-4fd94f927a78"
      },
      "id": "zEeSgfI5RIqM",
      "execution_count": 6,
      "outputs": [
        {
          "output_type": "stream",
          "name": "stdout",
          "text": [
            "*\n",
            "**\n",
            "***\n",
            "****\n",
            "*****\n"
          ]
        }
      ]
    },
    {
      "cell_type": "code",
      "source": [],
      "metadata": {
        "id": "lFKIOPRARIMQ"
      },
      "id": "lFKIOPRARIMQ",
      "execution_count": null,
      "outputs": []
    },
    {
      "cell_type": "markdown",
      "source": [
        " Problem 6: Real-life nested loop - Scheduling\n",
        "# Scenario: Printing weekly timetable slots.\n",
        "# Task: Use nested loops to print days of the week and 3 time slots for each."
      ],
      "metadata": {
        "id": "3Od_bYCnSUHU"
      },
      "id": "3Od_bYCnSUHU"
    },
    {
      "cell_type": "code",
      "source": [
        "# Define days of the week\n",
        "days = [\"Monday\",\"Tuesday\",\"wednesday\",\"Thursday\",\"Friday\",\"saturday\",\"Sunday\"]\n",
        "\n",
        "# Define time slots\n",
        "time_slots = [\"Morning\",\"Afternoon\",\"Evening\"]\n",
        "\n",
        "# Outer loop for days of the week\n",
        "for day in days:\n",
        "\n",
        "# Print the day\n",
        "  print(day +\":\")\n",
        "\n",
        " # Inner loop for time slots\n",
        "  for time in time_slots:\n",
        "\n",
        "# Print the time slot with indentation\n",
        "    print(\"\\t\"+ time)\n",
        "\n",
        "# Add a blank line between days\n",
        "    print()\n"
      ],
      "metadata": {
        "colab": {
          "base_uri": "https://localhost:8080/"
        },
        "id": "Jftgb0PAS3Tg",
        "outputId": "f7875e90-1595-410e-b248-eee7d4f8031f"
      },
      "id": "Jftgb0PAS3Tg",
      "execution_count": 7,
      "outputs": [
        {
          "output_type": "stream",
          "name": "stdout",
          "text": [
            "Monday:\n",
            "\tMorning\n",
            "\n",
            "\tAfternoon\n",
            "\n",
            "\tEvening\n",
            "\n",
            "Tuesday:\n",
            "\tMorning\n",
            "\n",
            "\tAfternoon\n",
            "\n",
            "\tEvening\n",
            "\n",
            "wednesday:\n",
            "\tMorning\n",
            "\n",
            "\tAfternoon\n",
            "\n",
            "\tEvening\n",
            "\n",
            "Thursday:\n",
            "\tMorning\n",
            "\n",
            "\tAfternoon\n",
            "\n",
            "\tEvening\n",
            "\n",
            "Friday:\n",
            "\tMorning\n",
            "\n",
            "\tAfternoon\n",
            "\n",
            "\tEvening\n",
            "\n",
            "saturday:\n",
            "\tMorning\n",
            "\n",
            "\tAfternoon\n",
            "\n",
            "\tEvening\n",
            "\n",
            "Sunday:\n",
            "\tMorning\n",
            "\n",
            "\tAfternoon\n",
            "\n",
            "\tEvening\n",
            "\n"
          ]
        }
      ]
    },
    {
      "cell_type": "markdown",
      "source": [
        "Problem 7: While loop with break (medium)\n",
        "# Scenario: ATM password check\n",
        "# Task: Give the user 3 chances to enter the correct password using while loop and break if correct.\n"
      ],
      "metadata": {
        "id": "dVITVK0PUuFM"
      },
      "id": "dVITVK0PUuFM"
    },
    {
      "cell_type": "code",
      "source": [
        "# Set the correct password\n",
        "correct_password = \"9898\"\n",
        "\n",
        "# Initialize the number of attempts\n",
        "attempts = 0\n",
        "\n",
        "# Start the while loop for password attempts\n",
        "while attempts < 3:\n",
        "\n",
        "  # Get password input from the user\n",
        "  password = input(\"Enter your password : \")\n",
        "\n",
        "  # Check if the password is correct\n",
        "  if password == correct_password:\n",
        "    print(\"Access granted \")\n",
        "    # Exit the loop if password is correct\n",
        "    break\n",
        "\n",
        "  else:\n",
        "\n",
        "    # Increment attempts if password is incorrect\n",
        "    attempts += 1\n",
        "    print(\"Incorrect password. Attempts remaining :\",3 - attempts)\n",
        "\n",
        "# If the loop completes without a correct password\n",
        "if attempts == 3:\n",
        "  print(\"Access denied. Too many incorrct attempts.\")"
      ],
      "metadata": {
        "colab": {
          "base_uri": "https://localhost:8080/"
        },
        "id": "lz15qmEsUws0",
        "outputId": "2c1a4c90-52b9-49a0-e36d-b03ed54a4dd1"
      },
      "id": "lz15qmEsUws0",
      "execution_count": 8,
      "outputs": [
        {
          "output_type": "stream",
          "name": "stdout",
          "text": [
            "Enter your password : 5545\n",
            "Incorrect password. Attempts remaining : 2\n",
            "Enter your password : 6554\n",
            "Incorrect password. Attempts remaining : 1\n",
            "Enter your password : 5455\n",
            "Incorrect password. Attempts remaining : 0\n",
            "Access denied. Too many incorrct attempts.\n"
          ]
        }
      ]
    },
    {
      "cell_type": "markdown",
      "source": [
        "Problem 8: Continue with condition (medium)\n",
        "# Scenario: Filtering out expired items from stock list.\n",
        "# Task: Loop through list of item expiry days and skip expired ones (negative values)."
      ],
      "metadata": {
        "id": "_r1a_oclXMgB"
      },
      "id": "_r1a_oclXMgB"
    },
    {
      "cell_type": "code",
      "source": [
        "#list of item expiry days\n",
        "expiry_days = [3, -2, 5, -6, 8, -4, 0, 1]\n",
        "\n",
        "# Loop through the expiry days\n",
        "for days in expiry_days:\n",
        "\n",
        " # Check if the item is expired\n",
        "  if days <= 0:\n",
        "\n",
        "    # Skip expired items\n",
        "    continue\n",
        "\n",
        "    # Process the non-expired items\n",
        "    print(\"Item will expire in :\",days,\"days.\")\n",
        "  else:\n",
        "    print(\"Item will expire in :\",days,\"days.\")"
      ],
      "metadata": {
        "colab": {
          "base_uri": "https://localhost:8080/"
        },
        "id": "yD0Bb4vtXdVf",
        "outputId": "fea7ab4a-5387-4bb0-828c-0d08a8060bab"
      },
      "id": "yD0Bb4vtXdVf",
      "execution_count": 26,
      "outputs": [
        {
          "output_type": "stream",
          "name": "stdout",
          "text": [
            "Item will expire in : 3 days.\n",
            "Item will expire in : 5 days.\n",
            "Item will expire in : 8 days.\n",
            "Item will expire in : 1 days.\n"
          ]
        }
      ]
    },
    {
      "cell_type": "markdown",
      "source": [
        "Problem 9: Drawing a diamond pattern (medium)\n",
        "# Task: Use nested loops to draw:\n",
        "#   *\n",
        "#  ***\n",
        "# *****\n",
        "#  ***\n",
        "#   *\n"
      ],
      "metadata": {
        "id": "-mifutl_YuEs"
      },
      "id": "-mifutl_YuEs"
    },
    {
      "cell_type": "code",
      "source": [
        "rows = 5  # You can change this to any odd number\n",
        "\n",
        "# Upper half of the diamond\n",
        "for i in range(rows // 2 + 1):  # Iterate for the upper half rows\n",
        "    # Print spaces for alignment\n",
        "    for j in range(rows // 2 - i):\n",
        "        print(\" \", end=\"\")\n",
        "\n",
        "    # Print stars for the pattern\n",
        "    for j in range(2 * i + 1):\n",
        "        print(\"*\", end=\"\")\n",
        "\n",
        "    print()  # Move to the next line\n",
        "\n",
        "# Lower half of the diamond\n",
        "for i in range(rows // 2):  # Iterate for the lower half rows\n",
        "    # Print spaces for alignment\n",
        "    for j in range(i + 1):\n",
        "        print(\" \", end=\"\")\n",
        "\n",
        "    # Print stars for the pattern\n",
        "    for j in range(rows - 2 * (i + 1)):\n",
        "        print(\"*\", end=\"\")\n",
        "\n",
        "    print()  # Move to the n"
      ],
      "metadata": {
        "colab": {
          "base_uri": "https://localhost:8080/"
        },
        "id": "rN9j6V2n83-B",
        "outputId": "55a2c7b5-d737-42eb-d675-27bcc5f861ec"
      },
      "id": "rN9j6V2n83-B",
      "execution_count": 3,
      "outputs": [
        {
          "output_type": "stream",
          "name": "stdout",
          "text": [
            "  *\n",
            " ***\n",
            "*****\n",
            " ***\n",
            "  *\n"
          ]
        }
      ]
    },
    {
      "cell_type": "markdown",
      "source": [
        "Problem 10: Real-life while + nested loop scenario\n",
        "# Scenario: Logging hours worked for each employee in a small team over a week\n",
        "# Task: While loop through employees and nested for loop through 7 days to input and print hours."
      ],
      "metadata": {
        "id": "VIxDRpkJaozA"
      },
      "id": "VIxDRpkJaozA"
    }
  ],
  "metadata": {
    "colab": {
      "provenance": [],
      "include_colab_link": true
    },
    "language_info": {
      "name": "python"
    },
    "kernelspec": {
      "name": "python3",
      "display_name": "Python 3"
    }
  },
  "nbformat": 4,
  "nbformat_minor": 5
}