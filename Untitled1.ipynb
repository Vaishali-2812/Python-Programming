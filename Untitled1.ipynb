{
  "nbformat": 4,
  "nbformat_minor": 0,
  "metadata": {
    "colab": {
      "provenance": [],
      "authorship_tag": "ABX9TyOHxz6lNptBTJpPMHCnwiAw",
      "include_colab_link": true
    },
    "kernelspec": {
      "name": "python3",
      "display_name": "Python 3"
    },
    "language_info": {
      "name": "python"
    }
  },
  "cells": [
    {
      "cell_type": "markdown",
      "metadata": {
        "id": "view-in-github",
        "colab_type": "text"
      },
      "source": [
        "<a href=\"https://colab.research.google.com/github/Vaishali-2812/Python-Programming/blob/main/Untitled1.ipynb\" target=\"_parent\"><img src=\"https://colab.research.google.com/assets/colab-badge.svg\" alt=\"Open In Colab\"/></a>"
      ]
    },
    {
      "cell_type": "markdown",
      "source": [
        "**Assignment no 1**\n",
        "\n",
        "\"A bag contains 45 apples,65 oranges and 30 bananas. Find the percentage of each type of food items in the bag.\""
      ],
      "metadata": {
        "id": "CAFAHpvz6kC9"
      }
    },
    {
      "cell_type": "code",
      "execution_count": 18,
      "metadata": {
        "colab": {
          "base_uri": "https://localhost:8080/"
        },
        "id": "TxtRROy66gqF",
        "outputId": "dfc97cb9-92e9-4c17-b501-4ab6e87b13b4"
      },
      "outputs": [
        {
          "output_type": "stream",
          "name": "stdout",
          "text": [
            "Percentage_of_Apples = 32.14%\n",
            "Percentage of Oranges = 46.429%\n",
            "Percentage of Bananas = 21.4286%\n"
          ]
        }
      ],
      "source": [
        "# Total fruits\n",
        "total_fruits = 45 + 65 + 30\n",
        "\n",
        "# percentage of each fruit\n",
        "apple_percentage = (45 / total_fruits) * 100\n",
        "orange_percentage = (65 / total_fruits) * 100\n",
        "banana_percentage = (30 / total_fruits) * 100\n",
        "\n",
        "# Print the percentages\n",
        "# f string = Inside the string, you can embed expressions within curly braces {}.\n",
        "# These expressions will be evaluated at runtime,\n",
        "# and their values will be inserted into the string.\n",
        "\n",
        "# Format Specifier: The :.2f specifier is specifically designed to format\n",
        "# floating-point numbers with a fixed number of decimal places,\n",
        "# ensuring that the output has the desired precision.\n",
        "print(f\"Percentage_of_Apples = {apple_percentage :.2f}%\")\n",
        "print(f\"Percentage of Oranges = {orange_percentage :.3f}%\")\n",
        "print(f\"Percentage of Bananas = {banana_percentage :.4f}%\")\n",
        "\n",
        "#number = apple_percentage\n",
        "#rounded_percentage= round(number,2)\n"
      ]
    }
  ]
}