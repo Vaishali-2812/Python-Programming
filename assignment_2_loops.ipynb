{
  "cells": [
    {
      "cell_type": "markdown",
      "metadata": {
        "id": "view-in-github",
        "colab_type": "text"
      },
      "source": [
        "<a href=\"https://colab.research.google.com/github/Vaishali-2812/Python-Programming/blob/Python_Learning/assignment_2_loops.ipynb\" target=\"_parent\"><img src=\"https://colab.research.google.com/assets/colab-badge.svg\" alt=\"Open In Colab\"/></a>"
      ]
    },
    {
      "cell_type": "code",
      "execution_count": null,
      "id": "7a5ce2e6",
      "metadata": {
        "id": "7a5ce2e6"
      },
      "outputs": [],
      "source": [
        "# Assignment 2: Loops and Control Statements\n",
        "# Topic: while loops, break/continue/pass, nested loops, and patterns\n",
        "# Format: Google Colab Notebook\n",
        "# Instructions: Solve each problem with clear code and comments. Add explanations where needed.\n",
        "\n",
        "# ------------------\n",
        "\n",
        "\n",
        "# ------------------\n",
        "#\n",
        "\n",
        "# ------------------\n",
        "#\n",
        "\n",
        "# ------------------\n",
        "#\n",
        "\n",
        "# ------------------\n",
        "#\n",
        "\n",
        "# ------------------\n",
        "#\n",
        "\n",
        "# ------------------\n",
        "#\n",
        "\n",
        "# ------------------\n",
        "#\n",
        "# ------------------\n",
        "#\n",
        "\n",
        "# ------------------\n",
        "#\n"
      ]
    },
    {
      "cell_type": "markdown",
      "source": [
        "# Problem 1: Counting with a while loop\n",
        "# Scenario: You are a cashier counting the number of customers entering a store until closing time.\n",
        "# Task: Print numbers from 1 to 10 using a while loop.\n"
      ],
      "metadata": {
        "id": "S6uciWymLBmQ"
      },
      "id": "S6uciWymLBmQ"
    },
    {
      "cell_type": "code",
      "source": [
        "customer_count = 1\n",
        "\n",
        "while customer_count <= 10:\n",
        "  print(customer_count)\n",
        "  customer_count += 1"
      ],
      "metadata": {
        "colab": {
          "base_uri": "https://localhost:8080/"
        },
        "id": "S8VlH9lcLGnC",
        "outputId": "c4adfad8-32ae-41e9-a2e4-4af3a00071e6"
      },
      "id": "S8VlH9lcLGnC",
      "execution_count": 2,
      "outputs": [
        {
          "output_type": "stream",
          "name": "stdout",
          "text": [
            "0\n",
            "1\n",
            "2\n",
            "3\n",
            "4\n",
            "5\n",
            "6\n",
            "7\n",
            "8\n",
            "9\n",
            "10\n"
          ]
        }
      ]
    },
    {
      "cell_type": "markdown",
      "source": [
        "Problem 2: Using break\n",
        "# Scenario: Emergency stop in an elevator system.\n",
        "# Task: Use a loop to simulate elevator floors 1 to 20. Break the loop if floor 13 is reached.\n"
      ],
      "metadata": {
        "id": "ckB7M3CoMHzO"
      },
      "id": "ckB7M3CoMHzO"
    },
    {
      "cell_type": "code",
      "source": [
        "for floor in range(1,20):\n",
        "  print(\"Elevator on floor :\", floor)\n",
        "\n",
        "  if floor == 13:\n",
        "    print(\"Emergency stop at floor 13!\")\n",
        "    break"
      ],
      "metadata": {
        "colab": {
          "base_uri": "https://localhost:8080/"
        },
        "id": "YOhAUQMPMK1V",
        "outputId": "df0bc0eb-4206-4a21-b62d-48e273f57e62"
      },
      "id": "YOhAUQMPMK1V",
      "execution_count": 6,
      "outputs": [
        {
          "output_type": "stream",
          "name": "stdout",
          "text": [
            "Elevator on floor : 1\n",
            "Elevator on floor : 2\n",
            "Elevator on floor : 3\n",
            "Elevator on floor : 4\n",
            "Elevator on floor : 5\n",
            "Elevator on floor : 6\n",
            "Elevator on floor : 7\n",
            "Elevator on floor : 8\n",
            "Elevator on floor : 9\n",
            "Elevator on floor : 10\n",
            "Elevator on floor : 11\n",
            "Elevator on floor : 12\n",
            "Elevator on floor : 13\n",
            "Emergency stop at floor 13!\n"
          ]
        }
      ]
    },
    {
      "cell_type": "markdown",
      "source": [
        "Problem 3: Using continue\n",
        "# Scenario: Skipping defective items in a quality check.\n",
        "# Task: Print numbers from 1 to 10, skip number 5 using continue."
      ],
      "metadata": {
        "id": "0Wr38pcHNXRT"
      },
      "id": "0Wr38pcHNXRT"
    },
    {
      "cell_type": "code",
      "source": [
        "for number in range(1,11):\n",
        "  if number == 5:\n",
        "    continue\n",
        "    print(number)\n",
        "  else:\n",
        "      print(number)"
      ],
      "metadata": {
        "colab": {
          "base_uri": "https://localhost:8080/"
        },
        "id": "2fjR79J-NfBW",
        "outputId": "8efd84d7-ccef-4158-f715-90589aa3e016"
      },
      "id": "2fjR79J-NfBW",
      "execution_count": 12,
      "outputs": [
        {
          "output_type": "stream",
          "name": "stdout",
          "text": [
            "1\n",
            "2\n",
            "3\n",
            "4\n",
            "6\n",
            "7\n",
            "8\n",
            "9\n",
            "10\n"
          ]
        }
      ]
    },
    {
      "cell_type": "markdown",
      "source": [
        "Problem 4: Using pass\n",
        "# Scenario: Placeholder for a to-do task in a maintenance routine.\n",
        "# Task: Loop through days of the week and use pass for Sunday.\n"
      ],
      "metadata": {
        "id": "ppI-RZcBOcMf"
      },
      "id": "ppI-RZcBOcMf"
    },
    {
      "cell_type": "code",
      "source": [
        "days_of_week = [\"Monday\",\"Tuesday\",\"wednesday\",\"Thursday\",\"Friday\",\"saturday\",\"Sunday\"]\n",
        "\n",
        "for day in days_of_week:\n",
        "  if day == \"Sunday\":\n",
        "    pass\n",
        "  else:\n",
        "    print(\"Performing maintenance for :\",day)\n"
      ],
      "metadata": {
        "colab": {
          "base_uri": "https://localhost:8080/"
        },
        "id": "SsHXlTfMOzE2",
        "outputId": "c4903b01-3adf-45c1-e0d1-39bfe94afdea"
      },
      "id": "SsHXlTfMOzE2",
      "execution_count": 14,
      "outputs": [
        {
          "output_type": "stream",
          "name": "stdout",
          "text": [
            "Performing maintenance for : Monday\n",
            "Performing maintenance for : Tuesday\n",
            "Performing maintenance for : wednesday\n",
            "Performing maintenance for : Thursday\n",
            "Performing maintenance for : Friday\n",
            "Performing maintenance for : saturday\n"
          ]
        }
      ]
    },
    {
      "cell_type": "markdown",
      "source": [
        "Problem 5: Nested loops for pattern\n",
        "# Task: Print the following pattern using nested loops:\n",
        "# *\n",
        "# **\n",
        "# ***\n",
        "# ****\n",
        "# *****\n"
      ],
      "metadata": {
        "id": "sQPMUkkaQQIs"
      },
      "id": "sQPMUkkaQQIs"
    },
    {
      "cell_type": "code",
      "source": [
        "rows = 5\n",
        "\n",
        "for i in range(1,6):\n",
        "  for j in range(i):\n",
        "   print(\"*\" , end=\"\")\n",
        "  print()\n"
      ],
      "metadata": {
        "colab": {
          "base_uri": "https://localhost:8080/"
        },
        "id": "zEeSgfI5RIqM",
        "outputId": "16dd2d4c-a452-436c-f8d3-68ce3e2ddc46"
      },
      "id": "zEeSgfI5RIqM",
      "execution_count": 17,
      "outputs": [
        {
          "output_type": "stream",
          "name": "stdout",
          "text": [
            "*\n",
            "**\n",
            "***\n",
            "****\n",
            "*****\n"
          ]
        }
      ]
    },
    {
      "cell_type": "code",
      "source": [],
      "metadata": {
        "id": "lFKIOPRARIMQ"
      },
      "id": "lFKIOPRARIMQ",
      "execution_count": null,
      "outputs": []
    },
    {
      "cell_type": "markdown",
      "source": [
        " Problem 6: Real-life nested loop - Scheduling\n",
        "# Scenario: Printing weekly timetable slots.\n",
        "# Task: Use nested loops to print days of the week and 3 time slots for each."
      ],
      "metadata": {
        "id": "3Od_bYCnSUHU"
      },
      "id": "3Od_bYCnSUHU"
    },
    {
      "cell_type": "code",
      "source": [
        "days = [\"Monday\",\"Tuesday\",\"wednesday\",\"Thursday\",\"Friday\",\"saturday\",\"Sunday\"]\n",
        "\n",
        "time_slots = [\"Morning\",\"Afternoon\",\"Evening\"]\n",
        "\n",
        "for day in days:\n",
        "  print(day +\":\")\n",
        "  for time in time_slots:\n",
        "    print(\"\\t\"+ time)\n",
        "    print()\n"
      ],
      "metadata": {
        "colab": {
          "base_uri": "https://localhost:8080/"
        },
        "id": "Jftgb0PAS3Tg",
        "outputId": "c11fa24a-0783-49c9-cf67-168913881dee"
      },
      "id": "Jftgb0PAS3Tg",
      "execution_count": 19,
      "outputs": [
        {
          "output_type": "stream",
          "name": "stdout",
          "text": [
            "Monday:\n",
            "\tMorning\n",
            "\n",
            "\tAfternoon\n",
            "\n",
            "\tEvening\n",
            "\n",
            "Tuesday:\n",
            "\tMorning\n",
            "\n",
            "\tAfternoon\n",
            "\n",
            "\tEvening\n",
            "\n",
            "wednesday:\n",
            "\tMorning\n",
            "\n",
            "\tAfternoon\n",
            "\n",
            "\tEvening\n",
            "\n",
            "Thursday:\n",
            "\tMorning\n",
            "\n",
            "\tAfternoon\n",
            "\n",
            "\tEvening\n",
            "\n",
            "Friday:\n",
            "\tMorning\n",
            "\n",
            "\tAfternoon\n",
            "\n",
            "\tEvening\n",
            "\n",
            "saturday:\n",
            "\tMorning\n",
            "\n",
            "\tAfternoon\n",
            "\n",
            "\tEvening\n",
            "\n",
            "Sunday:\n",
            "\tMorning\n",
            "\n",
            "\tAfternoon\n",
            "\n",
            "\tEvening\n",
            "\n"
          ]
        }
      ]
    },
    {
      "cell_type": "markdown",
      "source": [
        "Problem 7: While loop with break (medium)\n",
        "# Scenario: ATM password check\n",
        "# Task: Give the user 3 chances to enter the correct password using while loop and break if correct.\n"
      ],
      "metadata": {
        "id": "dVITVK0PUuFM"
      },
      "id": "dVITVK0PUuFM"
    },
    {
      "cell_type": "code",
      "source": [
        "correct_password = \"9898\"\n",
        "\n",
        "attempts = 0\n",
        "\n",
        "while attempts < 3:\n",
        "  password = input(\"Enter your password : \")\n",
        "\n",
        "  if password == correct_password:\n",
        "    print(\"Access granted \")\n",
        "    break\n",
        "\n",
        "  else:\n",
        "    attempts += 1\n",
        "    print(\"Incorrect password. Attempts remaining :\",3 - attempts)\n",
        "\n",
        "if attempts == 3:\n",
        "  print(\"Access denied. Too many incorrct attempts.\")"
      ],
      "metadata": {
        "colab": {
          "base_uri": "https://localhost:8080/"
        },
        "id": "lz15qmEsUws0",
        "outputId": "94042006-13a2-44c6-f7ac-39b7d8fedf19"
      },
      "id": "lz15qmEsUws0",
      "execution_count": 22,
      "outputs": [
        {
          "output_type": "stream",
          "name": "stdout",
          "text": [
            "Enter your password : 9898\n",
            "Access granted \n"
          ]
        }
      ]
    },
    {
      "cell_type": "markdown",
      "source": [
        "Problem 8: Continue with condition (medium)\n",
        "# Scenario: Filtering out expired items from stock list.\n",
        "# Task: Loop through list of item expiry days and skip expired ones (negative values)."
      ],
      "metadata": {
        "id": "_r1a_oclXMgB"
      },
      "id": "_r1a_oclXMgB"
    },
    {
      "cell_type": "code",
      "source": [
        "expiry_days = [3, -2, 5, -6, 8, -4, 0, 1]\n",
        "\n",
        "for days in expiry_days:\n",
        "  if days <= 0:\n",
        "    continue\n",
        "    print(\"Item will expire in :\",days,\"days.\")\n",
        "  else:\n",
        "    print(\"Item will expire in :\",days,\"days.\")"
      ],
      "metadata": {
        "colab": {
          "base_uri": "https://localhost:8080/"
        },
        "id": "yD0Bb4vtXdVf",
        "outputId": "fea7ab4a-5387-4bb0-828c-0d08a8060bab"
      },
      "id": "yD0Bb4vtXdVf",
      "execution_count": 26,
      "outputs": [
        {
          "output_type": "stream",
          "name": "stdout",
          "text": [
            "Item will expire in : 3 days.\n",
            "Item will expire in : 5 days.\n",
            "Item will expire in : 8 days.\n",
            "Item will expire in : 1 days.\n"
          ]
        }
      ]
    },
    {
      "cell_type": "markdown",
      "source": [
        "Problem 9: Drawing a diamond pattern (medium)\n",
        "# Task: Use nested loops to draw:\n",
        "#   *\n",
        "#  ***\n",
        "# *****\n",
        "#  ***\n",
        "#   *\n"
      ],
      "metadata": {
        "id": "-mifutl_YuEs"
      },
      "id": "-mifutl_YuEs"
    },
    {
      "cell_type": "code",
      "source": [
        "rows = 5  # You can change this to any odd number\n",
        "\n",
        "# Upper half of the diamond\n",
        "for i in range(rows // 2 + 1):  # Iterate for the upper half rows\n",
        "    # Print spaces for alignment\n",
        "    for j in range(rows // 2 - i):\n",
        "        print(\" \", end=\"\")\n",
        "\n",
        "    # Print stars for the pattern\n",
        "    for j in range(2 * i + 1):\n",
        "        print(\"*\", end=\"\")\n",
        "\n",
        "    print()  # Move to the next line\n",
        "\n",
        "# Lower half of the diamond\n",
        "for i in range(rows // 2):  # Iterate for the lower half rows\n",
        "    # Print spaces for alignment\n",
        "    for j in range(i + 1):\n",
        "        print(\" \", end=\"\")\n",
        "\n",
        "    # Print stars for the pattern\n",
        "    for j in range(rows - 2 * (i + 1)):\n",
        "        print(\"*\", end=\"\")\n",
        "\n",
        "    print()  # Move to the n"
      ],
      "metadata": {
        "colab": {
          "base_uri": "https://localhost:8080/"
        },
        "id": "rN9j6V2n83-B",
        "outputId": "55a2c7b5-d737-42eb-d675-27bcc5f861ec"
      },
      "id": "rN9j6V2n83-B",
      "execution_count": 3,
      "outputs": [
        {
          "output_type": "stream",
          "name": "stdout",
          "text": [
            "  *\n",
            " ***\n",
            "*****\n",
            " ***\n",
            "  *\n"
          ]
        }
      ]
    },
    {
      "cell_type": "markdown",
      "source": [
        "Problem 10: Real-life while + nested loop scenario\n",
        "# Scenario: Logging hours worked for each employee in a small team over a week\n",
        "# Task: While loop through employees and nested for loop through 7 days to input and print hours."
      ],
      "metadata": {
        "id": "VIxDRpkJaozA"
      },
      "id": "VIxDRpkJaozA"
    }
  ],
  "metadata": {
    "colab": {
      "provenance": [],
      "include_colab_link": true
    },
    "language_info": {
      "name": "python"
    },
    "kernelspec": {
      "name": "python3",
      "display_name": "Python 3"
    }
  },
  "nbformat": 4,
  "nbformat_minor": 5
}