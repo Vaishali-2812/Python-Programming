{
  "nbformat": 4,
  "nbformat_minor": 0,
  "metadata": {
    "colab": {
      "provenance": [],
      "include_colab_link": true
    },
    "kernelspec": {
      "name": "python3",
      "display_name": "Python 3"
    },
    "language_info": {
      "name": "python"
    }
  },
  "cells": [
    {
      "cell_type": "markdown",
      "metadata": {
        "id": "view-in-github",
        "colab_type": "text"
      },
      "source": [
        "<a href=\"https://colab.research.google.com/github/Vaishali-2812/Python-Programming/blob/Python_Learning/Lists_assignment.ipynb\" target=\"_parent\"><img src=\"https://colab.research.google.com/assets/colab-badge.svg\" alt=\"Open In Colab\"/></a>"
      ]
    },
    {
      "cell_type": "markdown",
      "source": [
        "## <u>Problem 1</u>\n",
        "\n",
        "A list contains the average daily temperature(in degree Celsius) of a city over a particular week. Write a Python code to swap the highest and the lowest temperatures"
      ],
      "metadata": {
        "id": "2TakbHeLz2jq"
      }
    },
    {
      "cell_type": "code",
      "execution_count": 3,
      "metadata": {
        "id": "b1FntA4uzmo6",
        "colab": {
          "base_uri": "https://localhost:8080/"
        },
        "outputId": "3edd4047-6c02-4068-80f9-058212c6a86f"
      },
      "outputs": [
        {
          "output_type": "stream",
          "name": "stdout",
          "text": [
            "output_temperatures: [34, 40, 42, 33, 29, 37, 39]\n"
          ]
        }
      ],
      "source": [
        "# A list containing average daily temperature over a week\n",
        "temperatures = [34, 40, 29, 33, 42, 37, 39 ]\n",
        "\n",
        "# The expected output\n",
        "# output_temperatures = [34, 40, 42, 33, 29, 37, 39]\n",
        "\n",
        "# Find the indices of the highest and lowest temperatures\n",
        "max_index = temperatures.index(max(temperatures))\n",
        "min_index = temperatures.index(min(temperatures))\n",
        "\n",
        "# Swap the highest and lowest temperatures\n",
        "temperatures[max_index], temperatures[min_index] = temperatures[min_index], temperatures[max_index]\n",
        "\n",
        "# Print the updated list\n",
        "print(\"output_temperatures:\", temperatures)"
      ]
    },
    {
      "cell_type": "markdown",
      "source": [
        "\n",
        "## <u>Problem 2 </u>\n",
        "\n",
        "### Measures of Averages\n",
        "\n",
        "* Mean of a group is defined as the sum of the elements in the group divided by the number of elements in the group.\n",
        "* Median is the middle number in a <b>sorted</b>, ascending or descending, list of numbers. If the list has $N$ numbers where $N$ is odd, then median is the element in the middle i.e, $(\\frac{N+1}{2})^{th}$ element. If $N$ is even, then median is the mean of $(\\frac{N}{2})^{th}$ and $(\\frac{N}{2}+1)^{th}$ element"
      ],
      "metadata": {
        "id": "rhTLA2430G86"
      }
    },
    {
      "cell_type": "code",
      "source": [
        "# List of product prices\n",
        "\n",
        "prod_price_list = [400, 250, 800, 550, 600, 820, 720, 15000, 360,250]"
      ],
      "metadata": {
        "id": "xE0aR5jez-Y6"
      },
      "execution_count": null,
      "outputs": []
    },
    {
      "cell_type": "markdown",
      "source": [
        "## <u> Problem 3 </u>\n",
        "\n",
        "Having a nested list sometimes might be a bit problematic. An individual was asked to collect the names of companies in the technology sector. While creating the list, by mistake the last three companies were subsumed in a list as shown below. You are required to get rid of the nesting"
      ],
      "metadata": {
        "id": "Mj2AiFVN0xBg"
      }
    },
    {
      "cell_type": "code",
      "source": [
        "# The list of tech companies curated by the individual\n",
        "tech_companies = ['Qualcomm','Google','Apple',['Nvidia','Cisco','Samsung']]\n",
        "\n",
        "# The final list that we want\n",
        "# correct_tech_companies = ['Qualcomm','Google','Apple','Nvidia','Cisco','Samsung']"
      ],
      "metadata": {
        "id": "3MTF8Dv10MSE"
      },
      "execution_count": null,
      "outputs": []
    },
    {
      "cell_type": "code",
      "source": [
        "\n"
      ],
      "metadata": {
        "id": "adR2WOAK0MMQ"
      },
      "execution_count": null,
      "outputs": []
    },
    {
      "cell_type": "code",
      "source": [],
      "metadata": {
        "id": "IJhh0i000MJx"
      },
      "execution_count": null,
      "outputs": []
    }
  ]
}