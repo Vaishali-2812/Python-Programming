{
  "cells": [
    {
      "cell_type": "markdown",
      "metadata": {
        "id": "view-in-github",
        "colab_type": "text"
      },
      "source": [
        "<a href=\"https://colab.research.google.com/github/Vaishali-2812/Python-Programming/blob/Python_Learning/String_AI_UseCases_(3).ipynb\" target=\"_parent\"><img src=\"https://colab.research.google.com/assets/colab-badge.svg\" alt=\"Open In Colab\"/></a>"
      ]
    },
    {
      "cell_type": "markdown",
      "metadata": {
        "id": "OKNbXzt7n1Hr"
      },
      "source": [
        "# 💼 String Logic Challenges – AI Industry Use Cases\n",
        "These are real-world inspired string manipulation problems designed to help you think like an AI engineer.\n",
        "---"
      ]
    },
    {
      "cell_type": "markdown",
      "metadata": {
        "id": "OMTnT0B3n1Ht"
      },
      "source": [
        "## 🔹 Use Case 1: Email Subject Filter for a Customer Support Bot\n",
        "**Scenario:**\n",
        "You're building an AI support bot. Clean and format incoming messy subject lines.\n",
        "\n",
        "**Input Example:**\n",
        "`\" Re: Refund for order OD1223     \"`\n",
        "\n",
        "**Your Task:**\n",
        "- Strip leading/trailing whitespace\n",
        "- Remove noise words: `Re:`, `QUERY:`, etc.\n",
        "- Normalize casing\n",
        "- Return: `\"Standardized Subject: Refund For Order OD1223\"`"
      ]
    },
    {
      "cell_type": "code",
      "execution_count": null,
      "metadata": {
        "colab": {
          "base_uri": "https://localhost:8080/"
        },
        "id": "GAQ9S-Gfn1Hu",
        "outputId": "aa5d2302-add8-4fd6-9814-30a2e5c509e1"
      },
      "outputs": [
        {
          "output_type": "stream",
          "name": "stdout",
          "text": [
            "Re: Refund for order OD1223\n",
            " Refund for order OD1223\n",
            " refund for order od1223\n",
            " REFUND FOR ORDER OD1223\n",
            " refund for order od1223\n",
            "Standardized Subject :  refund for order od1223\n"
          ]
        }
      ],
      "source": [
        "# 👉 Try solving here\n",
        "subject = \" Re: Refund for order OD1223     \"\n",
        "# Your code here\n",
        "\n",
        "# Strip leading/trailing whitespace\n",
        "subject = subject.strip()\n",
        "print(subject)\n",
        "\n",
        "# Remove noise words: Re:, QUERY:, etc.\n",
        "words_to_remove = [\"Re:\", \"QUERY\", \"etc\"]\n",
        "\n",
        "for word in words_to_remove: subject = subject.replace(word, \"\")\n",
        "\n",
        "print(subject)\n",
        "\n",
        "# Normalize casing\n",
        "subject = subject.lower()\n",
        "print(subject)\n",
        "\n",
        "subject = subject.upper()\n",
        "print(subject)\n",
        "\n",
        "subject = subject.capitalize()\n",
        "print(subject)\n",
        "\n",
        "\n",
        "# Return: \"Standardized Subject: Refund For Order OD1223\"\n",
        "print(f\"Standardized Subject :\" ,subject)\n",
        "\n",
        "\n",
        "\n",
        "\n"
      ]
    },
    {
      "cell_type": "markdown",
      "metadata": {
        "id": "Zv3WnI4Tn1Hu"
      },
      "source": [
        "---\n",
        "## 🔹 Use Case 2: Invoice Number Extractor from Messy Text\n",
        "**Scenario:**\n",
        "Extract invoice numbers from noisy messages.\n",
        "\n",
        "**Input Example:**\n",
        "`\"Hey, invoice INV-0001234 needs to be paid!\"`\n",
        "\n",
        "**Your Task:**\n",
        "- Normalize casing\n",
        "- Remove punctuation\n",
        "- Extract and print invoice number\n",
        "- Output: `\"Extracted Invoice Number: INV-0001234\"`"
      ]
    },
    {
      "cell_type": "code",
      "source": [],
      "metadata": {
        "id": "PNipbM8yoiBv"
      },
      "execution_count": null,
      "outputs": []
    },
    {
      "cell_type": "code",
      "execution_count": 1,
      "metadata": {
        "colab": {
          "base_uri": "https://localhost:8080/"
        },
        "id": "rKwQOq1Fn1Hu",
        "outputId": "0369acbc-13d7-4ce1-eb11-dd5bffcca773"
      },
      "outputs": [
        {
          "output_type": "stream",
          "name": "stdout",
          "text": [
            "<built-in method upper of str object at 0x78cbf22a4b70>\n"
          ]
        }
      ],
      "source": [
        "# 👉 Try solving here\n",
        "message = \"Hey, invoice INV-0001234 needs to be paid!\"\n",
        "# Your code here\n",
        "\n",
        "# Normalize casing\n",
        "\n",
        "message = message.upper\n",
        "print(message)\n",
        "\n",
        "# Extract invoice numbers from noisy messages.\n",
        "\n",
        "\n",
        "\n",
        "\n",
        "\n",
        "#message = message.lower\n",
        "#print(message)\n",
        "\n",
        "#Remove punctuation\n",
        "\n",
        "\n"
      ]
    },
    {
      "cell_type": "markdown",
      "metadata": {
        "id": "eiMQwWobn1Hv"
      },
      "source": [
        "---\n",
        "## 🔹 Use Case 3: Multi-Field Extractor for Chatbot Prompt\n",
        "**Scenario:**\n",
        "You have messy form input from a document. Extract and format:\n",
        "- Full Name\n",
        "- Email Address\n",
        "- Company Name\n",
        "- Designation\n",
        "\n",
        "**Input Example:**\n",
        "```python\n",
        "\" Name :   saurabh sharma  \\n Email: SAURABH@ETHOVISE.com  \\nCompany = ethovise Tech  \\n role :  Data scientist\"\n",
        "```\n",
        "\n",
        "**Your Task:**\n",
        "- Clean and extract all values\n",
        "- Format as:\n",
        "`\"User Saurabh Sharma (Data Scientist at Ethovise Tech) can be contacted at saurabh@ethovise.com\"`"
      ]
    },
    {
      "cell_type": "code",
      "execution_count": null,
      "metadata": {
        "id": "JL90S16Cn1Hv"
      },
      "outputs": [],
      "source": [
        "# 👉 Try solving here\n",
        "input_data = \" Name :   saurabh sharma  \\n Email: SAURABH@ETHOVISE.com  \\nCompany = ethovise Tech  \\n role :  Data scientist\"\n",
        "# Your code here"
      ]
    }
  ],
  "metadata": {
    "kernelspec": {
      "display_name": "Python 3",
      "language": "python",
      "name": "python3"
    },
    "language_info": {
      "name": "python"
    },
    "colab": {
      "provenance": [],
      "include_colab_link": true
    }
  },
  "nbformat": 4,
  "nbformat_minor": 0
}