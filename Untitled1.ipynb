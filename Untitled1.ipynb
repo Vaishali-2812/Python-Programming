{
  "nbformat": 4,
  "nbformat_minor": 0,
  "metadata": {
    "colab": {
      "provenance": [],
      "authorship_tag": "ABX9TyMZ8clJaetote//6Mjg3Cqt",
      "include_colab_link": true
    },
    "kernelspec": {
      "name": "python3",
      "display_name": "Python 3"
    },
    "language_info": {
      "name": "python"
    }
  },
  "cells": [
    {
      "cell_type": "markdown",
      "metadata": {
        "id": "view-in-github",
        "colab_type": "text"
      },
      "source": [
        "<a href=\"https://colab.research.google.com/github/Vaishali-2812/Python-Programming/blob/main/Untitled1.ipynb\" target=\"_parent\"><img src=\"https://colab.research.google.com/assets/colab-badge.svg\" alt=\"Open In Colab\"/></a>"
      ]
    },
    {
      "cell_type": "markdown",
      "source": [
        "\"A bag contains 45 apples,65 oranges and 30 bananas. Find the percentage of each type of food items in the bag.\""
      ],
      "metadata": {
        "id": "CAFAHpvz6kC9"
      }
    },
    {
      "cell_type": "code",
      "execution_count": 8,
      "metadata": {
        "colab": {
          "base_uri": "https://localhost:8080/"
        },
        "id": "TxtRROy66gqF",
        "outputId": "46fa4451-6b18-49fa-9629-65828ffd72c4"
      },
      "outputs": [
        {
          "output_type": "stream",
          "name": "stdout",
          "text": [
            "Percentage_of_Apples  32.142857142857146%\n"
          ]
        }
      ],
      "source": [
        "# Total number of fruits\n",
        "total_fruits = 45 + 65 + 30\n",
        "\n",
        "# Calculate the percentage of each fruit\n",
        "apple_percentage = (45 / total_fruits) * 100\n",
        "orange_percentage = (65 / total_fruits) * 100\n",
        "banana_percentage = (30 / total_fruits) * 100\n",
        "\n",
        "# Print the percentages\n",
        "print(f\"Percentage_of_Apples  {apple_percentage}%\")\n",
        "#print(\"Percentage of Oranges = orange_percentage%\")\n",
        "#print(\"Percentage of Bananas = banana_percentage%\")"
      ]
    }
  ]
}