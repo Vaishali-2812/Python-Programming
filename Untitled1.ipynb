{
  "nbformat": 4,
  "nbformat_minor": 0,
  "metadata": {
    "colab": {
      "provenance": [],
      "authorship_tag": "ABX9TyPFLcoZc2Y+jZpRwrVlgRp7",
      "include_colab_link": true
    },
    "kernelspec": {
      "name": "python3",
      "display_name": "Python 3"
    },
    "language_info": {
      "name": "python"
    }
  },
  "cells": [
    {
      "cell_type": "markdown",
      "metadata": {
        "id": "view-in-github",
        "colab_type": "text"
      },
      "source": [
        "<a href=\"https://colab.research.google.com/github/Vaishali-2812/Python-Programming/blob/main/Untitled1.ipynb\" target=\"_parent\"><img src=\"https://colab.research.google.com/assets/colab-badge.svg\" alt=\"Open In Colab\"/></a>"
      ]
    },
    {
      "cell_type": "markdown",
      "source": [
        "**Assignment no 1**\n",
        "\n",
        "\"A bag contains 45 apples,65 oranges and 30 bananas. Find the percentage of each type of food items in the bag.\""
      ],
      "metadata": {
        "id": "CAFAHpvz6kC9"
      }
    },
    {
      "cell_type": "code",
      "execution_count": null,
      "metadata": {
        "colab": {
          "base_uri": "https://localhost:8080/"
        },
        "id": "TxtRROy66gqF",
        "outputId": "dfc97cb9-92e9-4c17-b501-4ab6e87b13b4"
      },
      "outputs": [
        {
          "output_type": "stream",
          "name": "stdout",
          "text": [
            "Percentage_of_Apples = 32.14%\n",
            "Percentage of Oranges = 46.429%\n",
            "Percentage of Bananas = 21.4286%\n"
          ]
        }
      ],
      "source": [
        "# Total fruits\n",
        "total_fruits = 45 + 65 + 30\n",
        "\n",
        "# percentage of each fruit\n",
        "apple_percentage = (45 / total_fruits) * 100\n",
        "orange_percentage = (65 / total_fruits) * 100\n",
        "banana_percentage = (30 / total_fruits) * 100\n",
        "\n",
        "# Print the percentages\n",
        "# f string = Inside the string, you can embed expressions within curly braces {}.\n",
        "# These expressions will be evaluated at runtime,\n",
        "# and their values will be inserted into the string.\n",
        "\n",
        "# Format Specifier: The :.2f specifier is specifically designed to format\n",
        "# floating-point numbers with a fixed number of decimal places,\n",
        "# ensuring that the output has the desired precision.\n",
        "print(f\"Percentage_of_Apples = {apple_percentage :.2f}%\")\n",
        "print(f\"Percentage of Oranges = {orange_percentage :.3f}%\")\n",
        "print(f\"Percentage of Bananas = {banana_percentage :.4f}%\")\n",
        "\n",
        "#number = apple_percentage\n",
        "#rounded_percentage= round(number,2)\n"
      ]
    },
    {
      "cell_type": "markdown",
      "source": [
        "**Assignment 3**\n",
        "\n",
        "You were playing a fun guessing game during your school break. There were a total of 100 participants excluding you. Out of these 100 people, 30 were Maths Majors, 45 were Economics Majors and 25 were Physics Majors.\n",
        "The game was divided into three rounds.\n",
        "\n",
        "*In the first round, you had to guess the number of Maths Majors and you correctly guessed 20 of them,\n",
        "*In the second round, you had to guess the number of Economics Majors and you correctly guessed 30 of them.\n",
        "*In the final third round, you had to guess the number of Physics Majors and you correctly guessed 20 of them.\n",
        "\n",
        " Calculate your accuracy in each of the three rounds.\n",
        "    \n",
        "\n"
      ],
      "metadata": {
        "id": "uzeHWoo3lOkd"
      }
    },
    {
      "cell_type": "code",
      "source": [
        "# Round one\n",
        "# correctly guessed = 20\n",
        "# Maths Majors = 30\n",
        "\n",
        "accuracy_in_math = (20 / 30 ) * 100\n",
        "print(f\"Round 1 accuracy:{accuracy_in_math:.2f}%\")\n",
        "\n"
      ],
      "metadata": {
        "colab": {
          "base_uri": "https://localhost:8080/"
        },
        "id": "9kkDRz4DnnHT",
        "outputId": "1efcc871-32fe-4528-aa13-267d2de2b0ea"
      },
      "execution_count": null,
      "outputs": [
        {
          "output_type": "stream",
          "name": "stdout",
          "text": [
            "Round 1 accuracy:66.67%\n"
          ]
        }
      ]
    },
    {
      "cell_type": "code",
      "source": [],
      "metadata": {
        "id": "cR03uq9ZnDeH"
      },
      "execution_count": null,
      "outputs": []
    }
  ]
}