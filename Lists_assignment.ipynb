{
  "nbformat": 4,
  "nbformat_minor": 0,
  "metadata": {
    "colab": {
      "provenance": [],
      "include_colab_link": true
    },
    "kernelspec": {
      "name": "python3",
      "display_name": "Python 3"
    },
    "language_info": {
      "name": "python"
    }
  },
  "cells": [
    {
      "cell_type": "markdown",
      "metadata": {
        "id": "view-in-github",
        "colab_type": "text"
      },
      "source": [
        "<a href=\"https://colab.research.google.com/github/Vaishali-2812/Python-Programming/blob/Python_Learning/Lists_assignment.ipynb\" target=\"_parent\"><img src=\"https://colab.research.google.com/assets/colab-badge.svg\" alt=\"Open In Colab\"/></a>"
      ]
    },
    {
      "cell_type": "markdown",
      "source": [
        "## <u>Problem 1</u>\n",
        "\n",
        "A list contains the average daily temperature(in degree Celsius) of a city over a particular week. Write a Python code to swap the highest and the lowest temperatures"
      ],
      "metadata": {
        "id": "2TakbHeLz2jq"
      }
    },
    {
      "cell_type": "code",
      "execution_count": null,
      "metadata": {
        "id": "b1FntA4uzmo6"
      },
      "outputs": [],
      "source": [
        "# A list containing average daily temperature over a week\n",
        "#temperatures = [34, 40, 29, 33, 42, 37, 39 ]\n",
        "\n",
        "# The expected output\n",
        "# output_temperatures = [34, 40, 42, 33, 29, 37, 39]"
      ]
    },
    {
      "cell_type": "code",
      "source": [
        "temperatures = [34, 40, 29, 33, 42, 37, 39 ]\n",
        "\n",
        "# Find the index of the minimum and maximum elements\n",
        "min_index = temperatures.index(min(temperatures))\n",
        "max_index = temperatures.index(max(temperatures))\n",
        "\n",
        "# Swap the elements\n",
        "temperatures[min_index], temperatures[max_index] = temperatures[max_index], temperatures[min_index]\n",
        "\n",
        "print(temperatures)\n"
      ],
      "metadata": {
        "id": "99QR6pEQXSpm",
        "colab": {
          "base_uri": "https://localhost:8080/"
        },
        "outputId": "d2e18221-739f-4c79-d727-0d44e4a30b36"
      },
      "execution_count": 3,
      "outputs": [
        {
          "output_type": "stream",
          "name": "stdout",
          "text": [
            "[34, 40, 42, 33, 29, 37, 39]\n"
          ]
        }
      ]
    },
    {
      "cell_type": "markdown",
      "source": [
        "\n",
        "## <u>Problem 2 </u>\n",
        "\n",
        "### Measures of Averages\n",
        "\n",
        "* Mean of a group is defined as the sum of the elements in the group divided by the number of elements in the group.\n",
        "* Median is the middle number in a <b>sorted</b>, ascending or descending, list of numbers. If the list has $N$ numbers where $N$ is odd, then median is the element in the middle i.e, $(\\frac{N+1}{2})^{th}$ element. If $N$ is even, then median is the mean of $(\\frac{N}{2})^{th}$ and $(\\frac{N}{2}+1)^{th}$ element"
      ],
      "metadata": {
        "id": "rhTLA2430G86"
      }
    },
    {
      "cell_type": "code",
      "source": [
        "# List of product prices\n",
        "\n",
        "prod_price_list = [400, 250, 800, 550, 600, 820, 720, 15000, 360,250]"
      ],
      "metadata": {
        "id": "xE0aR5jez-Y6"
      },
      "execution_count": null,
      "outputs": []
    },
    {
      "cell_type": "markdown",
      "source": [
        "## <u> Problem 3 </u>\n",
        "\n",
        "Having a nested list sometimes might be a bit problematic. An individual was asked to collect the names of companies in the technology sector. While creating the list, by mistake the last three companies were subsumed in a list as shown below. You are required to get rid of the nesting"
      ],
      "metadata": {
        "id": "Mj2AiFVN0xBg"
      }
    },
    {
      "cell_type": "code",
      "source": [
        "# The list of tech companies curated by the individual\n",
        "tech_companies = ['Qualcomm','Google','Apple',['Nvidia','Cisco','Samsung']]\n",
        "\n",
        "# list slicing and concatenation\n",
        "correct_tech_companies = tech_companies[:3] + tech_companies[-1]\n",
        "\n",
        "# The final list that we want\n",
        "# correct_tech_companies = ['Qualcomm','Google','Apple','Nvidia','Cisco','Samsung']\n",
        "\n",
        "print(f\"correct_tech_companies:{correct_tech_companies}\")\n",
        "\n"
      ],
      "metadata": {
        "id": "3MTF8Dv10MSE",
        "colab": {
          "base_uri": "https://localhost:8080/"
        },
        "outputId": "79975586-8643-4fc3-ae13-065cd29cb656"
      },
      "execution_count": null,
      "outputs": [
        {
          "output_type": "stream",
          "name": "stdout",
          "text": [
            "correct_tech_companies:['Qualcomm', 'Google', 'Apple', 'Nvidia', 'Cisco', 'Samsung']\n"
          ]
        }
      ]
    },
    {
      "cell_type": "code",
      "source": [
        "\n"
      ],
      "metadata": {
        "id": "adR2WOAK0MMQ"
      },
      "execution_count": null,
      "outputs": []
    },
    {
      "cell_type": "code",
      "source": [],
      "metadata": {
        "id": "IJhh0i000MJx"
      },
      "execution_count": null,
      "outputs": []
    }
  ]
}