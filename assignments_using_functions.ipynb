{
  "nbformat": 4,
  "nbformat_minor": 0,
  "metadata": {
    "colab": {
      "provenance": [],
      "authorship_tag": "ABX9TyO3txeEU83TFglWOZpW8LUc",
      "include_colab_link": true
    },
    "kernelspec": {
      "name": "python3",
      "display_name": "Python 3"
    },
    "language_info": {
      "name": "python"
    }
  },
  "cells": [
    {
      "cell_type": "markdown",
      "metadata": {
        "id": "view-in-github",
        "colab_type": "text"
      },
      "source": [
        "<a href=\"https://colab.research.google.com/github/Vaishali-2812/Python-Programming/blob/Python_Learning/assignments_using_functions.ipynb\" target=\"_parent\"><img src=\"https://colab.research.google.com/assets/colab-badge.svg\" alt=\"Open In Colab\"/></a>"
      ]
    },
    {
      "cell_type": "markdown",
      "source": [
        "**You have a list of product prices: [10, 15.5, 8.75, 22]. Print each product's price prefixed with 'Product Price: Rs ' using a for loop.**"
      ],
      "metadata": {
        "id": "OHl-pwHnoj-L"
      }
    },
    {
      "cell_type": "code",
      "execution_count": 19,
      "metadata": {
        "colab": {
          "base_uri": "https://localhost:8080/"
        },
        "id": "cNxUTk46n5nA",
        "outputId": "747459e9-f3ef-4d5f-dded-c28f3bb768f5"
      },
      "outputs": [
        {
          "output_type": "stream",
          "name": "stdout",
          "text": [
            "Product Price: Rs 10\n",
            "Product Price: Rs 15.5\n",
            "Product Price: Rs 8.75\n",
            "Product Price: Rs 22\n"
          ]
        }
      ],
      "source": [
        "product_prices = [10, 15.5, 8.75, 22]\n",
        "\n",
        "\n",
        "def print_product_price(product_prices):\n",
        "   \"\"\"\n",
        "    Print each product's price prefixed with 'Product Price: Rs ' using a for loop\n",
        "   \"\"\"\n",
        "print_product_price(product_prices)\n",
        "for price in product_prices:\n",
        "    print(f\"Product Price: Rs {price}\")"
      ]
    }
  ]
}