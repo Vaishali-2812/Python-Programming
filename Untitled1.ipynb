{
  "nbformat": 4,
  "nbformat_minor": 0,
  "metadata": {
    "colab": {
      "provenance": [],
      "authorship_tag": "ABX9TyOI23icLhBtuVLbcNmNokBC",
      "include_colab_link": true
    },
    "kernelspec": {
      "name": "python3",
      "display_name": "Python 3"
    },
    "language_info": {
      "name": "python"
    }
  },
  "cells": [
    {
      "cell_type": "markdown",
      "metadata": {
        "id": "view-in-github",
        "colab_type": "text"
      },
      "source": [
        "<a href=\"https://colab.research.google.com/github/Vaishali-2812/Python-Programming/blob/main/Untitled1.ipynb\" target=\"_parent\"><img src=\"https://colab.research.google.com/assets/colab-badge.svg\" alt=\"Open In Colab\"/></a>"
      ]
    },
    {
      "cell_type": "markdown",
      "source": [
        "**Assignment no 1**\n",
        "\n",
        "\"A bag contains 45 apples,65 oranges and 30 bananas. Find the percentage of each type of food items in the bag.\""
      ],
      "metadata": {
        "id": "CAFAHpvz6kC9"
      }
    },
    {
      "cell_type": "code",
      "execution_count": 11,
      "metadata": {
        "colab": {
          "base_uri": "https://localhost:8080/"
        },
        "id": "TxtRROy66gqF",
        "outputId": "31a60e1a-f834-4f43-ace4-ab8c597bf88c"
      },
      "outputs": [
        {
          "output_type": "stream",
          "name": "stdout",
          "text": [
            "Percentage_of_Apples = 32.142857142857146%\n",
            "Percentage of Oranges = 46.42857142857143%\n",
            "Percentage of Bananas = 21.428571428571427%\n"
          ]
        }
      ],
      "source": [
        "# Total fruits\n",
        "total_fruits = 45 + 65 + 30\n",
        "\n",
        "# percentage of each fruit\n",
        "apple_percentage = (45 / total_fruits) * 100\n",
        "orange_percentage = (65 / total_fruits) * 100\n",
        "banana_percentage = (30 / total_fruits) * 100\n",
        "\n",
        "# Print the percentages\n",
        "# f string = Inside the string, you can embed expressions within curly braces {}.\n",
        "# These expressions will be evaluated at runtime,\n",
        "# and their values will be inserted into the string.\n",
        "print(f\"Percentage_of_Apples = {apple_percentage}%\")\n",
        "print(f\"Percentage of Oranges = {orange_percentage}%\")\n",
        "print(f\"Percentage of Bananas = {banana_percentage}%\")\n",
        "\n",
        "#number = apple_percentage\n",
        "#rounded_percentage= round(number,2)\n"
      ]
    }
  ]
}